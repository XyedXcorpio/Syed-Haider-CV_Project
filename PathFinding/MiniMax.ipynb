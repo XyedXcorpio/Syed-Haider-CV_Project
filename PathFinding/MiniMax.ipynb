{
 "cells": [
  {
   "cell_type": "markdown",
   "metadata": {
    "id": "2SjGFlqQpSux"
   },
   "source": [
    "# AI 500 - PA1 Minimax"
   ]
  },
  {
   "cell_type": "markdown",
   "metadata": {
    "id": "enLsUbpKpSu0"
   },
   "source": [
    "<p align=\"center\">\n",
    "  <img src=\"https://www.shutterstock.com/image-photo/game-4-row-yellow-red-600nw-2233654429.jpg\" alt=\"Connect 4\" />\n",
    "</p>\n"
   ]
  },
  {
   "cell_type": "markdown",
   "metadata": {
    "id": "WOw65KUapSu1"
   },
   "source": [
    "## Import Libraries"
   ]
  },
  {
   "cell_type": "code",
   "execution_count": 7,
   "metadata": {
    "executionInfo": {
     "elapsed": 772,
     "status": "ok",
     "timestamp": 1726261650544,
     "user": {
      "displayName": "Zubair S. Anwar",
      "userId": "05335702610296534126"
     },
     "user_tz": -300
    },
    "id": "5w9ndrK1pSu1"
   },
   "outputs": [],
   "source": [
    "# Uncomment the lines of code below to install the required libraries\n",
    "\n",
    "# %pip install math\n",
    "# %pip install termcolor\n",
    "\n",
    "# import math\n",
    "from termcolor import colored  # For coloring the printed board"
   ]
  },
  {
   "cell_type": "markdown",
   "metadata": {
    "id": "rKG6ST56pSu2"
   },
   "source": [
    "### Constants and Function for the game setup\n",
    "\n",
    "**Do NOT Alter This Code!**\n"
   ]
  },
  {
   "cell_type": "code",
   "execution_count": 8,
   "metadata": {
    "executionInfo": {
     "elapsed": 9,
     "status": "ok",
     "timestamp": 1726261651858,
     "user": {
      "displayName": "Zubair S. Anwar",
      "userId": "05335702610296534126"
     },
     "user_tz": -300
    },
    "id": "kJuYsbZTpSu3"
   },
   "outputs": [],
   "source": [
    "#board dimensions\n",
    "ROWS = 6\n",
    "COLS = 7\n",
    "\n",
    "PLAYER = 1  # player\n",
    "AI = 2  # computer\n",
    "\n",
    "EMPTY = 0  # Empty cell in the board\n",
    "WINNING_LENGTH = 4  # Number of pieces in a row needed to win\n",
    "\n",
    "# Function to create an empty board, initialising each empty spot as 0\n",
    "def create_board():\n",
    "    board = []\n",
    "    for _ in range(ROWS):\n",
    "        row = []\n",
    "        for _ in range(COLS):\n",
    "            row.append(EMPTY)\n",
    "        board.append(row)\n",
    "    return board"
   ]
  },
  {
   "cell_type": "markdown",
   "metadata": {
    "id": "X7qhgTJ6pSu3"
   },
   "source": [
    "## Checking for winning condition \n",
    "\n",
    "This function checks if the current player has won the game. It returns `True` if the player has won, otherwise it returns `False`. Remember, the winning condition is to have 4 pieces in a row (horizontally, vertically, or diagonally).\n",
    "\n",
    "<span style=\"color: green;\">You Must Implement This Function</span>\n"
   ]
  },
  {
   "cell_type": "code",
   "execution_count": 9,
   "metadata": {},
   "outputs": [],
   "source": [
    "def winning_move(board, piece):\n",
    "    #horizontal locations check\n",
    "    for r in range(ROWS):\n",
    "        c = 0\n",
    "        while c < COLS - 3:\n",
    "            count = 0\n",
    "            for i in range(4):\n",
    "                if board[r][c + i] == piece:\n",
    "                    count += 1\n",
    "                else:\n",
    "                    break\n",
    "            if count == 4:\n",
    "                return True\n",
    "            c += 1\n",
    "\n",
    "    #vertical locations check\n",
    "    c = 0\n",
    "    while c < COLS:\n",
    "        r = 0\n",
    "        while r < ROWS - 3:\n",
    "            count = 0\n",
    "            for i in range(4):\n",
    "                if board[r + i][c] == piece:\n",
    "                    count += 1\n",
    "                else:\n",
    "                    break\n",
    "            if count == 4:\n",
    "                return True\n",
    "            r += 1\n",
    "        c += 1\n",
    "\n",
    "    #positive diagonals check\n",
    "    r = 0\n",
    "    while r < ROWS - 3:\n",
    "        c = 0\n",
    "        while c < COLS - 3:\n",
    "            count = 0\n",
    "            for i in range(4):\n",
    "                if board[r + i][c + i] == piece:\n",
    "                    count += 1\n",
    "                else:\n",
    "                    break\n",
    "            if count == 4:\n",
    "                return True\n",
    "            c += 1\n",
    "        r += 1\n",
    "\n",
    "    #negative diagonals Check\n",
    "    r = 3\n",
    "    while r < ROWS:\n",
    "        c = 0\n",
    "        while c < COLS - 3:\n",
    "            count = 0\n",
    "            for i in range(4):\n",
    "                if board[r - i][c + i] == piece:\n",
    "                    count += 1\n",
    "                else:\n",
    "                    break\n",
    "            if count == 4:\n",
    "                return True\n",
    "            c += 1\n",
    "        r += 1\n",
    "\n",
    "    return False\n"
   ]
  },
  {
   "cell_type": "markdown",
   "metadata": {
    "id": "knKavwlCpSu4"
   },
   "source": [
    "### Functions for managing the game state\n",
    "\n",
    "These functions initialise the game board, check if a move is valid, and other related steps\n",
    "\n",
    "**Do NOT Alter This Code!**"
   ]
  },
  {
   "cell_type": "code",
   "execution_count": 10,
   "metadata": {
    "executionInfo": {
     "elapsed": 8,
     "status": "ok",
     "timestamp": 1726261651858,
     "user": {
      "displayName": "Zubair S. Anwar",
      "userId": "05335702610296534126"
     },
     "user_tz": -300
    },
    "id": "_4P3y_a2pSu4"
   },
   "outputs": [],
   "source": [
    "# Function to create an empty board, initialising each empty spot as 0\n",
    "def create_board():\n",
    "    board = []\n",
    "    for _ in range(ROWS):\n",
    "        row = []\n",
    "        for _ in range(COLS):\n",
    "            row.append(EMPTY)\n",
    "        board.append(row)\n",
    "    return board\n",
    "\n",
    "# Function to check if the selected column is a valid move\n",
    "def is_valid_move(board, col):\n",
    "    # A move is valid if the top cell of the column is empty\n",
    "    return board[0][col] == EMPTY\n",
    "\n",
    "# Function to get the next open row in a column\n",
    "def get_next_open_row(board, col):\n",
    "    # Starting from the bottom, find the first empty row in the selected column\n",
    "    for r in range(ROWS - 1, -1, -1):\n",
    "        if board[r][col] == EMPTY:\n",
    "            return r\n",
    "\n",
    "# Function to drop a piece into the board at the specified row and column\n",
    "def drop_piece(board, row, col, piece):\n",
    "    board[row][col] = piece\n",
    "\n",
    "# Function to evaluate the score of a specific window (subsection) of the board\n",
    "def evaluate_window(window, piece):\n",
    "    score = 0\n",
    "    opp_piece = PLAYER if piece == AI else AI\n",
    "\n",
    "    # Assign scores based on how many pieces the current player has in this window\n",
    "    if window.count(piece) == 4:\n",
    "        score += 100\n",
    "    elif window.count(piece) == 3 and window.count(EMPTY) == 1:\n",
    "        score += 5\n",
    "    elif window.count(piece) == 2 and window.count(EMPTY) == 2:\n",
    "        score += 2\n",
    "\n",
    "    # Penalize if the opponent has three pieces in a window\n",
    "    if window.count(opp_piece) == 3 and window.count(EMPTY) == 1:\n",
    "        score -= 4\n",
    "\n",
    "    return score\n",
    "\n",
    "# Function to calculate the total score of the board for the AI\n",
    "def score_position(board, piece):\n",
    "    score = 0\n",
    "\n",
    "    # Score center column higher since it's more strategic\n",
    "    center_array = [board[r][COLS // 2] for r in range(ROWS)]\n",
    "    center_count = center_array.count(piece)\n",
    "    score += center_count * 3\n",
    "\n",
    "    # Score rows\n",
    "    for r in range(ROWS):\n",
    "        row_array = [board[r][c] for c in range(COLS)]\n",
    "        for c in range(COLS - 3):\n",
    "            window = row_array[c:c + WINNING_LENGTH]\n",
    "            score += evaluate_window(window, piece)\n",
    "\n",
    "    # Score columns\n",
    "    for c in range(COLS):\n",
    "        col_array = [board[r][c] for r in range(ROWS)]\n",
    "        for r in range(ROWS - 3):\n",
    "            window = col_array[r:r + WINNING_LENGTH]\n",
    "            score += evaluate_window(window, piece)\n",
    "\n",
    "    # Score positive diagonal\n",
    "    for r in range(ROWS - 3):\n",
    "        for c in range(COLS - 3):\n",
    "            window = [board[r + i][c + i] for i in range(WINNING_LENGTH)]\n",
    "            score += evaluate_window(window, piece)\n",
    "\n",
    "    # Score negative diagonal\n",
    "    for r in range(ROWS - 3):\n",
    "        for c in range(COLS - 3):\n",
    "            window = [board[r + 3 - i][c + i] for i in range(WINNING_LENGTH)]\n",
    "            score += evaluate_window(window, piece)\n",
    "\n",
    "    return score\n",
    "\n",
    "# Function to get all valid moves (columns that are not full)\n",
    "def get_valid_moves(board):\n",
    "    return [c for c in range(COLS) if is_valid_move(board, c)]\n",
    "\n",
    "# Function to check if the game is over (terminal state)\n",
    "def is_terminal_node(board):\n",
    "    return winning_move(board, PLAYER) or winning_move(board, AI) or len(get_valid_moves(board)) == 0\n",
    "\n",
    "# Function to print the board, color-coded\n",
    "def print_board(board):\n",
    "    for row in board:\n",
    "        colored_row = []\n",
    "        for cell in row:\n",
    "            if cell == PLAYER:\n",
    "                colored_row.append(colored(str(cell), 'red'))  # Color Player's pieces red\n",
    "            elif cell == AI:\n",
    "                colored_row.append(colored(str(cell), 'green'))  # Color AI's pieces green\n",
    "            else:\n",
    "                colored_row.append(str(cell))\n",
    "        print(\" \".join(colored_row))\n",
    "    print(\"\\n\")"
   ]
  },
  {
   "cell_type": "markdown",
   "metadata": {
    "id": "HxPBigZupSu4"
   },
   "source": [
    "## Minimax Function \n",
    "\n",
    "This function implements the minimax algorithm. It should return the best move for the current player and its score as a tuple `(score, move)` where `score` is the score of the best move and `move` is the column where the piece should be placed.\n",
    "\n",
    "<span style=\"color: green;\">You Must Implement This Function</span>"
   ]
  },
  {
   "cell_type": "code",
   "execution_count": 11,
   "metadata": {},
   "outputs": [],
   "source": [
    "import math\n",
    "import random\n",
    "\n",
    "def minimax(board, depth, maximizingPlayer):\n",
    "    valid_moves = get_valid_moves(board)\n",
    "    is_terminal = is_terminal_node(board)\n",
    "\n",
    "    if is_terminal or depth == 0:\n",
    "        if is_terminal:\n",
    "            if winning_move(board, AI):\n",
    "                return (None, 100000000)  # setting infinty score if AI wins\n",
    "            elif winning_move(board, PLAYER):\n",
    "                return (None, -100000000)  # setting Very low score if player wins\n",
    "            else:\n",
    "                return (None, 0)  # Draw\n",
    "        else:\n",
    "            return (None, score_position(board, AI))  \n",
    "\n",
    "    if maximizingPlayer:\n",
    "        best_score = -math.inf\n",
    "        best_column = random.choice(valid_moves)\n",
    "        for col in valid_moves:\n",
    "           \n",
    "            temp_board = [row[:] for row in board]  \n",
    "            row = get_next_open_row(temp_board, col)\n",
    "            drop_piece(temp_board, row, col, AI)\n",
    "            new_score = minimax(temp_board, depth - 1, False)[1]\n",
    "\n",
    "            if new_score > best_score:\n",
    "                best_score = new_score\n",
    "                best_column = col\n",
    "\n",
    "        return best_column, best_score\n",
    "\n",
    "    else:  \n",
    "        best_score = math.inf\n",
    "        best_column = random.choice(valid_moves)\n",
    "        for col in valid_moves:\n",
    "            temp_board = [row[:] for row in board]  \n",
    "            row = get_next_open_row(temp_board, col)\n",
    "            drop_piece(temp_board, row, col, PLAYER)\n",
    "\n",
    "            new_score = minimax(temp_board, depth - 1, True)[1]\n",
    "\n",
    "            if new_score < best_score:\n",
    "                best_score = new_score\n",
    "                best_column = col\n",
    "\n",
    "        return best_column, best_score\n"
   ]
  },
  {
   "cell_type": "markdown",
   "metadata": {
    "id": "Y8abzojVpSu5"
   },
   "source": [
    "## Main Function\n",
    "\n",
    "This function executes the game loop. It calls the minimax function to get the best move for the current player and updates the game state accordingly. The game loop continues until the game is over.\n",
    "\n",
    "**Do NOT Alter This Code!**"
   ]
  },
  {
   "cell_type": "code",
   "execution_count": 12,
   "metadata": {
    "colab": {
     "base_uri": "https://localhost:8080/"
    },
    "executionInfo": {
     "elapsed": 95075,
     "status": "ok",
     "timestamp": 1726261746926,
     "user": {
      "displayName": "Zubair S. Anwar",
      "userId": "05335702610296534126"
     },
     "user_tz": -300
    },
    "id": "FPCd-awApSu5",
    "outputId": "74289f0e-7449-4d68-a64d-5f182886c47e"
   },
   "outputs": [
    {
     "name": "stdout",
     "output_type": "stream",
     "text": [
      "Player 1 Make your selection (0-6):  0\n"
     ]
    },
    {
     "name": "stdout",
     "output_type": "stream",
     "text": [
      "0 0 0 0 0 0 0\n",
      "0 0 0 0 0 0 0\n",
      "0 0 0 0 0 0 0\n",
      "0 0 0 0 0 0 0\n",
      "0 0 0 0 0 0 0\n",
      "\u001b[31m1\u001b[0m 0 0 0 0 0 0\n",
      "\n",
      "\n",
      "0 0 0 0 0 0 0\n",
      "0 0 0 0 0 0 0\n",
      "0 0 0 0 0 0 0\n",
      "0 0 0 0 0 0 0\n",
      "0 0 0 0 0 0 0\n",
      "\u001b[31m1\u001b[0m 0 0 \u001b[32m2\u001b[0m 0 0 0\n",
      "\n",
      "\n"
     ]
    },
    {
     "name": "stdout",
     "output_type": "stream",
     "text": [
      "Player 1 Make your selection (0-6):  0\n"
     ]
    },
    {
     "name": "stdout",
     "output_type": "stream",
     "text": [
      "0 0 0 0 0 0 0\n",
      "0 0 0 0 0 0 0\n",
      "0 0 0 0 0 0 0\n",
      "0 0 0 0 0 0 0\n",
      "\u001b[31m1\u001b[0m 0 0 0 0 0 0\n",
      "\u001b[31m1\u001b[0m 0 0 \u001b[32m2\u001b[0m 0 0 0\n",
      "\n",
      "\n",
      "0 0 0 0 0 0 0\n",
      "0 0 0 0 0 0 0\n",
      "0 0 0 0 0 0 0\n",
      "0 0 0 0 0 0 0\n",
      "\u001b[31m1\u001b[0m 0 0 \u001b[32m2\u001b[0m 0 0 0\n",
      "\u001b[31m1\u001b[0m 0 0 \u001b[32m2\u001b[0m 0 0 0\n",
      "\n",
      "\n"
     ]
    },
    {
     "name": "stdout",
     "output_type": "stream",
     "text": [
      "Player 1 Make your selection (0-6):  0\n"
     ]
    },
    {
     "name": "stdout",
     "output_type": "stream",
     "text": [
      "0 0 0 0 0 0 0\n",
      "0 0 0 0 0 0 0\n",
      "0 0 0 0 0 0 0\n",
      "\u001b[31m1\u001b[0m 0 0 0 0 0 0\n",
      "\u001b[31m1\u001b[0m 0 0 \u001b[32m2\u001b[0m 0 0 0\n",
      "\u001b[31m1\u001b[0m 0 0 \u001b[32m2\u001b[0m 0 0 0\n",
      "\n",
      "\n",
      "0 0 0 0 0 0 0\n",
      "0 0 0 0 0 0 0\n",
      "\u001b[32m2\u001b[0m 0 0 0 0 0 0\n",
      "\u001b[31m1\u001b[0m 0 0 0 0 0 0\n",
      "\u001b[31m1\u001b[0m 0 0 \u001b[32m2\u001b[0m 0 0 0\n",
      "\u001b[31m1\u001b[0m 0 0 \u001b[32m2\u001b[0m 0 0 0\n",
      "\n",
      "\n"
     ]
    },
    {
     "name": "stdout",
     "output_type": "stream",
     "text": [
      "Player 1 Make your selection (0-6):  0\n"
     ]
    },
    {
     "name": "stdout",
     "output_type": "stream",
     "text": [
      "0 0 0 0 0 0 0\n",
      "\u001b[31m1\u001b[0m 0 0 0 0 0 0\n",
      "\u001b[32m2\u001b[0m 0 0 0 0 0 0\n",
      "\u001b[31m1\u001b[0m 0 0 0 0 0 0\n",
      "\u001b[31m1\u001b[0m 0 0 \u001b[32m2\u001b[0m 0 0 0\n",
      "\u001b[31m1\u001b[0m 0 0 \u001b[32m2\u001b[0m 0 0 0\n",
      "\n",
      "\n",
      "0 0 0 0 0 0 0\n",
      "\u001b[31m1\u001b[0m 0 0 0 0 0 0\n",
      "\u001b[32m2\u001b[0m 0 0 0 0 0 0\n",
      "\u001b[31m1\u001b[0m 0 0 0 0 0 0\n",
      "\u001b[31m1\u001b[0m 0 0 \u001b[32m2\u001b[0m 0 0 0\n",
      "\u001b[31m1\u001b[0m 0 0 \u001b[32m2\u001b[0m \u001b[32m2\u001b[0m 0 0\n",
      "\n",
      "\n"
     ]
    },
    {
     "name": "stdout",
     "output_type": "stream",
     "text": [
      "Player 1 Make your selection (0-6):  0\n"
     ]
    },
    {
     "name": "stdout",
     "output_type": "stream",
     "text": [
      "\u001b[31m1\u001b[0m 0 0 0 0 0 0\n",
      "\u001b[31m1\u001b[0m 0 0 0 0 0 0\n",
      "\u001b[32m2\u001b[0m 0 0 0 0 0 0\n",
      "\u001b[31m1\u001b[0m 0 0 0 0 0 0\n",
      "\u001b[31m1\u001b[0m 0 0 \u001b[32m2\u001b[0m 0 0 0\n",
      "\u001b[31m1\u001b[0m 0 0 \u001b[32m2\u001b[0m \u001b[32m2\u001b[0m 0 0\n",
      "\n",
      "\n",
      "\u001b[31m1\u001b[0m 0 0 0 0 0 0\n",
      "\u001b[31m1\u001b[0m 0 0 0 0 0 0\n",
      "\u001b[32m2\u001b[0m 0 0 0 0 0 0\n",
      "\u001b[31m1\u001b[0m 0 0 0 0 0 0\n",
      "\u001b[31m1\u001b[0m 0 0 \u001b[32m2\u001b[0m 0 0 0\n",
      "\u001b[31m1\u001b[0m 0 \u001b[32m2\u001b[0m \u001b[32m2\u001b[0m \u001b[32m2\u001b[0m 0 0\n",
      "\n",
      "\n"
     ]
    },
    {
     "name": "stdout",
     "output_type": "stream",
     "text": [
      "Player 1 Make your selection (0-6):  0\n"
     ]
    },
    {
     "name": "stdout",
     "output_type": "stream",
     "text": [
      "\u001b[31m1\u001b[0m 0 0 0 0 0 0\n",
      "\u001b[31m1\u001b[0m 0 0 0 0 0 0\n",
      "\u001b[32m2\u001b[0m 0 0 0 0 0 0\n",
      "\u001b[31m1\u001b[0m 0 0 0 0 0 0\n",
      "\u001b[31m1\u001b[0m 0 0 \u001b[32m2\u001b[0m 0 0 0\n",
      "\u001b[31m1\u001b[0m 0 \u001b[32m2\u001b[0m \u001b[32m2\u001b[0m \u001b[32m2\u001b[0m 0 0\n",
      "\n",
      "\n",
      "PLAYER 2 (AI) WINS!!\n",
      "\u001b[31m1\u001b[0m 0 0 0 0 0 0\n",
      "\u001b[31m1\u001b[0m 0 0 0 0 0 0\n",
      "\u001b[32m2\u001b[0m 0 0 0 0 0 0\n",
      "\u001b[31m1\u001b[0m 0 0 0 0 0 0\n",
      "\u001b[31m1\u001b[0m 0 0 \u001b[32m2\u001b[0m 0 0 0\n",
      "\u001b[31m1\u001b[0m \u001b[32m2\u001b[0m \u001b[32m2\u001b[0m \u001b[32m2\u001b[0m \u001b[32m2\u001b[0m 0 0\n",
      "\n",
      "\n"
     ]
    }
   ],
   "source": [
    "## Main function to run the game\n",
    "def main():\n",
    "    board = create_board()  # Initialize the game board\n",
    "    game_over = False\n",
    "    turn = PLAYER  # Player 1 starts first\n",
    "\n",
    "    while not game_over:\n",
    "        if turn == PLAYER:\n",
    "            # Human player's turn\n",
    "            col = int(input(\"Player 1 Make your selection (0-6): \"))\n",
    "            if is_valid_move(board, col):\n",
    "                row = get_next_open_row(board, col)\n",
    "                drop_piece(board, row, col, PLAYER)\n",
    "\n",
    "                # Check if the human player won\n",
    "                if winning_move(board, PLAYER):\n",
    "                    print(\"PLAYER 1 WINS!!\")\n",
    "                    game_over = True\n",
    "\n",
    "        else:\n",
    "            # computer turn\n",
    "            col, minimax_score = minimax(board, 5, True)\n",
    "            if is_valid_move(board, col):\n",
    "                row = get_next_open_row(board, col)\n",
    "                drop_piece(board, row, col, AI)\n",
    "\n",
    "                # if computer won\n",
    "                if winning_move(board, AI):\n",
    "                    print(\"PLAYER 2 (AI) WINS!!\")\n",
    "                    game_over = True\n",
    "\n",
    "        print_board(board)  # Print the current board state\n",
    "\n",
    "        # Alternate turns\n",
    "        turn = PLAYER if turn == AI else AI\n",
    "\n",
    "        # Check for a draw\n",
    "        if len(get_valid_moves(board)) == 0 and not game_over:\n",
    "            print(\"It's a TIE!\")\n",
    "            game_over = True\n",
    "\n",
    "if __name__ == \"__main__\":\n",
    "    main()"
   ]
  },
  {
   "cell_type": "code",
   "execution_count": null,
   "metadata": {},
   "outputs": [],
   "source": []
  }
 ],
 "metadata": {
  "colab": {
   "provenance": []
  },
  "kernelspec": {
   "display_name": "Python 3 (ipykernel)",
   "language": "python",
   "name": "python3"
  },
  "language_info": {
   "codemirror_mode": {
    "name": "ipython",
    "version": 3
   },
   "file_extension": ".py",
   "mimetype": "text/x-python",
   "name": "python",
   "nbconvert_exporter": "python",
   "pygments_lexer": "ipython3",
   "version": "3.12.6"
  }
 },
 "nbformat": 4,
 "nbformat_minor": 4
}
