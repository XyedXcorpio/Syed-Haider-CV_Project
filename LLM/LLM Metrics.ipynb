{
  "cells": [
    {
      "cell_type": "markdown",
      "metadata": {
        "id": "Ar34LaC2hF-M"
      },
      "source": [
        "# **Lab: Evaluating a Summarization Model on CNN/DailyMail**\n",
        "This lab covers:\n",
        "- **Baseline evaluation**: Generating summaries with a base model\n",
        "- **Fine-tuning**: Training a summarization model on CNN/DailyMail dataset\n",
        "- **Evaluation Metrics**:\n",
        "  - Cross-entropy, perplexity (fluency)\n",
        "  - ROUGE, BLEU, BERTScore (reference-based)\n",
        "  - Coherence, fluency (reference-free)\n",
        "- **LLM as Judge**: Qualitative evaluation using LLM\n",
        "\\- **Benchmarking**: Comparing results to published benchmarks\n",
        "---\n",
        "**Instructions**: Run each cell sequentially and analyze results."
      ]
    },
    {
      "cell_type": "code",
      "metadata": {
        "id": "nMsIdKFShF-Q",
        "collapsed": true,
        "colab": {
          "base_uri": "https://localhost:8080/",
          "height": 36
        },
        "outputId": "ec3f10b9-54c7-4a74-89fb-d83ab1f70823"
      },
      "source": [
        "'''\n",
        "!pip install datasets transformers evaluate nltk rouge_score bert-score openai\n",
        "!pip install mlflow\n",
        "'''"
      ],
      "execution_count": 25,
      "outputs": [
        {
          "output_type": "execute_result",
          "data": {
            "text/plain": [
              "'\\n!pip install datasets transformers evaluate nltk rouge_score bert-score openai\\n!pip install mlflow\\n'"
            ],
            "application/vnd.google.colaboratory.intrinsic+json": {
              "type": "string"
            }
          },
          "metadata": {},
          "execution_count": 25
        }
      ]
    },
    {
      "cell_type": "code",
      "metadata": {
        "id": "P6Om9t_xhF-S"
      },
      "source": [
        "import torch\n",
        "from transformers import BartForConditionalGeneration, BartTokenizer, TrainingArguments, Trainer\n",
        "from datasets import load_dataset\n",
        "import evaluate\n",
        "from nltk.translate.bleu_score import sentence_bleu\n",
        "from rouge_score import rouge_scorer\n",
        "from bert_score import score\n",
        "import openai\n",
        "import math\n",
        "import random\n",
        "import numpy as np\n",
        "from datasets import load_dataset\n",
        "from transformers import pipeline\n",
        "from transformers import AutoTokenizer, AutoModelForSeq2SeqLM\n",
        "import re\n",
        "import mlflow\n",
        "from transformers import TrainingArguments, Trainer\n",
        "from transformers import AutoModelForCausalLM\n",
        "import pandas as pd\n",
        "import matplotlib.pyplot as plt"
      ],
      "execution_count": 26,
      "outputs": []
    },
    {
      "cell_type": "code",
      "metadata": {
        "id": "UCGT26U-hF-T",
        "collapsed": true,
        "colab": {
          "base_uri": "https://localhost:8080/"
        },
        "outputId": "d34943fc-db3b-4d85-d89e-54f86452b069"
      },
      "source": [
        "\n",
        "dataset = load_dataset(\"cnn_dailymail\", \"3.0.0\")\n",
        "\n",
        "dataset = dataset[\"test\"].select(range(80))\n",
        "finetuned_dataset = dataset.select(range(len(dataset)))\n",
        "dataset\n"
      ],
      "execution_count": 27,
      "outputs": [
        {
          "output_type": "execute_result",
          "data": {
            "text/plain": [
              "Dataset({\n",
              "    features: ['article', 'highlights', 'id'],\n",
              "    num_rows: 80\n",
              "})"
            ]
          },
          "metadata": {},
          "execution_count": 27
        }
      ]
    },
    {
      "cell_type": "code",
      "source": [
        "finetuned_dataset"
      ],
      "metadata": {
        "colab": {
          "base_uri": "https://localhost:8080/"
        },
        "id": "tg6glnGVLSij",
        "outputId": "a2b5040a-943c-4fe5-b1fc-ea6c5b57a2e4"
      },
      "execution_count": 28,
      "outputs": [
        {
          "output_type": "execute_result",
          "data": {
            "text/plain": [
              "Dataset({\n",
              "    features: ['article', 'highlights', 'id'],\n",
              "    num_rows: 80\n",
              "})"
            ]
          },
          "metadata": {},
          "execution_count": 28
        }
      ]
    },
    {
      "cell_type": "code",
      "metadata": {
        "id": "ZnrI4yuPhF-U",
        "collapsed": true
      },
      "source": [
        "model_name = \"t5-base\"\n",
        "tokenizer = AutoTokenizer.from_pretrained(model_name)\n",
        "model = AutoModelForSeq2SeqLM.from_pretrained(model_name)"
      ],
      "execution_count": 29,
      "outputs": []
    },
    {
      "cell_type": "markdown",
      "source": [
        "## Generate Summary (TODO)\n",
        "\n",
        "1. **Prints Progress:**  \n",
        "   For each article, the function prints a message like \"Processing article X of Y...\" so you know which article is being processed.\n",
        "\n",
        "2. **Prepares the Input:**  \n",
        "   The function adds the prefix `\"summarize: \"` to the article text. This prefix is required by T5 models to indicate that the task is summarization.\n",
        "\n",
        "3. **Tokenization and Truncation:**  \n",
        "   The article (with its prefix) is tokenized using the T5 tokenizer. The input is truncated to a maximum token length of 512 to ensure it fits the model’s input requirements.\n",
        "\n",
        "4. **Summary Generation:**  \n",
        "   The model generates a summary from the tokenized input. The `max_length` parameter (default set to 100) controls the maximum length of the generated summary. Early stopping is used to end generation when appropriate.\n",
        "\n",
        "5. **Decoding the Output:**  \n",
        "   The generated tokens are decoded back into a readable summary text, omitting any special tokens.\n",
        "\n",
        "6. **Calculating Metrics:**  \n",
        "   - **Original Word Count:** Counts the number of words in the original article.\n",
        "   - **Summary Word Count:** Counts the words in the generated summary.\n",
        "   - **Compression Ratio:** Calculates the ratio of the summary length to the original length. This gives you an idea of how much shorter the summary is compared to the full article.\n",
        "\n",
        "7. **Storing the Results:**  \n",
        "   The function returns the summary and the calculated metrics. Then, using a list comprehension, the code applies the function to every article in the dataset. Finally, the generated summaries are added as a new column (`generated_summary`) to the dataset.\n"
      ],
      "metadata": {
        "id": "LqAFLLCTcMIg"
      }
    },
    {
      "cell_type": "code",
      "source": [
        "def generate_summary(article, index, total, max_length=100):\n",
        "    \"\"\"\n",
        "    Generate a summary for a given article using T5, while tracking progress and compression ratio.\n",
        "    \"\"\"\n",
        "    # print(f\"Processing article {index+1} of {total}...\")\n",
        "    #TODO\n",
        "\n",
        "    print(f\"Processing article {index+1} of {total}...\")\n",
        "    prefix = \"summarize: \"\n",
        "    inputs = tokenizer(prefix + article, return_tensors=\"pt\", truncation=True, max_length=512)\n",
        "    inputs = inputs.to(model.device)\n",
        "    summary_ids = model.generate(inputs[\"input_ids\"], max_length=max_length, early_stopping=True)\n",
        "    summary = tokenizer.decode(summary_ids[0], skip_special_tokens=True)\n",
        "\n",
        "    original_length = len(article.split())\n",
        "    summary_length = len(summary.split())\n",
        "    compression_ratio = summary_length / original_length\n",
        "    return summary, original_length, summary_length, compression_ratio\n",
        "\n"
      ],
      "metadata": {
        "id": "Mlw5wr27cF1F"
      },
      "execution_count": 30,
      "outputs": []
    },
    {
      "cell_type": "code",
      "metadata": {
        "id": "450kcz2hhF-V",
        "colab": {
          "base_uri": "https://localhost:8080/"
        },
        "outputId": "789a2fb3-6902-40fd-c465-646802f96aca"
      },
      "source": [
        "total_articles = len(dataset['article'])\n",
        "summary_data = [generate_summary(article, i, total_articles) for i, article in enumerate(dataset['article'])]\n",
        "\n",
        "summaries, original_lengths, summary_lengths, compression_ratios = zip(*summary_data)\n",
        "\n",
        "dataset = dataset.add_column(\"generated_summary\", summaries)\n",
        "\n",
        "dataset\n"
      ],
      "execution_count": 31,
      "outputs": [
        {
          "output_type": "stream",
          "name": "stdout",
          "text": [
            "Processing article 1 of 80...\n"
          ]
        },
        {
          "output_type": "stream",
          "name": "stderr",
          "text": [
            "/usr/local/lib/python3.11/dist-packages/transformers/generation/configuration_utils.py:676: UserWarning: `num_beams` is set to 1. However, `early_stopping` is set to `True` -- this flag is only used in beam-based generation modes. You should set `num_beams>1` or unset `early_stopping`.\n",
            "  warnings.warn(\n"
          ]
        },
        {
          "output_type": "stream",
          "name": "stdout",
          "text": [
            "Processing article 2 of 80...\n",
            "Processing article 3 of 80...\n",
            "Processing article 4 of 80...\n",
            "Processing article 5 of 80...\n",
            "Processing article 6 of 80...\n",
            "Processing article 7 of 80...\n",
            "Processing article 8 of 80...\n",
            "Processing article 9 of 80...\n",
            "Processing article 10 of 80...\n",
            "Processing article 11 of 80...\n",
            "Processing article 12 of 80...\n",
            "Processing article 13 of 80...\n",
            "Processing article 14 of 80...\n",
            "Processing article 15 of 80...\n",
            "Processing article 16 of 80...\n",
            "Processing article 17 of 80...\n",
            "Processing article 18 of 80...\n",
            "Processing article 19 of 80...\n",
            "Processing article 20 of 80...\n",
            "Processing article 21 of 80...\n",
            "Processing article 22 of 80...\n",
            "Processing article 23 of 80...\n",
            "Processing article 24 of 80...\n",
            "Processing article 25 of 80...\n",
            "Processing article 26 of 80...\n",
            "Processing article 27 of 80...\n",
            "Processing article 28 of 80...\n",
            "Processing article 29 of 80...\n",
            "Processing article 30 of 80...\n",
            "Processing article 31 of 80...\n",
            "Processing article 32 of 80...\n",
            "Processing article 33 of 80...\n",
            "Processing article 34 of 80...\n",
            "Processing article 35 of 80...\n",
            "Processing article 36 of 80...\n",
            "Processing article 37 of 80...\n",
            "Processing article 38 of 80...\n",
            "Processing article 39 of 80...\n",
            "Processing article 40 of 80...\n",
            "Processing article 41 of 80...\n",
            "Processing article 42 of 80...\n",
            "Processing article 43 of 80...\n",
            "Processing article 44 of 80...\n",
            "Processing article 45 of 80...\n",
            "Processing article 46 of 80...\n",
            "Processing article 47 of 80...\n",
            "Processing article 48 of 80...\n",
            "Processing article 49 of 80...\n",
            "Processing article 50 of 80...\n",
            "Processing article 51 of 80...\n",
            "Processing article 52 of 80...\n",
            "Processing article 53 of 80...\n",
            "Processing article 54 of 80...\n",
            "Processing article 55 of 80...\n",
            "Processing article 56 of 80...\n",
            "Processing article 57 of 80...\n",
            "Processing article 58 of 80...\n",
            "Processing article 59 of 80...\n",
            "Processing article 60 of 80...\n",
            "Processing article 61 of 80...\n",
            "Processing article 62 of 80...\n",
            "Processing article 63 of 80...\n",
            "Processing article 64 of 80...\n",
            "Processing article 65 of 80...\n",
            "Processing article 66 of 80...\n",
            "Processing article 67 of 80...\n",
            "Processing article 68 of 80...\n",
            "Processing article 69 of 80...\n",
            "Processing article 70 of 80...\n",
            "Processing article 71 of 80...\n",
            "Processing article 72 of 80...\n",
            "Processing article 73 of 80...\n",
            "Processing article 74 of 80...\n",
            "Processing article 75 of 80...\n",
            "Processing article 76 of 80...\n",
            "Processing article 77 of 80...\n",
            "Processing article 78 of 80...\n",
            "Processing article 79 of 80...\n",
            "Processing article 80 of 80...\n"
          ]
        },
        {
          "output_type": "execute_result",
          "data": {
            "text/plain": [
              "Dataset({\n",
              "    features: ['article', 'highlights', 'id', 'generated_summary'],\n",
              "    num_rows: 80\n",
              "})"
            ]
          },
          "metadata": {},
          "execution_count": 31
        }
      ]
    },
    {
      "cell_type": "markdown",
      "source": [
        "##Perplexity from cross-entropy-loss (TODO)"
      ],
      "metadata": {
        "id": "NlAyIT80gch2"
      }
    },
    {
      "cell_type": "code",
      "source": [
        "'''\n",
        "def calculate_cross_entropy_loss(text):\n",
        "    \"\"\"\n",
        "    Computes the cross-entropy loss for a given text using the model.\n",
        "    \"\"\"\n",
        "    inputs = tokenizer(text, return_tensors=\"pt\", truncation=True, max_length=512)\n",
        "    inputs = inputs.to(model.device)\n",
        "    with torch.no_grad():\n",
        "        outputs = model(**inputs, labels=inputs['input_ids'])\n",
        "\n",
        "    loss = outputs.loss.item()\n",
        "    return loss\n",
        "\n",
        "def calculate_perplexity_from_loss(loss):\n",
        "    \"\"\"\n",
        "    Computes perplexity from cross-entropy loss.\n",
        "    \"\"\"\n",
        "    perplexity = math.exp(loss)\n",
        "    return perplexity\n",
        "    #TODO calculate perplexity from cross entropy\n",
        "'''"
      ],
      "metadata": {
        "id": "x8ywWMrZOcV-",
        "colab": {
          "base_uri": "https://localhost:8080/",
          "height": 88
        },
        "outputId": "5c897ca7-a71c-4e67-fd27-5f090562577a"
      },
      "execution_count": 32,
      "outputs": [
        {
          "output_type": "execute_result",
          "data": {
            "text/plain": [
              "'\\ndef calculate_cross_entropy_loss(text):\\n    \"\"\"\\n    Computes the cross-entropy loss for a given text using the model.\\n    \"\"\"\\n    inputs = tokenizer(text, return_tensors=\"pt\", truncation=True, max_length=512)\\n    inputs = inputs.to(model.device)\\n    with torch.no_grad():\\n        outputs = model(**inputs, labels=inputs[\\'input_ids\\'])\\n\\n    loss = outputs.loss.item()\\n    return loss\\n\\ndef calculate_perplexity_from_loss(loss):\\n    \"\"\"\\n    Computes perplexity from cross-entropy loss.\\n    \"\"\"\\n    perplexity = math.exp(loss)\\n    return perplexity\\n    #TODO calculate perplexity from cross entropy\\n'"
            ],
            "application/vnd.google.colaboratory.intrinsic+json": {
              "type": "string"
            }
          },
          "metadata": {},
          "execution_count": 32
        }
      ]
    },
    {
      "cell_type": "markdown",
      "source": [
        "![image.png](data:image/png;base64,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)"
      ],
      "metadata": {
        "id": "5AhCEkfASmaS"
      }
    },
    {
      "cell_type": "markdown",
      "source": [
        "this was the perplexity using the initial provided code, below is the updated code which resulted in the final correct output."
      ],
      "metadata": {
        "id": "UoxYlD0cS2ii"
      }
    },
    {
      "cell_type": "code",
      "source": [
        "def cal_prep(summary):\n",
        "  inputs = tokenizer(summary, return_tensors=\"pt\", truncation=True, max_length=512)\n",
        "  inputs = inputs.to(model.device)\n",
        "  with torch.no_grad():\n",
        "      outputs = model(**inputs, labels=inputs['input_ids'])\n",
        "\n",
        "  loss = outputs.loss.item()\n",
        "  perplexity = math.exp(loss)\n",
        "  return perplexity"
      ],
      "metadata": {
        "id": "K82M4Y7ZKJ0y"
      },
      "execution_count": 33,
      "outputs": []
    },
    {
      "cell_type": "markdown",
      "source": [
        "##**PERPLEXITY** (TODO)\n",
        "Perplexity is computed as the inverse probability of the text normalized by the number of words.\n",
        "--\n",
        "A high perplexity score suggests that the model struggles to generate coherent text, while a low score indicates fluent and predictable output.\n",
        "--\n",
        "\n",
        "Make a column \"perplexity\" in the dataset. Calculate Perplexity for each article-summary and add the value corresponding to that entry\n",
        "--\n"
      ],
      "metadata": {
        "id": "0JbqIUbWVDw6"
      }
    },
    {
      "cell_type": "code",
      "source": [
        "#Code Here\n",
        "# this was the updated code of calculating perplexity\n",
        "\n",
        "perplexities = []\n",
        "for a in range(len(dataset)):\n",
        "  #article = dataset[a]['article']\n",
        "  summary = dataset[a]['generated_summary']\n",
        "  #combine_text = article + \"\" + summary\n",
        "  loss = cal_prep(summary)\n",
        "  #perplexity = calculate_perplexity_from_loss(loss)\n",
        "  perplexities.append(loss)\n",
        "\n",
        "dataset = dataset.add_column(\"perplexity\", perplexities)\n"
      ],
      "metadata": {
        "id": "44ce2xNGKoEH"
      },
      "execution_count": 34,
      "outputs": []
    },
    {
      "cell_type": "code",
      "metadata": {
        "id": "Gc4utut0hF-W",
        "colab": {
          "base_uri": "https://localhost:8080/",
          "height": 70
        },
        "outputId": "980b3ee2-c929-406a-f2c4-080daad88bea"
      },
      "source": [
        "#Code Here\n",
        "#orginal provided code cell\n",
        "'''\n",
        "perplexities = []\n",
        "for a in range(len(dataset)):\n",
        "  article = dataset[a]['article']\n",
        "  summary = dataset[a]['generated_summary']\n",
        "  combine_text = article + \"\" + summary\n",
        "  loss = calculate_cross_entropy_loss(combine_text)\n",
        "  perplexity = calculate_perplexity_from_loss(loss)\n",
        "  perplexities.append(perplexity)\n",
        "\n",
        "dataset = dataset.add_column(\"perplexity\", perplexities)\n",
        "'''\n"
      ],
      "execution_count": 35,
      "outputs": [
        {
          "output_type": "execute_result",
          "data": {
            "text/plain": [
              "'\\nperplexities = []\\nfor a in range(len(dataset)):\\n  article = dataset[a][\\'article\\']\\n  summary = dataset[a][\\'generated_summary\\']\\n  combine_text = article + \"\" + summary\\n  loss = calculate_cross_entropy_loss(combine_text)\\n  perplexity = calculate_perplexity_from_loss(loss)\\n  perplexities.append(perplexity)\\n\\ndataset = dataset.add_column(\"perplexity\", perplexities)\\n'"
            ],
            "application/vnd.google.colaboratory.intrinsic+json": {
              "type": "string"
            }
          },
          "metadata": {},
          "execution_count": 35
        }
      ]
    },
    {
      "cell_type": "markdown",
      "source": [
        "##ROUGE SCORE\n",
        "###- ROUGE-1: Measures overlap of unigrams (single words) between the generated and reference summary.\n",
        "###- ROUGE-2: Measures bigram (two-word sequences) overlap.\n",
        "###- ROUGE-L: Measures longest common subsequence (LCS), capturingsentence-level structure similarity.\n",
        "---\n",
        "\n",
        "##**If a generated summary contains most of the important words from the reference summary, the ROUGE score will be high, indicating a content-preserving summary.**\n",
        "\n"
      ],
      "metadata": {
        "id": "ihex-hoBho3K"
      }
    },
    {
      "cell_type": "code",
      "metadata": {
        "id": "7Qw_Kw6NhF-W",
        "colab": {
          "base_uri": "https://localhost:8080/"
        },
        "outputId": "8c7a2f08-0ed9-4d8a-c05a-a01b8b3f0522"
      },
      "source": [
        "scorer = rouge_scorer.RougeScorer(['rouge1', 'rougeL'], use_stemmer=True)\n",
        "\n",
        "rouge_scores = [scorer.score(ref, gen) for ref, gen in zip(dataset['highlights'], dataset['generated_summary'])]\n",
        "rouge_1 = [score['rouge1'].fmeasure for score in rouge_scores]\n",
        "rouge_L = [score['rougeL'].fmeasure for score in rouge_scores]\n",
        "\n",
        "dataset = dataset.add_column(\"rouge_1\", rouge_1)\n",
        "dataset = dataset.add_column(\"rouge_L\", rouge_L)\n",
        "dataset"
      ],
      "execution_count": 36,
      "outputs": [
        {
          "output_type": "execute_result",
          "data": {
            "text/plain": [
              "Dataset({\n",
              "    features: ['article', 'highlights', 'id', 'generated_summary', 'perplexity', 'rouge_1', 'rouge_L'],\n",
              "    num_rows: 80\n",
              "})"
            ]
          },
          "metadata": {},
          "execution_count": 36
        }
      ]
    },
    {
      "cell_type": "markdown",
      "source": [
        "##**BLEU SCORE** (TODO)\n",
        "\n",
        "### - Compares n-gram matches (e.g., unigrams, bigrams, trigrams) between the generated and reference summaries.\n",
        "\n",
        "### - A penalty is applied for overly short summaries to encourage completeness.\n",
        "\n",
        "**Make a column \"bleu\" in the dataset. Calculate Bleu Score for each article-summary and add the value corresponding to that entry**\n",
        "--\n"
      ],
      "metadata": {
        "id": "6gudGO1LanPR"
      }
    },
    {
      "cell_type": "code",
      "metadata": {
        "id": "D_ueu5VNhF-Y",
        "colab": {
          "base_uri": "https://localhost:8080/"
        },
        "outputId": "d3565965-976c-4c88-da17-c641dc15accf"
      },
      "source": [
        "def compute_bleu(reference, hypothesis):\n",
        "    ref_tokens = reference.split()\n",
        "    hyp_tokens = hypothesis.split()\n",
        "    return sentence_bleu([ref_tokens], hyp_tokens)\n",
        "\n",
        "#TODO Code here\n",
        "bleu_score = []\n",
        "for a in range(len(dataset)):\n",
        "  ref = dataset[a]['highlights']\n",
        "  hyp = dataset[a]['generated_summary']\n",
        "  b_score = compute_bleu(ref, hyp)\n",
        "  bleu_score.append(b_score)\n",
        "\n",
        "dataset = dataset.add_column(\"bleu\", bleu_score)\n",
        "dataset"
      ],
      "execution_count": 37,
      "outputs": [
        {
          "output_type": "stream",
          "name": "stderr",
          "text": [
            "/usr/local/lib/python3.11/dist-packages/nltk/translate/bleu_score.py:577: UserWarning: \n",
            "The hypothesis contains 0 counts of 4-gram overlaps.\n",
            "Therefore the BLEU score evaluates to 0, independently of\n",
            "how many N-gram overlaps of lower order it contains.\n",
            "Consider using lower n-gram order or use SmoothingFunction()\n",
            "  warnings.warn(_msg)\n",
            "/usr/local/lib/python3.11/dist-packages/nltk/translate/bleu_score.py:577: UserWarning: \n",
            "The hypothesis contains 0 counts of 3-gram overlaps.\n",
            "Therefore the BLEU score evaluates to 0, independently of\n",
            "how many N-gram overlaps of lower order it contains.\n",
            "Consider using lower n-gram order or use SmoothingFunction()\n",
            "  warnings.warn(_msg)\n",
            "/usr/local/lib/python3.11/dist-packages/nltk/translate/bleu_score.py:577: UserWarning: \n",
            "The hypothesis contains 0 counts of 2-gram overlaps.\n",
            "Therefore the BLEU score evaluates to 0, independently of\n",
            "how many N-gram overlaps of lower order it contains.\n",
            "Consider using lower n-gram order or use SmoothingFunction()\n",
            "  warnings.warn(_msg)\n"
          ]
        },
        {
          "output_type": "execute_result",
          "data": {
            "text/plain": [
              "Dataset({\n",
              "    features: ['article', 'highlights', 'id', 'generated_summary', 'perplexity', 'rouge_1', 'rouge_L', 'bleu'],\n",
              "    num_rows: 80\n",
              "})"
            ]
          },
          "metadata": {},
          "execution_count": 37
        }
      ]
    },
    {
      "cell_type": "markdown",
      "source": [
        "##BERT SCORE\n",
        "\n",
        "###BERT Score is particularly useful for abstractive summarization, where the generated summary might use different words but still capture the same meaning."
      ],
      "metadata": {
        "id": "2WMgM_v6hPhq"
      }
    },
    {
      "cell_type": "code",
      "metadata": {
        "id": "LDjkvEbLhF-Z",
        "colab": {
          "base_uri": "https://localhost:8080/"
        },
        "outputId": "3d0c78c4-bcea-4422-d263-f5ef5cfc338c"
      },
      "source": [
        "P, R, F1 = score(dataset['generated_summary'], dataset['highlights'], lang=\"en\")\n",
        "dataset = dataset.add_column(\"bertscore_f1\", F1.tolist())\n",
        "dataset"
      ],
      "execution_count": 38,
      "outputs": [
        {
          "output_type": "stream",
          "name": "stderr",
          "text": [
            "Some weights of RobertaModel were not initialized from the model checkpoint at roberta-large and are newly initialized: ['roberta.pooler.dense.bias', 'roberta.pooler.dense.weight']\n",
            "You should probably TRAIN this model on a down-stream task to be able to use it for predictions and inference.\n"
          ]
        },
        {
          "output_type": "execute_result",
          "data": {
            "text/plain": [
              "Dataset({\n",
              "    features: ['article', 'highlights', 'id', 'generated_summary', 'perplexity', 'rouge_1', 'rouge_L', 'bleu', 'bertscore_f1'],\n",
              "    num_rows: 80\n",
              "})"
            ]
          },
          "metadata": {},
          "execution_count": 38
        }
      ]
    },
    {
      "cell_type": "markdown",
      "metadata": {
        "id": "R0PYgFlbhF-a"
      },
      "source": [
        "\n",
        "## **Part 2: Fine-Tuning the Summarization Model**\n",
        "Now, we will fine-tune the pre-trained BART model on the CNN/DailyMail dataset.\n",
        "- This will help the model better summarize news articles based on real-world examples.\n",
        "- We will train on a subset of the dataset (100 examples for quick training).\n",
        "---"
      ]
    },
    {
      "cell_type": "code",
      "metadata": {
        "id": "ei3HnWyChF-b",
        "collapsed": true,
        "colab": {
          "base_uri": "https://localhost:8080/"
        },
        "outputId": "25a1893d-4084-4f21-b696-4fc290178901"
      },
      "source": [
        "from torch.utils.data import DataLoader\n",
        "\n",
        "model_name = \"t5-base\"\n",
        "tokenizer = AutoTokenizer.from_pretrained(model_name)\n",
        "model = AutoModelForSeq2SeqLM.from_pretrained(model_name)\n",
        "\n",
        "model.to(\"cuda\")\n",
        "\n",
        "train_dataset = dataset.select(range(40))\n",
        "\n",
        "def preprocess_function(examples):\n",
        "    inputs = tokenizer(\n",
        "        examples[\"article\"], max_length=512, truncation=True, padding=\"max_length\"\n",
        "    )\n",
        "    targets = tokenizer(\n",
        "        examples[\"highlights\"], max_length=128, truncation=True, padding=\"max_length\"\n",
        "    )\n",
        "\n",
        "    labels = targets[\"input_ids\"]\n",
        "    labels = [[-100 if token == tokenizer.pad_token_id else token for token in seq] for seq in labels]\n",
        "\n",
        "    return {\n",
        "        \"input_ids\": inputs[\"input_ids\"],\n",
        "        \"attention_mask\": inputs[\"attention_mask\"],\n",
        "        \"labels\": labels,\n",
        "    }\n",
        "\n",
        "tokenized_train = train_dataset.map(preprocess_function, batched=True, num_proc=1, remove_columns=[\"article\", \"highlights\", \"id\"])\n",
        "\n",
        "def collate_fn(batch):\n",
        "    input_ids = torch.stack([torch.tensor(example[\"input_ids\"]) for example in batch])\n",
        "    attention_mask = torch.stack([torch.tensor(example[\"attention_mask\"]) for example in batch])\n",
        "    labels = torch.stack([torch.tensor(example[\"labels\"]) for example in batch])\n",
        "    return {\"input_ids\": input_ids, \"attention_mask\": attention_mask, \"labels\": labels}\n",
        "\n",
        "train_loader = DataLoader(tokenized_train, batch_size=2, shuffle=True, collate_fn=collate_fn)\n",
        "\n",
        "optimizer = torch.optim.AdamW(model.parameters(), lr=3e-5)\n",
        "\n",
        "Epochs = 15\n",
        "\n",
        "model.train()\n",
        "for epoch in range(Epochs):\n",
        "    total_loss = 0\n",
        "    for batch in train_loader:\n",
        "        input_ids = batch[\"input_ids\"].to(model.device)\n",
        "        attention_mask = batch[\"attention_mask\"].to(model.device)\n",
        "        labels = batch[\"labels\"].to(model.device)\n",
        "\n",
        "        outputs = model(input_ids=input_ids, attention_mask=attention_mask, labels=labels)\n",
        "        loss = outputs.loss\n",
        "\n",
        "        optimizer.zero_grad()\n",
        "        loss.backward()\n",
        "        optimizer.step()\n",
        "\n",
        "        total_loss += loss.item()\n",
        "\n",
        "    avg_loss = total_loss / len(train_loader)\n",
        "    print(f\"Epoch {epoch + 1} completed. Loss: {avg_loss:.4f}\")\n",
        "\n",
        "print(\"Fine-tuning complete!\")"
      ],
      "execution_count": 39,
      "outputs": [
        {
          "output_type": "stream",
          "name": "stdout",
          "text": [
            "Epoch 1 completed. Loss: 2.2466\n",
            "Epoch 2 completed. Loss: 1.9025\n",
            "Epoch 3 completed. Loss: 1.7290\n",
            "Epoch 4 completed. Loss: 1.5880\n",
            "Epoch 5 completed. Loss: 1.4485\n",
            "Epoch 6 completed. Loss: 1.3423\n",
            "Epoch 7 completed. Loss: 1.2316\n",
            "Epoch 8 completed. Loss: 1.1816\n",
            "Epoch 9 completed. Loss: 1.0821\n",
            "Epoch 10 completed. Loss: 0.9740\n",
            "Epoch 11 completed. Loss: 0.9079\n",
            "Epoch 12 completed. Loss: 0.8330\n",
            "Epoch 13 completed. Loss: 0.7756\n",
            "Epoch 14 completed. Loss: 0.7223\n",
            "Epoch 15 completed. Loss: 0.6431\n",
            "Fine-tuning complete!\n"
          ]
        }
      ]
    },
    {
      "cell_type": "markdown",
      "metadata": {
        "id": "6PGNMrfKhF-b"
      },
      "source": [
        "## **Part 3: Evaluating the Fine-Tuned Model** (TODO)\n",
        "\n",
        "Now that we have fine-tuned the model, we will:\n",
        "- Generate new summaries using the fine-tuned model.\n",
        "- Recalculate evaluation metrics (perplexity, ROUGE, BLEU, BERTScore).\n",
        "---\n",
        "\n",
        "##**NOTE: Since you have to generate summaries for 80 articles, this may take some time**"
      ]
    },
    {
      "cell_type": "code",
      "source": [
        "# Generate summaries using the fine-tuned model. Calculate all evaluation metrics for fine tuned summaries\n",
        "\n",
        "finetuned_summaries = []\n",
        "for a, article in enumerate(dataset['article']):\n",
        "    summary, _, _, _ = generate_summary(article, a, len(dataset['article']))\n",
        "    finetuned_summaries.append(summary)\n",
        "\n",
        "dataset = dataset.add_column(\"finetuned_summary\", finetuned_summaries)\n",
        "\n",
        "\n",
        "# calculate finetuned perplexity\n",
        "finetuned_perplexities = []\n",
        "for a in range(len(dataset)):\n",
        "    #article = dataset[a]['article']\n",
        "    summary = dataset[a]['finetuned_summary']\n",
        "   # combine_text = article + \" \" + summary\n",
        "    #loss = calculate_cross_entropy_loss(combine_text)\n",
        "    perplexity = cal_prep(summary)\n",
        "    finetuned_perplexities.append(perplexity)\n",
        "\n",
        "dataset = dataset.add_column(\"finetuned_perplexity\", finetuned_perplexities)\n",
        "\n",
        "\n",
        "# calculate finetuned ROUGE scores\n",
        "finetuned_rouge_scores = [scorer.score(ref, gen) for ref, gen in zip(dataset['highlights'], dataset['finetuned_summary'])]\n",
        "finetuned_rouge_1 = [score['rouge1'].fmeasure for score in finetuned_rouge_scores]\n",
        "finetuned_rouge_L = [score['rougeL'].fmeasure for score in finetuned_rouge_scores]\n",
        "\n",
        "dataset = dataset.add_column(\"finetuned_rouge_1\", finetuned_rouge_1)\n",
        "dataset = dataset.add_column(\"finetuned_rouge_L\", finetuned_rouge_L)\n",
        "\n",
        "\n",
        "# calculate finetuned BLEU scores\n",
        "finetuned_bleu_score = []\n",
        "for a in range(len(dataset)):\n",
        "    ref = dataset[a]['highlights']\n",
        "    hyp = dataset[a]['finetuned_summary']\n",
        "    b_score = compute_bleu(ref, hyp)\n",
        "    finetuned_bleu_score.append(b_score)\n",
        "\n",
        "dataset = dataset.add_column(\"finetuned_bleu\", finetuned_bleu_score)\n",
        "\n",
        "\n",
        "# calculate finetuned BERT Score\n",
        "P_finetuned, R_finetuned, F1_finetuned = score(dataset['finetuned_summary'], dataset['highlights'], lang=\"en\")\n",
        "dataset = dataset.add_column(\"finetuned_bertscore_f1\", F1_finetuned.tolist())\n",
        "dataset\n"
      ],
      "metadata": {
        "colab": {
          "base_uri": "https://localhost:8080/"
        },
        "id": "oo7dLpENN5oQ",
        "outputId": "f79529d7-1ef3-4b8b-9bff-e01725bff4ed"
      },
      "execution_count": 40,
      "outputs": [
        {
          "output_type": "stream",
          "name": "stdout",
          "text": [
            "Processing article 1 of 80...\n",
            "Processing article 2 of 80...\n",
            "Processing article 3 of 80...\n",
            "Processing article 4 of 80...\n",
            "Processing article 5 of 80...\n",
            "Processing article 6 of 80...\n",
            "Processing article 7 of 80...\n",
            "Processing article 8 of 80...\n",
            "Processing article 9 of 80...\n",
            "Processing article 10 of 80...\n",
            "Processing article 11 of 80...\n",
            "Processing article 12 of 80...\n",
            "Processing article 13 of 80...\n",
            "Processing article 14 of 80...\n",
            "Processing article 15 of 80...\n",
            "Processing article 16 of 80...\n",
            "Processing article 17 of 80...\n",
            "Processing article 18 of 80...\n",
            "Processing article 19 of 80...\n",
            "Processing article 20 of 80...\n",
            "Processing article 21 of 80...\n",
            "Processing article 22 of 80...\n",
            "Processing article 23 of 80...\n",
            "Processing article 24 of 80...\n",
            "Processing article 25 of 80...\n",
            "Processing article 26 of 80...\n",
            "Processing article 27 of 80...\n",
            "Processing article 28 of 80...\n",
            "Processing article 29 of 80...\n",
            "Processing article 30 of 80...\n",
            "Processing article 31 of 80...\n",
            "Processing article 32 of 80...\n",
            "Processing article 33 of 80...\n",
            "Processing article 34 of 80...\n",
            "Processing article 35 of 80...\n",
            "Processing article 36 of 80...\n",
            "Processing article 37 of 80...\n",
            "Processing article 38 of 80...\n",
            "Processing article 39 of 80...\n",
            "Processing article 40 of 80...\n",
            "Processing article 41 of 80...\n",
            "Processing article 42 of 80...\n",
            "Processing article 43 of 80...\n",
            "Processing article 44 of 80...\n",
            "Processing article 45 of 80...\n",
            "Processing article 46 of 80...\n",
            "Processing article 47 of 80...\n",
            "Processing article 48 of 80...\n",
            "Processing article 49 of 80...\n",
            "Processing article 50 of 80...\n",
            "Processing article 51 of 80...\n",
            "Processing article 52 of 80...\n",
            "Processing article 53 of 80...\n",
            "Processing article 54 of 80...\n",
            "Processing article 55 of 80...\n",
            "Processing article 56 of 80...\n",
            "Processing article 57 of 80...\n",
            "Processing article 58 of 80...\n",
            "Processing article 59 of 80...\n",
            "Processing article 60 of 80...\n",
            "Processing article 61 of 80...\n",
            "Processing article 62 of 80...\n",
            "Processing article 63 of 80...\n",
            "Processing article 64 of 80...\n",
            "Processing article 65 of 80...\n",
            "Processing article 66 of 80...\n",
            "Processing article 67 of 80...\n",
            "Processing article 68 of 80...\n",
            "Processing article 69 of 80...\n",
            "Processing article 70 of 80...\n",
            "Processing article 71 of 80...\n",
            "Processing article 72 of 80...\n",
            "Processing article 73 of 80...\n",
            "Processing article 74 of 80...\n",
            "Processing article 75 of 80...\n",
            "Processing article 76 of 80...\n",
            "Processing article 77 of 80...\n",
            "Processing article 78 of 80...\n",
            "Processing article 79 of 80...\n",
            "Processing article 80 of 80...\n"
          ]
        },
        {
          "output_type": "stream",
          "name": "stderr",
          "text": [
            "Some weights of RobertaModel were not initialized from the model checkpoint at roberta-large and are newly initialized: ['roberta.pooler.dense.bias', 'roberta.pooler.dense.weight']\n",
            "You should probably TRAIN this model on a down-stream task to be able to use it for predictions and inference.\n"
          ]
        },
        {
          "output_type": "execute_result",
          "data": {
            "text/plain": [
              "Dataset({\n",
              "    features: ['article', 'highlights', 'id', 'generated_summary', 'perplexity', 'rouge_1', 'rouge_L', 'bleu', 'bertscore_f1', 'finetuned_summary', 'finetuned_perplexity', 'finetuned_rouge_1', 'finetuned_rouge_L', 'finetuned_bleu', 'finetuned_bertscore_f1'],\n",
              "    num_rows: 80\n",
              "})"
            ]
          },
          "metadata": {},
          "execution_count": 40
        }
      ]
    },
    {
      "cell_type": "markdown",
      "metadata": {
        "id": "x-h0rtyohF-d"
      },
      "source": [
        "## **Part 4: Evaluating with LLM as a Judge** (TODO)\n",
        "We will use a text-generation LLM to assess the generated summaries based on clarity, coherence, creativity, and relevance of 10 generated summaries fron base model and fine tuned model.\n",
        "---\n",
        "\n",
        "Create a subset of 10 entries from the original dataset and get llm scores for summaries generated by the base model and the fine tuned model. The initial model setup is done for you and most of the function is also defined. You have to see the output and extract scores from that output (Hint: You could use Regex but other things could also work). Add these scores as columns into the subset dataset. For example, the clarity score for base model would be stored as \"llm_clarity_score\" and for fine tuned model would be stored as \"fine_tuned_llm_clarity_score\"\n",
        "---\n",
        "\n",
        "##**NOTE: The model is a bit heavy so it may take some time for loading and text generation**"
      ]
    },
    {
      "cell_type": "code",
      "source": [
        "import torch\n",
        "from transformers import AutoTokenizer, AutoModelForCausalLM\n",
        "\n",
        "model_name = \"ibm-granite/granite-3.2-2b-instruct\"\n",
        "tokenizer = AutoTokenizer.from_pretrained(model_name)\n",
        "model = AutoModelForCausalLM.from_pretrained(model_name, torch_dtype=torch.float16, device_map={\"\": 0})\n",
        "model = model.to(\"cuda\")\n",
        "tokenizer.pad_token = tokenizer.eos_token\n",
        "\n",
        "def evaluate_with_llm(summary):\n",
        "    \"\"\"Evaluates a summary using the model.\"\"\"\n",
        "    prompt = f\"\"\"\n",
        "    You are an expert language evaluator. Your task is to evaluate the given summary based on the following four criteria:\n",
        "\n",
        "    1. **Clarity (1-10):** How well does the summary convey the main idea? A high score means it is easy to understand, while a low score means it is vague or confusing.\n",
        "    2. **Coherence (1-10):** Does the information flow logically? A high score indicates a well-structured summary, while a low score suggests disjointed or fragmented information.\n",
        "    3. **Fluency (1-10):** Is the language natural and grammatically correct? A high score means the summary is free of awkward phrasing or errors.\n",
        "    4. **Overall Score (1-10):** A holistic evaluation of the summary’s effectiveness in capturing the key points.\n",
        "\n",
        "    Evaluate the following summary and provide your scores in the specified format.\n",
        "\n",
        "    **Summary:** {summary}\n",
        "\n",
        "    **Return format:**\n",
        "    Clarity: X, Coherence: Y, Fluency: Z, Overall: W\n",
        "    (where X, Y, Z, W are numbers between 1-10)\n",
        "    \"\"\"\n",
        "\n",
        "    inputs = tokenizer(prompt, return_tensors=\"pt\", padding=True, truncation=True, max_length=512).to(model.device)\n",
        "\n",
        "    with torch.no_grad():\n",
        "        output_ids = model.generate(\n",
        "            inputs.input_ids,\n",
        "            max_length=600,\n",
        "            do_sample=True,\n",
        "            temperature=0.7,\n",
        "            top_k=50,\n",
        "            attention_mask=inputs.attention_mask\n",
        "        )\n",
        "\n",
        "    output_text = tokenizer.decode(output_ids[0], skip_special_tokens=True)\n",
        "    return output_text\n",
        "\n",
        "def extract_score(text, category):\n",
        "    lines = text.split(\", \")\n",
        "    for line in lines:\n",
        "        if category in line:\n",
        "            parts = line.split(\":\")\n",
        "            if len(parts) > 1 and parts[1].strip().isdigit():\n",
        "                return int(parts[1].strip())\n",
        "    return 0\n",
        "\n",
        "subset_dataset = dataset.select(range(10))\n",
        "\n",
        "\n",
        "score_categories = [\"Clarity\", \"Coherence\", \"Fluency\", \"Overall\"]\n",
        "llm_scores = {category.lower(): [] for category in score_categories}\n",
        "finetuned_scores = {category.lower(): [] for category in score_categories}\n",
        "\n",
        "for i in range(len(subset_dataset)):\n",
        "    base_model_eval = evaluate_with_llm(subset_dataset[i][\"generated_summary\"])\n",
        "    finetuned_model_eval = evaluate_with_llm(subset_dataset[i][\"finetuned_summary\"])\n",
        "\n",
        "    # Extract scores using the custom function\n",
        "    for category in score_categories:\n",
        "        llm_scores[category.lower()].append(extract_score(base_model_eval, category))\n",
        "        finetuned_scores[category.lower()].append(extract_score(finetuned_model_eval, category))\n",
        "\n",
        "# Add extracted scores as new dataset columns\n",
        "for category in score_categories:\n",
        "    subset_dataset = subset_dataset.add_column(f\"llm_{category.lower()}_score\", llm_scores[category.lower()])\n",
        "    subset_dataset = subset_dataset.add_column(f\"finetuned_llm_{category.lower()}_score\", finetuned_scores[category.lower()])\n",
        "\n",
        "subset_dataset\n"
      ],
      "metadata": {
        "colab": {
          "base_uri": "https://localhost:8080/",
          "height": 153,
          "referenced_widgets": [
            "7dcde1b3918847cda02495c19cdadae2",
            "16f7c5ee9e80403e97ed699fa0c4cf11",
            "1910129c112c4feca140a618a7b0ded1",
            "d41fd8b35e2f4138b960823cae770682",
            "30ba11eabe944e20a57c54d674eecc3a",
            "834b968f8ec7466083e63b412fbf5f15",
            "884810e41890426bb85a6895dd43ada7",
            "8095319595d94481b6cd30ebd60391bc",
            "63006beeed32437d9b3b2647f3a686a4",
            "b8cceeab15104f939af353885badc13d",
            "7649d2a760c141ef8e86fa7254a03080"
          ]
        },
        "id": "OMgVCFqtgpVk",
        "outputId": "ca5c1ab6-61fc-46d4-c011-f0ebbb911ff6"
      },
      "execution_count": 41,
      "outputs": [
        {
          "output_type": "display_data",
          "data": {
            "text/plain": [
              "Loading checkpoint shards:   0%|          | 0/2 [00:00<?, ?it/s]"
            ],
            "application/vnd.jupyter.widget-view+json": {
              "version_major": 2,
              "version_minor": 0,
              "model_id": "7dcde1b3918847cda02495c19cdadae2"
            }
          },
          "metadata": {}
        },
        {
          "output_type": "execute_result",
          "data": {
            "text/plain": [
              "Dataset({\n",
              "    features: ['article', 'highlights', 'id', 'generated_summary', 'perplexity', 'rouge_1', 'rouge_L', 'bleu', 'bertscore_f1', 'finetuned_summary', 'finetuned_perplexity', 'finetuned_rouge_1', 'finetuned_rouge_L', 'finetuned_bleu', 'finetuned_bertscore_f1', 'llm_clarity_score', 'finetuned_llm_clarity_score', 'llm_coherence_score', 'finetuned_llm_coherence_score', 'llm_fluency_score', 'finetuned_llm_fluency_score', 'llm_overall_score', 'finetuned_llm_overall_score'],\n",
              "    num_rows: 10\n",
              "})"
            ]
          },
          "metadata": {},
          "execution_count": 41
        }
      ]
    },
    {
      "cell_type": "code",
      "source": [
        "subset_dataset[\"llm_clarity_score\"]"
      ],
      "metadata": {
        "colab": {
          "base_uri": "https://localhost:8080/"
        },
        "id": "zE69WE6Pl6wl",
        "outputId": "172b3d7a-eb37-4f1f-b671-a25e8eb762e2"
      },
      "execution_count": 42,
      "outputs": [
        {
          "output_type": "execute_result",
          "data": {
            "text/plain": [
              "[0, 0, 0, 0, 10, 9, 0, 10, 10, 0]"
            ]
          },
          "metadata": {},
          "execution_count": 42
        }
      ]
    },
    {
      "cell_type": "code",
      "source": [
        "subset_dataset[\"finetuned_llm_clarity_score\"]"
      ],
      "metadata": {
        "colab": {
          "base_uri": "https://localhost:8080/"
        },
        "id": "l8KknkRdl_TT",
        "outputId": "dd479172-0a31-4d1e-ae7e-e586317c6494"
      },
      "execution_count": 43,
      "outputs": [
        {
          "output_type": "execute_result",
          "data": {
            "text/plain": [
              "[0, 0, 0, 0, 0, 10, 9, 10, 0, 0]"
            ]
          },
          "metadata": {},
          "execution_count": 43
        }
      ]
    },
    {
      "cell_type": "markdown",
      "metadata": {
        "id": "HhluPhWghF-e"
      },
      "source": [
        "## **Part 5: Benchmarking Against State-of-the-Art Results** (TODO)\n",
        "We will now compare our results with published benchmarks from state-of-the-art models on CNN/DailyMail. Benchmark data has been prepared. You need to calculate mean rouge1 score and rougeL score for baseline and finetuned model and draw a graph which shows their comparison\n",
        "### **Benchmarks:**\n",
        "- BART (ROUGE-1: 44.16, ROUGE-L: 41.87)\n",
        "- Pegasus (ROUGE-1: 44.17, ROUGE-L: 41.11)\n",
        "---"
      ]
    },
    {
      "cell_type": "code",
      "source": [
        "# Calculate mean ROUGE-1 and ROUGE-L scores\n",
        "#TODO\n",
        "baseline_rouge1 = np.mean(dataset['rouge_1'])*100\n",
        "baseline_rougeL = np.mean(dataset['rouge_L'])*100\n",
        "finetuned_rouge1 = np.mean(dataset['finetuned_rouge_1'])*100\n",
        "finetuned_rougeL = np.mean(dataset['finetuned_rouge_L'])*100\n",
        "'''\n",
        "baseline_rouge1 = sum(llm_scores) / len(llm_scores) if llm_scores else 0\n",
        "baseline_rougeL = sum(llm_scores) / len(llm_scores) if llm_scores else 0\n",
        "finetuned_rouge1 = sum(finetuned_scores) / len(finetuned_scores) if finetuned_scores else 0\n",
        "finetuned_rougeL = sum(finetuned_scores) / len(finetuned_scores) if finetuned_scores else 0\n",
        "'''\n",
        "\n",
        "\n",
        "benchmark_results = pd.DataFrame({\n",
        "    'Model': ['Baseline', 'Fine-Tuned', 'BART Benchmark', 'Pegasus Benchmark'],\n",
        "    'ROUGE-1': [baseline_rouge1, finetuned_rouge1, 44.16, 44.17],\n",
        "    'ROUGE-L': [baseline_rougeL, finetuned_rougeL, 41.87, 41.11]\n",
        "})\n",
        "\n",
        "benchmark_results.set_index('Model').plot(kind='bar', figsize=(8, 5), title='Benchmark Comparison')\n",
        "plt.show()\n"
      ],
      "metadata": {
        "colab": {
          "base_uri": "https://localhost:8080/",
          "height": 614
        },
        "id": "YXNxhwbYmOhy",
        "outputId": "4e6201ad-f410-48d3-cea3-8234eda4be33"
      },
      "execution_count": 44,
      "outputs": [
        {
          "output_type": "display_data",
          "data": {
            "text/plain": [
              "<Figure size 800x500 with 1 Axes>"
            ],
            "image/png": "[encoded data removed]"
          },
          "metadata": {}
        }
      ]
    },
    {
      "cell_type": "markdown",
      "metadata": {
        "id": "SpL9HqsEhF-f"
      },
      "source": [
        "## **Part 6: Conclusion & Discussion**\n",
        "- Draw bargraphs for different evaluation metrics (including LLM ratings) by considering their mean before and after fine tuning.\n",
        "- The fine-tuned model should show improvements in ROUGE scores, LLM qualitative ratings and other metrics.\n",
        "- How does the fine-tuned model compare to published benchmarks?\n",
        "- Are there discrepancies between LLM-based evaluation and traditional metrics?\n"
      ]
    },
    {
      "cell_type": "code",
      "source": [
        "np.mean(dataset['finetuned_perplexity'])"
      ],
      "metadata": {
        "colab": {
          "base_uri": "https://localhost:8080/"
        },
        "id": "ZDZbkEorkzkv",
        "outputId": "10ac563b-c21a-40b9-fe81-8bf61c114b8a"
      },
      "execution_count": 45,
      "outputs": [
        {
          "output_type": "execute_result",
          "data": {
            "text/plain": [
              "1.2409053104058294"
            ]
          },
          "metadata": {},
          "execution_count": 45
        }
      ]
    },
    {
      "cell_type": "code",
      "source": [
        "np.mean(dataset['perplexity'])"
      ],
      "metadata": {
        "colab": {
          "base_uri": "https://localhost:8080/"
        },
        "id": "yNr5CohjmtE4",
        "outputId": "5b64a303-db44-468a-cd7f-544c5447c06d"
      },
      "execution_count": 46,
      "outputs": [
        {
          "output_type": "execute_result",
          "data": {
            "text/plain": [
              "1.1773219830724355"
            ]
          },
          "metadata": {},
          "execution_count": 46
        }
      ]
    },
    {
      "cell_type": "code",
      "source": [
        "subset_dataset"
      ],
      "metadata": {
        "colab": {
          "base_uri": "https://localhost:8080/"
        },
        "id": "FYnhH8Kumw4j",
        "outputId": "ff1caf2a-84b2-4281-aeb7-27fa6ab67248"
      },
      "execution_count": 47,
      "outputs": [
        {
          "output_type": "execute_result",
          "data": {
            "text/plain": [
              "Dataset({\n",
              "    features: ['article', 'highlights', 'id', 'generated_summary', 'perplexity', 'rouge_1', 'rouge_L', 'bleu', 'bertscore_f1', 'finetuned_summary', 'finetuned_perplexity', 'finetuned_rouge_1', 'finetuned_rouge_L', 'finetuned_bleu', 'finetuned_bertscore_f1', 'llm_clarity_score', 'finetuned_llm_clarity_score', 'llm_coherence_score', 'finetuned_llm_coherence_score', 'llm_fluency_score', 'finetuned_llm_fluency_score', 'llm_overall_score', 'finetuned_llm_overall_score'],\n",
              "    num_rows: 10\n",
              "})"
            ]
          },
          "metadata": {},
          "execution_count": 47
        }
      ]
    },
    {
      "cell_type": "code",
      "source": [
        "metrics = ['ROUGE-1', 'ROUGE-L', 'Bleu', 'BERTScore', 'Perplexity']\n",
        "baseline_scores = [np.mean(dataset['rouge_1']), np.mean(dataset['rouge_L']), np.mean(dataset['bleu']), np.mean((dataset['bertscore_f1'])), np.mean(dataset['perplexity'])]\n",
        "finetuned_scores = [np.mean(dataset['finetuned_rouge_1']), np.mean(dataset['finetuned_rouge_L']),  np.mean(dataset['finetuned_bleu']), np.mean(dataset['finetuned_bertscore_f1']), np.mean(dataset['perplexity'])]\n",
        "\n",
        "\n",
        "# Create a DataFrame for plotting\n",
        "df = pd.DataFrame({\n",
        "    'Metric': metrics,\n",
        "    'Baseline': baseline_scores,\n",
        "    'Fine-tuned': finetuned_scores\n",
        "})\n",
        "\n",
        "df.set_index('Metric').plot(kind='bar', figsize=(10, 6))\n",
        "plt.title('Comparison of Evaluation Metrics Before and After Fine-tuning')\n",
        "plt.ylabel('Score')\n",
        "plt.xticks(rotation=0)\n",
        "plt.legend(title='Model')\n",
        "plt.tight_layout()\n",
        "plt.show()\n",
        "\n",
        "print(\"The fine-tuned model does not show improvements in ROUGE-1, ROUGE-L,Bleu, BERTScore, Perplexity.\")"
      ],
      "metadata": {
        "id": "ZpDfnxHvljBW",
        "colab": {
          "base_uri": "https://localhost:8080/",
          "height": 624
        },
        "outputId": "2269ac6f-1b3f-41b5-c608-0f7cf8eb0045"
      },
      "execution_count": 49,
      "outputs": [
        {
          "output_type": "display_data",
          "data": {
            "text/plain": [
              "<Figure size 1000x600 with 1 Axes>"
            ],
            "image/png": "[encoded data removed]"
          },
          "metadata": {}
        },
        {
          "output_type": "stream",
          "name": "stdout",
          "text": [
            "The fine-tuned model does not show improvements in ROUGE-1, ROUGE-L,Bleu, BERTScore, Perplexity.\n"
          ]
        }
      ]
    },
    {
      "cell_type": "code",
      "source": [],
      "metadata": {
        "id": "4ZKkdYiXZ5Qt"
      },
      "execution_count": null,
      "outputs": []
    }
  ],
  "metadata": {
    "kernelspec": {
      "display_name": "Python 3",
      "name": "python3"
    },
    "language_info": {
      "name": "python",
      "version": "3.8"
    },
    "colab": {
      "provenance": [],
      "gpuType": "T4"
    },
    "accelerator": "GPU",
    "widgets": {
      "application/vnd.jupyter.widget-state+json": {
        "7dcde1b3918847cda02495c19cdadae2": {
          "model_module": "@jupyter-widgets/controls",
          "model_name": "HBoxModel",
          "model_module_version": "1.5.0",
          "state": {
            "_dom_classes": [],
            "_model_module": "@jupyter-widgets/controls",
            "_model_module_version": "1.5.0",
            "_model_name": "HBoxModel",
            "_view_count": null,
            "_view_module": "@jupyter-widgets/controls",
            "_view_module_version": "1.5.0",
            "_view_name": "HBoxView",
            "box_style": "",
            "children": [
              "IPY_MODEL_16f7c5ee9e80403e97ed699fa0c4cf11",
              "IPY_MODEL_1910129c112c4feca140a618a7b0ded1",
              "IPY_MODEL_d41fd8b35e2f4138b960823cae770682"
            ],
            "layout": "IPY_MODEL_30ba11eabe944e20a57c54d674eecc3a"
          }
        },
        "16f7c5ee9e80403e97ed699fa0c4cf11": {
          "model_module": "@jupyter-widgets/controls",
          "model_name": "HTMLModel",
          "model_module_version": "1.5.0",
          "state": {
            "_dom_classes": [],
            "_model_module": "@jupyter-widgets/controls",
            "_model_module_version": "1.5.0",
            "_model_name": "HTMLModel",
            "_view_count": null,
            "_view_module": "@jupyter-widgets/controls",
            "_view_module_version": "1.5.0",
            "_view_name": "HTMLView",
            "description": "",
            "description_tooltip": null,
            "layout": "IPY_MODEL_834b968f8ec7466083e63b412fbf5f15",
            "placeholder": "​",
            "style": "IPY_MODEL_884810e41890426bb85a6895dd43ada7",
            "value": "Loading checkpoint shards: 100%"
          }
        },
        "1910129c112c4feca140a618a7b0ded1": {
          "model_module": "@jupyter-widgets/controls",
          "model_name": "FloatProgressModel",
          "model_module_version": "1.5.0",
          "state": {
            "_dom_classes": [],
            "_model_module": "@jupyter-widgets/controls",
            "_model_module_version": "1.5.0",
            "_model_name": "FloatProgressModel",
            "_view_count": null,
            "_view_module": "@jupyter-widgets/controls",
            "_view_module_version": "1.5.0",
            "_view_name": "ProgressView",
            "bar_style": "success",
            "description": "",
            "description_tooltip": null,
            "layout": "IPY_MODEL_8095319595d94481b6cd30ebd60391bc",
            "max": 2,
            "min": 0,
            "orientation": "horizontal",
            "style": "IPY_MODEL_63006beeed32437d9b3b2647f3a686a4",
            "value": 2
          }
        },
        "d41fd8b35e2f4138b960823cae770682": {
          "model_module": "@jupyter-widgets/controls",
          "model_name": "HTMLModel",
          "model_module_version": "1.5.0",
          "state": {
            "_dom_classes": [],
            "_model_module": "@jupyter-widgets/controls",
            "_model_module_version": "1.5.0",
            "_model_name": "HTMLModel",
            "_view_count": null,
            "_view_module": "@jupyter-widgets/controls",
            "_view_module_version": "1.5.0",
            "_view_name": "HTMLView",
            "description": "",
            "description_tooltip": null,
            "layout": "IPY_MODEL_b8cceeab15104f939af353885badc13d",
            "placeholder": "​",
            "style": "IPY_MODEL_7649d2a760c141ef8e86fa7254a03080",
            "value": " 2/2 [00:29&lt;00:00, 12.34s/it]"
          }
        },
        "30ba11eabe944e20a57c54d674eecc3a": {
          "model_module": "@jupyter-widgets/base",
          "model_name": "LayoutModel",
          "model_module_version": "1.2.0",
          "state": {
            "_model_module": "@jupyter-widgets/base",
            "_model_module_version": "1.2.0",
            "_model_name": "LayoutModel",
            "_view_count": null,
            "_view_module": "@jupyter-widgets/base",
            "_view_module_version": "1.2.0",
            "_view_name": "LayoutView",
            "align_content": null,
            "align_items": null,
            "align_self": null,
            "border": null,
            "bottom": null,
            "display": null,
            "flex": null,
            "flex_flow": null,
            "grid_area": null,
            "grid_auto_columns": null,
            "grid_auto_flow": null,
            "grid_auto_rows": null,
            "grid_column": null,
            "grid_gap": null,
            "grid_row": null,
            "grid_template_areas": null,
            "grid_template_columns": null,
            "grid_template_rows": null,
            "height": null,
            "justify_content": null,
            "justify_items": null,
            "left": null,
            "margin": null,
            "max_height": null,
            "max_width": null,
            "min_height": null,
            "min_width": null,
            "object_fit": null,
            "object_position": null,
            "order": null,
            "overflow": null,
            "overflow_x": null,
            "overflow_y": null,
            "padding": null,
            "right": null,
            "top": null,
            "visibility": null,
            "width": null
          }
        },
        "834b968f8ec7466083e63b412fbf5f15": {
          "model_module": "@jupyter-widgets/base",
          "model_name": "LayoutModel",
          "model_module_version": "1.2.0",
          "state": {
            "_model_module": "@jupyter-widgets/base",
            "_model_module_version": "1.2.0",
            "_model_name": "LayoutModel",
            "_view_count": null,
            "_view_module": "@jupyter-widgets/base",
            "_view_module_version": "1.2.0",
            "_view_name": "LayoutView",
            "align_content": null,
            "align_items": null,
            "align_self": null,
            "border": null,
            "bottom": null,
            "display": null,
            "flex": null,
            "flex_flow": null,
            "grid_area": null,
            "grid_auto_columns": null,
            "grid_auto_flow": null,
            "grid_auto_rows": null,
            "grid_column": null,
            "grid_gap": null,
            "grid_row": null,
            "grid_template_areas": null,
            "grid_template_columns": null,
            "grid_template_rows": null,
            "height": null,
            "justify_content": null,
            "justify_items": null,
            "left": null,
            "margin": null,
            "max_height": null,
            "max_width": null,
            "min_height": null,
            "min_width": null,
            "object_fit": null,
            "object_position": null,
            "order": null,
            "overflow": null,
            "overflow_x": null,
            "overflow_y": null,
            "padding": null,
            "right": null,
            "top": null,
            "visibility": null,
            "width": null
          }
        },
        "884810e41890426bb85a6895dd43ada7": {
          "model_module": "@jupyter-widgets/controls",
          "model_name": "DescriptionStyleModel",
          "model_module_version": "1.5.0",
          "state": {
            "_model_module": "@jupyter-widgets/controls",
            "_model_module_version": "1.5.0",
            "_model_name": "DescriptionStyleModel",
            "_view_count": null,
            "_view_module": "@jupyter-widgets/base",
            "_view_module_version": "1.2.0",
            "_view_name": "StyleView",
            "description_width": ""
          }
        },
        "8095319595d94481b6cd30ebd60391bc": {
          "model_module": "@jupyter-widgets/base",
          "model_name": "LayoutModel",
          "model_module_version": "1.2.0",
          "state": {
            "_model_module": "@jupyter-widgets/base",
            "_model_module_version": "1.2.0",
            "_model_name": "LayoutModel",
            "_view_count": null,
            "_view_module": "@jupyter-widgets/base",
            "_view_module_version": "1.2.0",
            "_view_name": "LayoutView",
            "align_content": null,
            "align_items": null,
            "align_self": null,
            "border": null,
            "bottom": null,
            "display": null,
            "flex": null,
            "flex_flow": null,
            "grid_area": null,
            "grid_auto_columns": null,
            "grid_auto_flow": null,
            "grid_auto_rows": null,
            "grid_column": null,
            "grid_gap": null,
            "grid_row": null,
            "grid_template_areas": null,
            "grid_template_columns": null,
            "grid_template_rows": null,
            "height": null,
            "justify_content": null,
            "justify_items": null,
            "left": null,
            "margin": null,
            "max_height": null,
            "max_width": null,
            "min_height": null,
            "min_width": null,
            "object_fit": null,
            "object_position": null,
            "order": null,
            "overflow": null,
            "overflow_x": null,
            "overflow_y": null,
            "padding": null,
            "right": null,
            "top": null,
            "visibility": null,
            "width": null
          }
        },
        "63006beeed32437d9b3b2647f3a686a4": {
          "model_module": "@jupyter-widgets/controls",
          "model_name": "ProgressStyleModel",
          "model_module_version": "1.5.0",
          "state": {
            "_model_module": "@jupyter-widgets/controls",
            "_model_module_version": "1.5.0",
            "_model_name": "ProgressStyleModel",
            "_view_count": null,
            "_view_module": "@jupyter-widgets/base",
            "_view_module_version": "1.2.0",
            "_view_name": "StyleView",
            "bar_color": null,
            "description_width": ""
          }
        },
        "b8cceeab15104f939af353885badc13d": {
          "model_module": "@jupyter-widgets/base",
          "model_name": "LayoutModel",
          "model_module_version": "1.2.0",
          "state": {
            "_model_module": "@jupyter-widgets/base",
            "_model_module_version": "1.2.0",
            "_model_name": "LayoutModel",
            "_view_count": null,
            "_view_module": "@jupyter-widgets/base",
            "_view_module_version": "1.2.0",
            "_view_name": "LayoutView",
            "align_content": null,
            "align_items": null,
            "align_self": null,
            "border": null,
            "bottom": null,
            "display": null,
            "flex": null,
            "flex_flow": null,
            "grid_area": null,
            "grid_auto_columns": null,
            "grid_auto_flow": null,
            "grid_auto_rows": null,
            "grid_column": null,
            "grid_gap": null,
            "grid_row": null,
            "grid_template_areas": null,
            "grid_template_columns": null,
            "grid_template_rows": null,
            "height": null,
            "justify_content": null,
            "justify_items": null,
            "left": null,
            "margin": null,
            "max_height": null,
            "max_width": null,
            "min_height": null,
            "min_width": null,
            "object_fit": null,
            "object_position": null,
            "order": null,
            "overflow": null,
            "overflow_x": null,
            "overflow_y": null,
            "padding": null,
            "right": null,
            "top": null,
            "visibility": null,
            "width": null
          }
        },
        "7649d2a760c141ef8e86fa7254a03080": {
          "model_module": "@jupyter-widgets/controls",
          "model_name": "DescriptionStyleModel",
          "model_module_version": "1.5.0",
          "state": {
            "_model_module": "@jupyter-widgets/controls",
            "_model_module_version": "1.5.0",
            "_model_name": "DescriptionStyleModel",
            "_view_count": null,
            "_view_module": "@jupyter-widgets/base",
            "_view_module_version": "1.2.0",
            "_view_name": "StyleView",
            "description_width": ""
          }
        }
      }
    }
  },
  "nbformat": 4,
  "nbformat_minor": 0
}