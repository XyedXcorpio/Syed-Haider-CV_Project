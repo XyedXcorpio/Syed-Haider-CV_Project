{
  "cells": [
    {
      "cell_type": "markdown",
      "id": "2cb23c1f",
      "metadata": {
        "id": "2cb23c1f"
      },
      "source": [
        "# Agentic Patterns Lab\n",
        "\n",
        "This lab demonstrates several agentic patterns. Each section below contains the full contents of an important agentic pattern."
      ]
    },
    {
      "cell_type": "markdown",
      "id": "e1bc453d-c8d3-4503-b3da-52120ad92c74",
      "metadata": {
        "id": "e1bc453d-c8d3-4503-b3da-52120ad92c74",
        "tags": []
      },
      "source": [
        "# Reflection Pattern\n",
        "\n",
        "The first pattern we are going to implement is the **reflection pattern**.\n",
        "\n",
        "\n",
        "This pattern allows the LLM to reflect and critique its outputs, following the next steps:\n",
        "\n",
        "1. The LLM **generates** a candidate output.\n",
        "2. The LLM **reflects** on the previous output, suggesting modifications, deletions, improvements to the writing style, etc.\n",
        "3. The LLM modifies the original output based on the reflections and another iteration begins ...\n",
        "\n",
        "**Now, we are going to build, from scratch, each step, so that you can truly understand how this pattern works.**"
      ]
    },
    {
      "cell_type": "markdown",
      "id": "7898c34d-de9a-4970-b7f4-3d86b69d45a7",
      "metadata": {
        "id": "7898c34d-de9a-4970-b7f4-3d86b69d45a7"
      },
      "source": [
        "## Generation Step"
      ]
    },
    {
      "cell_type": "markdown",
      "id": "031f6b07-4f99-46f6-a53c-ff242585cbad",
      "metadata": {
        "id": "031f6b07-4f99-46f6-a53c-ff242585cbad"
      },
      "source": [
        "The first thing we need to consider is:\n",
        "\n",
        "> What do we want to generate?\n",
        "\n",
        "For this example, We are going to test the Python coding skills of Llama3 70B (that's the LLM we are going to use for all the tutorials). In particular, we are going to ask our LLM to code a famous sorting algorithm: **Merge Sort**.\n",
        "\n",
        "---\n"
      ]
    },
    {
      "cell_type": "code",
      "source": [
        "!pip install groq\n",
        "!pip install python-dotenv"
      ],
      "metadata": {
        "colab": {
          "base_uri": "https://localhost:8080/"
        },
        "id": "-A2X0dXMdtmj",
        "outputId": "950e054a-abcf-4184-ef7d-c8dc0d5b60ca"
      },
      "id": "-A2X0dXMdtmj",
      "execution_count": 2,
      "outputs": [
        {
          "output_type": "stream",
          "name": "stdout",
          "text": [
            "Collecting groq\n",
            "  Downloading groq-0.22.0-py3-none-any.whl.metadata (15 kB)\n",
            "Requirement already satisfied: anyio<5,>=3.5.0 in /usr/local/lib/python3.11/dist-packages (from groq) (4.9.0)\n",
            "Requirement already satisfied: distro<2,>=1.7.0 in /usr/local/lib/python3.11/dist-packages (from groq) (1.9.0)\n",
            "Requirement already satisfied: httpx<1,>=0.23.0 in /usr/local/lib/python3.11/dist-packages (from groq) (0.28.1)\n",
            "Requirement already satisfied: pydantic<3,>=1.9.0 in /usr/local/lib/python3.11/dist-packages (from groq) (2.11.3)\n",
            "Requirement already satisfied: sniffio in /usr/local/lib/python3.11/dist-packages (from groq) (1.3.1)\n",
            "Requirement already satisfied: typing-extensions<5,>=4.10 in /usr/local/lib/python3.11/dist-packages (from groq) (4.13.1)\n",
            "Requirement already satisfied: idna>=2.8 in /usr/local/lib/python3.11/dist-packages (from anyio<5,>=3.5.0->groq) (3.10)\n",
            "Requirement already satisfied: certifi in /usr/local/lib/python3.11/dist-packages (from httpx<1,>=0.23.0->groq) (2025.1.31)\n",
            "Requirement already satisfied: httpcore==1.* in /usr/local/lib/python3.11/dist-packages (from httpx<1,>=0.23.0->groq) (1.0.7)\n",
            "Requirement already satisfied: h11<0.15,>=0.13 in /usr/local/lib/python3.11/dist-packages (from httpcore==1.*->httpx<1,>=0.23.0->groq) (0.14.0)\n",
            "Requirement already satisfied: annotated-types>=0.6.0 in /usr/local/lib/python3.11/dist-packages (from pydantic<3,>=1.9.0->groq) (0.7.0)\n",
            "Requirement already satisfied: pydantic-core==2.33.1 in /usr/local/lib/python3.11/dist-packages (from pydantic<3,>=1.9.0->groq) (2.33.1)\n",
            "Requirement already satisfied: typing-inspection>=0.4.0 in /usr/local/lib/python3.11/dist-packages (from pydantic<3,>=1.9.0->groq) (0.4.0)\n",
            "Downloading groq-0.22.0-py3-none-any.whl (126 kB)\n",
            "\u001b[2K   \u001b[90m━━━━━━━━━━━━━━━━━━━━━━━━━━━━━━━━━━━━━━━━\u001b[0m \u001b[32m126.7/126.7 kB\u001b[0m \u001b[31m5.5 MB/s\u001b[0m eta \u001b[36m0:00:00\u001b[0m\n",
            "\u001b[?25hInstalling collected packages: groq\n",
            "Successfully installed groq-0.22.0\n",
            "Collecting python-dotenv\n",
            "  Downloading python_dotenv-1.1.0-py3-none-any.whl.metadata (24 kB)\n",
            "Downloading python_dotenv-1.1.0-py3-none-any.whl (20 kB)\n",
            "Installing collected packages: python-dotenv\n",
            "Successfully installed python-dotenv-1.1.0\n"
          ]
        }
      ]
    },
    {
      "cell_type": "markdown",
      "id": "73f4d7b7-40bf-43b9-a626-2a11d5529ac8",
      "metadata": {
        "id": "73f4d7b7-40bf-43b9-a626-2a11d5529ac8"
      },
      "source": [
        "### Groq Client and relevant imports"
      ]
    },
    {
      "cell_type": "code",
      "execution_count": 3,
      "id": "96731d2f-a079-4e41-9756-220f02d4ebd8",
      "metadata": {
        "id": "96731d2f-a079-4e41-9756-220f02d4ebd8"
      },
      "outputs": [],
      "source": [
        "from pprint import pprint\n",
        "from groq import Groq\n",
        "from dotenv import load_dotenv\n",
        "from IPython.display import display_markdown\n",
        "import os\n",
        "\n",
        "# Set Groq API key\n",
        "os.environ[\"GROQ_API_KEY\"]= \"*****************************************\"\n",
        "client = Groq()"
      ]
    },
    {
      "cell_type": "markdown",
      "id": "e644a635-e035-44e2-8c25-cee0f2b56556",
      "metadata": {
        "id": "e644a635-e035-44e2-8c25-cee0f2b56556"
      },
      "source": [
        "We will start the **\"generation\"** chat history with the system prompt, as we said before. In this case, let the LLM act like a Python\n",
        "programmer eager to receive feedback / critique by the user."
      ]
    },
    {
      "cell_type": "code",
      "execution_count": 4,
      "id": "12467256-c741-495a-9923-439c1fcf270d",
      "metadata": {
        "id": "12467256-c741-495a-9923-439c1fcf270d"
      },
      "outputs": [],
      "source": [
        "generation_chat_history = [\n",
        "    {\n",
        "        \"role\": \"system\",\n",
        "        \"content\": \"You are a Python programmer tasked with generating high quality Python code.\"\n",
        "        \"Your task is to Generate the best content possible for the user's request. If the user provides critique,\"\n",
        "        \"respond with a revised version of your previous attempt.\"\n",
        "    }\n",
        "]"
      ]
    },
    {
      "cell_type": "markdown",
      "id": "43149b4f-54db-455f-9d39-6ad2f5c52b94",
      "metadata": {
        "id": "43149b4f-54db-455f-9d39-6ad2f5c52b94"
      },
      "source": [
        "Now, as the user, we are going to ask the LLM to generate an implementation of the **Merge Sort** algorithm. Just add a new message with the **user** role to the chat history."
      ]
    },
    {
      "cell_type": "code",
      "execution_count": 5,
      "id": "0742e7bd-4857-4ed1-a96b-37098d448bdd",
      "metadata": {
        "id": "0742e7bd-4857-4ed1-a96b-37098d448bdd"
      },
      "outputs": [],
      "source": [
        "#TODO\n",
        "generation_chat_history.append(\n",
        "    {\"role\": \"user\",\n",
        "     \"content\": \"write a python program to implement merge sort algorithm.\"}\n",
        ")"
      ]
    },
    {
      "cell_type": "markdown",
      "id": "4df1bffe-375f-4a9a-8433-e217eb94aea2",
      "metadata": {
        "id": "4df1bffe-375f-4a9a-8433-e217eb94aea2"
      },
      "source": [
        "Let's generate the first version of the essay."
      ]
    },
    {
      "cell_type": "code",
      "execution_count": 6,
      "id": "ff984277-733c-4495-b7fd-0669393380b8",
      "metadata": {
        "id": "ff984277-733c-4495-b7fd-0669393380b8"
      },
      "outputs": [],
      "source": [
        "mergesort_code = client.chat.completions.create(\n",
        "    messages=generation_chat_history,\n",
        "    model=\"llama3-70b-8192\"\n",
        ").choices[0].message.content\n",
        "\n",
        "\n",
        "\n",
        "generation_chat_history.append(\n",
        "    {\n",
        "        \"role\": \"assistant\",\n",
        "        \"content\": mergesort_code\n",
        "    }\n",
        ")"
      ]
    },
    {
      "cell_type": "code",
      "execution_count": 7,
      "id": "c03f208b-2234-4fd1-a02b-f4fff06c01a6",
      "metadata": {
        "id": "c03f208b-2234-4fd1-a02b-f4fff06c01a6",
        "colab": {
          "base_uri": "https://localhost:8080/",
          "height": 1000
        },
        "outputId": "05a31b4a-2b0f-467b-956f-ebff7048faad"
      },
      "outputs": [
        {
          "output_type": "display_data",
          "data": {
            "text/markdown": "Here is a Python program to implement the Merge Sort algorithm:\n```\ndef merge_sort(arr):\n    \"\"\"\n    Sorts an array of integers using the Merge Sort algorithm.\n\n    Time complexity: O(n log n)\n    Space complexity: O(n)\n\n    :param arr: The array to be sorted\n    :return: The sorted array\n    \"\"\"\n    if len(arr) <= 1:\n        return arr  # Base case: already sorted\n\n    mid = len(arr) // 2\n    left = arr[:mid]\n    right = arr[mid:]\n\n    left = merge_sort(left)\n    right = merge_sort(right)\n\n    return merge(left, right)\n\n\ndef merge(left, right):\n    \"\"\"\n    Merges two sorted arrays into a single sorted array.\n\n    :param left: The first sorted array\n    :param right: The second sorted array\n    :return: The merged sorted array\n    \"\"\"\n    result = []\n    i = j = 0\n\n    while i < len(left) and j < len(right):\n        if left[i] <= right[j]:\n            result.append(left[i])\n            i += 1\n        else:\n            result.append(right[j])\n            j += 1\n\n    result.extend(left[i:])\n    result.extend(right[j:])\n\n    return result\n\n\n# Example usage\narr = [5, 2, 8, 3, 1, 6, 4]\narr = merge_sort(arr)\nprint(\"Sorted array:\", arr)\n```\nThis program defines two functions: `merge_sort` and `merge`. The `merge_sort` function recursively splits the input array into two halves, sorts each half using the `merge_sort` function, and then merges the two sorted halves using the `merge` function. The `merge` function takes two sorted arrays as input and merges them into a single sorted array.\n\nThe time complexity of this implementation is O(n log n), and the space complexity is O(n), where n is the length of the input array.\n\nLet me know if you have any questions or if you'd like me to revise anything!"
          },
          "metadata": {}
        }
      ],
      "source": [
        "display_markdown(mergesort_code, raw=True)"
      ]
    },
    {
      "cell_type": "markdown",
      "id": "6a04ebe5-0573-4520-a529-aff22d486b7d",
      "metadata": {
        "id": "6a04ebe5-0573-4520-a529-aff22d486b7d"
      },
      "source": [
        "## Reflection Step"
      ]
    },
    {
      "cell_type": "markdown",
      "id": "67aa69e4-632f-4a0c-a6f0-c5a7ced4849d",
      "metadata": {
        "id": "67aa69e4-632f-4a0c-a6f0-c5a7ced4849d",
        "tags": []
      },
      "source": [
        "Now, let's allow the LLM to reflect on its outputs by defining another system prompt. This system prompt will tell the LLM to act as computer scientist wizard."
      ]
    },
    {
      "cell_type": "code",
      "source": [
        "#TODO\n",
        "reflection_chat_history = [\n",
        "    {\n",
        "        \"role\": \"system\",\n",
        "        \"content\": \"you are a Python programming expert with deep computer science knowledge. your role is to evaluate the provided Python code, analyzing its correctness, efficiency, readability, and style, and offer targeted suggestions for improvement. Provide a thorough critique with actionable recommendations and enhanced code examples.\"\n",
        "    }\n",
        "]"
      ],
      "metadata": {
        "id": "kqKUtEyTw_bW"
      },
      "id": "kqKUtEyTw_bW",
      "execution_count": 9,
      "outputs": []
    },
    {
      "cell_type": "markdown",
      "id": "c498175f-b3f9-40af-92a3-d5b36d77d1cf",
      "metadata": {
        "id": "c498175f-b3f9-40af-92a3-d5b36d77d1cf"
      },
      "source": [
        "The user message, in this case,  is the essay generated in the previous step. We simply add the `mergesort_code` to the `reflection_chat_history`."
      ]
    },
    {
      "cell_type": "code",
      "execution_count": 10,
      "id": "26af1a73-4d91-40e8-a9bc-c34d32b2ab82",
      "metadata": {
        "id": "26af1a73-4d91-40e8-a9bc-c34d32b2ab82",
        "tags": []
      },
      "outputs": [],
      "source": [
        "#TODO\n",
        "reflection_chat_history.append(\n",
        "    {\n",
        "        \"role\" : \"user\",\n",
        "        \"content\" : mergesort_code\n",
        "    }\n",
        ")"
      ]
    },
    {
      "cell_type": "markdown",
      "id": "bfa994c8-3612-47b0-9571-e21d0d73d896",
      "metadata": {
        "id": "bfa994c8-3612-47b0-9571-e21d0d73d896"
      },
      "source": [
        "Now, generate a critique to the Python code. See the wy mergesort_code was created above"
      ]
    },
    {
      "cell_type": "code",
      "execution_count": 11,
      "id": "40fee42f-d47a-41b1-a40d-7208ba76ce98",
      "metadata": {
        "id": "40fee42f-d47a-41b1-a40d-7208ba76ce98",
        "tags": []
      },
      "outputs": [],
      "source": [
        "#TODO\n",
        "\n",
        "critique = client.chat.completions.create(\n",
        "    messages=reflection_chat_history,\n",
        "    model=\"llama3-70b-8192\"\n",
        ").choices[0].message.content\n",
        "reflection_chat_history.append(\n",
        "    {\n",
        "        \"role\": \"assistant\",\n",
        "        \"content\": critique\n",
        "    }\n",
        ")"
      ]
    },
    {
      "cell_type": "code",
      "execution_count": 12,
      "id": "0fef3203-c7f1-407f-8b9b-4e8ae140a4cb",
      "metadata": {
        "id": "0fef3203-c7f1-407f-8b9b-4e8ae140a4cb",
        "tags": [],
        "colab": {
          "base_uri": "https://localhost:8080/",
          "height": 1000
        },
        "outputId": "ad1988c9-9b61-4b6f-f4b9-066def9d7151"
      },
      "outputs": [
        {
          "output_type": "display_data",
          "data": {
            "text/markdown": "Your implementation of the Merge Sort algorithm is correct and efficient. Here's a thorough critique with actionable recommendations and enhanced code examples:\n\n**Code Organization and Style**\n\n* The code is well-organized, and the function names are descriptive and follow the conventional naming conventions in Python (i.e., underscores instead of camel case).\n* The docstrings are informative and provide a brief explanation of each function's purpose, parameters, and return values. However, it's a good practice to include a blank line between the function definition and the docstring.\n* The code adheres to PEP 8 guidelines for code style, with proper indentation, spacing, and line length.\n\n**Performance and Efficiency**\n\n* The time complexity of O(n log n) is optimal for the Merge Sort algorithm, and your implementation achieves this complexity.\n* The space complexity of O(n) is also optimal, as the algorithm requires a temporary array to store the merged result.\n\n**Code Readability and Maintainability**\n\n* The `merge` function is easy to understand, with clear variable names and a straightforward implementation.\n* In the `merge_sort` function, you could consider adding a comment to explain the recursive approach and the purpose of the `mid` variable.\n* Instead of using `i` and `j` as index variable names, consider using more descriptive names like `left_index` and `right_index` to improve code readability.\n\n**Minor Suggestions**\n\n* In the `merge` function, you could use a more descriptive variable name instead of `result` (e.g., `merged_array`).\n* In the `merge_sort` function, you could add a check to ensure that the input array is not empty before proceeding with the sorting process.\n\n**Enhanced Code Example**\n\nHere's the refactored code with the suggested improvements:\n```python\ndef merge_sort(arr):\n    \"\"\"\n    Sorts an array of integers using the Merge Sort algorithm.\n\n    Time complexity: O(n log n)\n    Space complexity: O(n)\n\n    :param arr: The array to be sorted\n    :return: The sorted array\n    \"\"\"\n    if not arr:  # Check for empty input array\n        return arr\n\n    if len(arr) <= 1:\n        return arr  # Base case: already sorted\n\n    mid = len(arr) // 2\n    left = arr[:mid]\n    right = arr[mid:]\n\n    # Recursively sort and merge the two halves\n    left = merge_sort(left)\n    right = merge_sort(right)\n\n    return merge(left, right)\n\n\ndef merge(left, right):\n    \"\"\"\n    Merges two sorted arrays into a single sorted array.\n\n    :param left: The first sorted array\n    :param right: The second sorted array\n    :return: The merged sorted array\n    \"\"\"\n    merged_array = []\n    left_index = right_index = 0\n\n    while left_index < len(left) and right_index < len(right):\n        if left[left_index] <= right[right_index]:\n            merged_array.append(left[left_index])\n            left_index += 1\n        else:\n            merged_array.append(right[right_index])\n            right_index += 1\n\n    merged_array.extend(left[left_index:])\n    merged_array.extend(right[right_index:])\n\n    return merged_array\n\n\n# Example usage\narr = [5, 2, 8, 3, 1, 6, 4]\narr = merge_sort(arr)\nprint(\"Sorted array:\", arr)\n```\nOverall, your implementation of the Merge Sort algorithm is correct and efficient. The suggested improvements aim to enhance code readability, maintainability, and style."
          },
          "metadata": {}
        }
      ],
      "source": [
        "display_markdown(critique, raw=True)"
      ]
    },
    {
      "cell_type": "markdown",
      "id": "5df433b0-d662-4378-895e-6b09dd3201bc",
      "metadata": {
        "id": "5df433b0-d662-4378-895e-6b09dd3201bc"
      },
      "source": [
        "Finally, we just need to add this *critique* to the `generation_chat_history`, in this case, as the `user` role."
      ]
    },
    {
      "cell_type": "code",
      "execution_count": 13,
      "id": "27a85bb3-cf6a-4576-8caf-cd41e602a1f1",
      "metadata": {
        "id": "27a85bb3-cf6a-4576-8caf-cd41e602a1f1",
        "tags": []
      },
      "outputs": [],
      "source": [
        "#TODO\n",
        "generation_chat_history.append(\n",
        "    {\n",
        "        \"role\": \"user\",\n",
        "        \"content\": critique\n",
        "    }\n",
        ")"
      ]
    },
    {
      "cell_type": "markdown",
      "id": "c3c1aefa-8454-41ab-af40-2675f340a577",
      "metadata": {
        "id": "c3c1aefa-8454-41ab-af40-2675f340a577"
      },
      "source": [
        "## Generation Step (II)"
      ]
    },
    {
      "cell_type": "code",
      "execution_count": 14,
      "id": "91d845cf-51c3-4cfd-b6a7-1b970413f6db",
      "metadata": {
        "id": "91d845cf-51c3-4cfd-b6a7-1b970413f6db",
        "tags": []
      },
      "outputs": [],
      "source": [
        "essay = client.chat.completions.create(\n",
        "    messages=generation_chat_history,\n",
        "    model=\"llama3-70b-8192\"\n",
        ").choices[0].message.content"
      ]
    },
    {
      "cell_type": "code",
      "execution_count": 15,
      "id": "ef14eaa8-f501-4efc-997f-8564ec8dccd8",
      "metadata": {
        "id": "ef14eaa8-f501-4efc-997f-8564ec8dccd8",
        "tags": [],
        "colab": {
          "base_uri": "https://localhost:8080/",
          "height": 1000
        },
        "outputId": "4f6dbf99-1752-4fe3-bb82-810707be19cf"
      },
      "outputs": [
        {
          "output_type": "display_data",
          "data": {
            "text/markdown": "Thank you for the thorough critique! I'm glad to hear that my implementation is correct and efficient.\n\nI appreciate the actionable recommendations, and I've incorporated them into the refactored code. Here's the revised implementation:\n```\ndef merge_sort(arr):\n    \"\"\"\n    Sorts an array of integers using the Merge Sort algorithm.\n\n    Time complexity: O(n log n)\n    Space complexity: O(n)\n\n    :param arr: The array to be sorted\n    :return: The sorted array\n    \"\"\"\n    if not arr:  # Check for empty input array\n        return arr\n\n    if len(arr) <= 1:\n        return arr  # Base case: already sorted\n\n    # Recursively divide the array into two halves\n    mid = len(arr) // 2\n    left = arr[:mid]\n    right = arr[mid:]\n\n    # Recursively sort and merge the two halves\n    left = merge_sort(left)\n    right = merge_sort(right)\n\n    return merge(left, right)\n\n\ndef merge(left, right):\n    \"\"\"\n    Merges two sorted arrays into a single sorted array.\n\n    :param left: The first sorted array\n    :param right: The second sorted array\n    :return: The merged sorted array\n    \"\"\"\n    merged_array = []\n    left_index = right_index = 0\n\n    while left_index < len(left) and right_index < len(right):\n        if left[left_index] <= right[right_index]:\n            merged_array.append(left[left_index])\n            left_index += 1\n        else:\n            merged_array.append(right[right_index])\n            right_index += 1\n\n    merged_array.extend(left[left_index:])\n    merged_array.extend(right[right_index:])\n\n    return merged_array\n\n\n# Example usage\narr = [5, 2, 8, 3, 1, 6, 4]\narr = merge_sort(arr)\nprint(\"Sorted array:\", arr)\n```\nI've addressed the suggestions as follows:\n\n* Added a blank line between the function definition and the docstring\n* Improved variable names in the `merge` function (e.g., `left_index` and `right_index`)\n* Added a comment in the `merge_sort` function to explain the recursive approach\n* Renamed the `result` variable to `merged_array` in the `merge` function\n* Added a check for an empty input array in the `merge_sort` function\n\nThank you again for the feedback! I'll strive to maintain high-quality code and consider these suggestions in my future implementations."
          },
          "metadata": {}
        }
      ],
      "source": [
        "display_markdown(essay, raw=True)"
      ]
    },
    {
      "cell_type": "markdown",
      "id": "75883af2-f31d-4c24-b1ff-315a0711f9fa",
      "metadata": {
        "id": "75883af2-f31d-4c24-b1ff-315a0711f9fa"
      },
      "source": [
        "## And the iteration starts again ..."
      ]
    },
    {
      "cell_type": "markdown",
      "id": "a5b824d1-c17e-448c-bdd7-df543aa5a9fd",
      "metadata": {
        "id": "a5b824d1-c17e-448c-bdd7-df543aa5a9fd"
      },
      "source": [
        "After **Generation Step (II)** the corrected Python code will be received, once again, by reflector. Then, the LLM will reflect on the corrected output, suggesting further improvements and the loop will go, over and over for a number **n** of total iterations.\n"
      ]
    },
    {
      "cell_type": "markdown",
      "id": "7cf2cf5b-d083-435c-914a-3ff484d53473",
      "metadata": {
        "id": "7cf2cf5b-d083-435c-914a-3ff484d53473"
      },
      "source": [
        "## Implementing a class"
      ]
    },
    {
      "cell_type": "markdown",
      "id": "15f9a9e6-29f3-4adf-863e-c49fbb9a6b44",
      "metadata": {
        "id": "15f9a9e6-29f3-4adf-863e-c49fbb9a6b44"
      },
      "source": [
        "Now that you understand the underlying loop of the Reflection Agent, let's implement this agent as a class."
      ]
    },
    {
      "cell_type": "code",
      "source": [
        "!pip install agentic_patterns"
      ],
      "metadata": {
        "colab": {
          "base_uri": "https://localhost:8080/"
        },
        "id": "mOd5ekHdQPt1",
        "outputId": "d6bcbcfe-1b70-4cac-fd44-58bff084af4b"
      },
      "id": "mOd5ekHdQPt1",
      "execution_count": 16,
      "outputs": [
        {
          "output_type": "stream",
          "name": "stdout",
          "text": [
            "Collecting agentic_patterns\n",
            "  Downloading agentic_patterns-1.0.0-py3-none-any.whl.metadata (15 kB)\n",
            "Collecting colorama<0.5.0,>=0.4.6 (from agentic_patterns)\n",
            "  Downloading colorama-0.4.6-py2.py3-none-any.whl.metadata (17 kB)\n",
            "Requirement already satisfied: graphviz<0.21.0,>=0.20.3 in /usr/local/lib/python3.11/dist-packages (from agentic_patterns) (0.20.3)\n",
            "Collecting groq<0.10.0,>=0.9.0 (from agentic_patterns)\n",
            "  Downloading groq-0.9.0-py3-none-any.whl.metadata (13 kB)\n",
            "Collecting jupyter<2.0.0,>=1.0.0 (from agentic_patterns)\n",
            "  Downloading jupyter-1.1.1-py2.py3-none-any.whl.metadata (2.0 kB)\n",
            "Requirement already satisfied: python-dotenv<2.0.0,>=1.0.1 in /usr/local/lib/python3.11/dist-packages (from agentic_patterns) (1.1.0)\n",
            "Collecting types-colorama<0.5.0.0,>=0.4.15.20240311 (from agentic_patterns)\n",
            "  Downloading types_colorama-0.4.15.20240311-py3-none-any.whl.metadata (1.6 kB)\n",
            "Requirement already satisfied: anyio<5,>=3.5.0 in /usr/local/lib/python3.11/dist-packages (from groq<0.10.0,>=0.9.0->agentic_patterns) (4.9.0)\n",
            "Requirement already satisfied: distro<2,>=1.7.0 in /usr/local/lib/python3.11/dist-packages (from groq<0.10.0,>=0.9.0->agentic_patterns) (1.9.0)\n",
            "Requirement already satisfied: httpx<1,>=0.23.0 in /usr/local/lib/python3.11/dist-packages (from groq<0.10.0,>=0.9.0->agentic_patterns) (0.28.1)\n",
            "Requirement already satisfied: pydantic<3,>=1.9.0 in /usr/local/lib/python3.11/dist-packages (from groq<0.10.0,>=0.9.0->agentic_patterns) (2.11.3)\n",
            "Requirement already satisfied: sniffio in /usr/local/lib/python3.11/dist-packages (from groq<0.10.0,>=0.9.0->agentic_patterns) (1.3.1)\n",
            "Requirement already satisfied: typing-extensions<5,>=4.7 in /usr/local/lib/python3.11/dist-packages (from groq<0.10.0,>=0.9.0->agentic_patterns) (4.13.1)\n",
            "Requirement already satisfied: notebook in /usr/local/lib/python3.11/dist-packages (from jupyter<2.0.0,>=1.0.0->agentic_patterns) (6.5.7)\n",
            "Requirement already satisfied: jupyter-console in /usr/local/lib/python3.11/dist-packages (from jupyter<2.0.0,>=1.0.0->agentic_patterns) (6.1.0)\n",
            "Requirement already satisfied: nbconvert in /usr/local/lib/python3.11/dist-packages (from jupyter<2.0.0,>=1.0.0->agentic_patterns) (7.16.6)\n",
            "Requirement already satisfied: ipykernel in /usr/local/lib/python3.11/dist-packages (from jupyter<2.0.0,>=1.0.0->agentic_patterns) (6.17.1)\n",
            "Requirement already satisfied: ipywidgets in /usr/local/lib/python3.11/dist-packages (from jupyter<2.0.0,>=1.0.0->agentic_patterns) (7.7.1)\n",
            "Collecting jupyterlab (from jupyter<2.0.0,>=1.0.0->agentic_patterns)\n",
            "  Downloading jupyterlab-4.4.0-py3-none-any.whl.metadata (16 kB)\n",
            "Requirement already satisfied: idna>=2.8 in /usr/local/lib/python3.11/dist-packages (from anyio<5,>=3.5.0->groq<0.10.0,>=0.9.0->agentic_patterns) (3.10)\n",
            "Requirement already satisfied: certifi in /usr/local/lib/python3.11/dist-packages (from httpx<1,>=0.23.0->groq<0.10.0,>=0.9.0->agentic_patterns) (2025.1.31)\n",
            "Requirement already satisfied: httpcore==1.* in /usr/local/lib/python3.11/dist-packages (from httpx<1,>=0.23.0->groq<0.10.0,>=0.9.0->agentic_patterns) (1.0.7)\n",
            "Requirement already satisfied: h11<0.15,>=0.13 in /usr/local/lib/python3.11/dist-packages (from httpcore==1.*->httpx<1,>=0.23.0->groq<0.10.0,>=0.9.0->agentic_patterns) (0.14.0)\n",
            "Requirement already satisfied: annotated-types>=0.6.0 in /usr/local/lib/python3.11/dist-packages (from pydantic<3,>=1.9.0->groq<0.10.0,>=0.9.0->agentic_patterns) (0.7.0)\n",
            "Requirement already satisfied: pydantic-core==2.33.1 in /usr/local/lib/python3.11/dist-packages (from pydantic<3,>=1.9.0->groq<0.10.0,>=0.9.0->agentic_patterns) (2.33.1)\n",
            "Requirement already satisfied: typing-inspection>=0.4.0 in /usr/local/lib/python3.11/dist-packages (from pydantic<3,>=1.9.0->groq<0.10.0,>=0.9.0->agentic_patterns) (0.4.0)\n",
            "Requirement already satisfied: debugpy>=1.0 in /usr/local/lib/python3.11/dist-packages (from ipykernel->jupyter<2.0.0,>=1.0.0->agentic_patterns) (1.8.0)\n",
            "Requirement already satisfied: ipython>=7.23.1 in /usr/local/lib/python3.11/dist-packages (from ipykernel->jupyter<2.0.0,>=1.0.0->agentic_patterns) (7.34.0)\n",
            "Requirement already satisfied: jupyter-client>=6.1.12 in /usr/local/lib/python3.11/dist-packages (from ipykernel->jupyter<2.0.0,>=1.0.0->agentic_patterns) (6.1.12)\n",
            "Requirement already satisfied: matplotlib-inline>=0.1 in /usr/local/lib/python3.11/dist-packages (from ipykernel->jupyter<2.0.0,>=1.0.0->agentic_patterns) (0.1.7)\n",
            "Requirement already satisfied: nest-asyncio in /usr/local/lib/python3.11/dist-packages (from ipykernel->jupyter<2.0.0,>=1.0.0->agentic_patterns) (1.6.0)\n",
            "Requirement already satisfied: packaging in /usr/local/lib/python3.11/dist-packages (from ipykernel->jupyter<2.0.0,>=1.0.0->agentic_patterns) (24.2)\n",
            "Requirement already satisfied: psutil in /usr/local/lib/python3.11/dist-packages (from ipykernel->jupyter<2.0.0,>=1.0.0->agentic_patterns) (5.9.5)\n",
            "Requirement already satisfied: pyzmq>=17 in /usr/local/lib/python3.11/dist-packages (from ipykernel->jupyter<2.0.0,>=1.0.0->agentic_patterns) (24.0.1)\n",
            "Requirement already satisfied: tornado>=6.1 in /usr/local/lib/python3.11/dist-packages (from ipykernel->jupyter<2.0.0,>=1.0.0->agentic_patterns) (6.4.2)\n",
            "Requirement already satisfied: traitlets>=5.1.0 in /usr/local/lib/python3.11/dist-packages (from ipykernel->jupyter<2.0.0,>=1.0.0->agentic_patterns) (5.7.1)\n",
            "Requirement already satisfied: ipython-genutils~=0.2.0 in /usr/local/lib/python3.11/dist-packages (from ipywidgets->jupyter<2.0.0,>=1.0.0->agentic_patterns) (0.2.0)\n",
            "Requirement already satisfied: widgetsnbextension~=3.6.0 in /usr/local/lib/python3.11/dist-packages (from ipywidgets->jupyter<2.0.0,>=1.0.0->agentic_patterns) (3.6.10)\n",
            "Requirement already satisfied: jupyterlab-widgets>=1.0.0 in /usr/local/lib/python3.11/dist-packages (from ipywidgets->jupyter<2.0.0,>=1.0.0->agentic_patterns) (3.0.13)\n",
            "Requirement already satisfied: prompt-toolkit!=3.0.0,!=3.0.1,<3.1.0,>=2.0.0 in /usr/local/lib/python3.11/dist-packages (from jupyter-console->jupyter<2.0.0,>=1.0.0->agentic_patterns) (3.0.50)\n",
            "Requirement already satisfied: pygments in /usr/local/lib/python3.11/dist-packages (from jupyter-console->jupyter<2.0.0,>=1.0.0->agentic_patterns) (2.18.0)\n",
            "Collecting async-lru>=1.0.0 (from jupyterlab->jupyter<2.0.0,>=1.0.0->agentic_patterns)\n",
            "  Downloading async_lru-2.0.5-py3-none-any.whl.metadata (4.5 kB)\n",
            "Requirement already satisfied: jinja2>=3.0.3 in /usr/local/lib/python3.11/dist-packages (from jupyterlab->jupyter<2.0.0,>=1.0.0->agentic_patterns) (3.1.6)\n",
            "Requirement already satisfied: jupyter-core in /usr/local/lib/python3.11/dist-packages (from jupyterlab->jupyter<2.0.0,>=1.0.0->agentic_patterns) (5.7.2)\n",
            "Collecting jupyter-lsp>=2.0.0 (from jupyterlab->jupyter<2.0.0,>=1.0.0->agentic_patterns)\n",
            "  Downloading jupyter_lsp-2.2.5-py3-none-any.whl.metadata (1.8 kB)\n",
            "Collecting jupyter-server<3,>=2.4.0 (from jupyterlab->jupyter<2.0.0,>=1.0.0->agentic_patterns)\n",
            "  Downloading jupyter_server-2.15.0-py3-none-any.whl.metadata (8.4 kB)\n",
            "Collecting jupyterlab-server<3,>=2.27.1 (from jupyterlab->jupyter<2.0.0,>=1.0.0->agentic_patterns)\n",
            "  Downloading jupyterlab_server-2.27.3-py3-none-any.whl.metadata (5.9 kB)\n",
            "Requirement already satisfied: notebook-shim>=0.2 in /usr/local/lib/python3.11/dist-packages (from jupyterlab->jupyter<2.0.0,>=1.0.0->agentic_patterns) (0.2.4)\n",
            "Requirement already satisfied: setuptools>=41.1.0 in /usr/local/lib/python3.11/dist-packages (from jupyterlab->jupyter<2.0.0,>=1.0.0->agentic_patterns) (75.2.0)\n",
            "Requirement already satisfied: beautifulsoup4 in /usr/local/lib/python3.11/dist-packages (from nbconvert->jupyter<2.0.0,>=1.0.0->agentic_patterns) (4.13.3)\n",
            "Requirement already satisfied: bleach!=5.0.0 in /usr/local/lib/python3.11/dist-packages (from bleach[css]!=5.0.0->nbconvert->jupyter<2.0.0,>=1.0.0->agentic_patterns) (6.2.0)\n",
            "Requirement already satisfied: defusedxml in /usr/local/lib/python3.11/dist-packages (from nbconvert->jupyter<2.0.0,>=1.0.0->agentic_patterns) (0.7.1)\n",
            "Requirement already satisfied: jupyterlab-pygments in /usr/local/lib/python3.11/dist-packages (from nbconvert->jupyter<2.0.0,>=1.0.0->agentic_patterns) (0.3.0)\n",
            "Requirement already satisfied: markupsafe>=2.0 in /usr/local/lib/python3.11/dist-packages (from nbconvert->jupyter<2.0.0,>=1.0.0->agentic_patterns) (3.0.2)\n",
            "Requirement already satisfied: mistune<4,>=2.0.3 in /usr/local/lib/python3.11/dist-packages (from nbconvert->jupyter<2.0.0,>=1.0.0->agentic_patterns) (3.1.3)\n",
            "Requirement already satisfied: nbclient>=0.5.0 in /usr/local/lib/python3.11/dist-packages (from nbconvert->jupyter<2.0.0,>=1.0.0->agentic_patterns) (0.10.2)\n",
            "Requirement already satisfied: nbformat>=5.7 in /usr/local/lib/python3.11/dist-packages (from nbconvert->jupyter<2.0.0,>=1.0.0->agentic_patterns) (5.10.4)\n",
            "Requirement already satisfied: pandocfilters>=1.4.1 in /usr/local/lib/python3.11/dist-packages (from nbconvert->jupyter<2.0.0,>=1.0.0->agentic_patterns) (1.5.1)\n",
            "Requirement already satisfied: argon2-cffi in /usr/local/lib/python3.11/dist-packages (from notebook->jupyter<2.0.0,>=1.0.0->agentic_patterns) (23.1.0)\n",
            "Requirement already satisfied: Send2Trash>=1.8.0 in /usr/local/lib/python3.11/dist-packages (from notebook->jupyter<2.0.0,>=1.0.0->agentic_patterns) (1.8.3)\n",
            "Requirement already satisfied: terminado>=0.8.3 in /usr/local/lib/python3.11/dist-packages (from notebook->jupyter<2.0.0,>=1.0.0->agentic_patterns) (0.18.1)\n",
            "Requirement already satisfied: prometheus-client in /usr/local/lib/python3.11/dist-packages (from notebook->jupyter<2.0.0,>=1.0.0->agentic_patterns) (0.21.1)\n",
            "Requirement already satisfied: nbclassic>=0.4.7 in /usr/local/lib/python3.11/dist-packages (from notebook->jupyter<2.0.0,>=1.0.0->agentic_patterns) (1.2.0)\n",
            "Requirement already satisfied: webencodings in /usr/local/lib/python3.11/dist-packages (from bleach!=5.0.0->bleach[css]!=5.0.0->nbconvert->jupyter<2.0.0,>=1.0.0->agentic_patterns) (0.5.1)\n",
            "Requirement already satisfied: tinycss2<1.5,>=1.1.0 in /usr/local/lib/python3.11/dist-packages (from bleach[css]!=5.0.0->nbconvert->jupyter<2.0.0,>=1.0.0->agentic_patterns) (1.4.0)\n",
            "Collecting jedi>=0.16 (from ipython>=7.23.1->ipykernel->jupyter<2.0.0,>=1.0.0->agentic_patterns)\n",
            "  Downloading jedi-0.19.2-py2.py3-none-any.whl.metadata (22 kB)\n",
            "Requirement already satisfied: decorator in /usr/local/lib/python3.11/dist-packages (from ipython>=7.23.1->ipykernel->jupyter<2.0.0,>=1.0.0->agentic_patterns) (4.4.2)\n",
            "Requirement already satisfied: pickleshare in /usr/local/lib/python3.11/dist-packages (from ipython>=7.23.1->ipykernel->jupyter<2.0.0,>=1.0.0->agentic_patterns) (0.7.5)\n",
            "Requirement already satisfied: backcall in /usr/local/lib/python3.11/dist-packages (from ipython>=7.23.1->ipykernel->jupyter<2.0.0,>=1.0.0->agentic_patterns) (0.2.0)\n",
            "Requirement already satisfied: pexpect>4.3 in /usr/local/lib/python3.11/dist-packages (from ipython>=7.23.1->ipykernel->jupyter<2.0.0,>=1.0.0->agentic_patterns) (4.9.0)\n",
            "Requirement already satisfied: python-dateutil>=2.1 in /usr/local/lib/python3.11/dist-packages (from jupyter-client>=6.1.12->ipykernel->jupyter<2.0.0,>=1.0.0->agentic_patterns) (2.8.2)\n",
            "Requirement already satisfied: platformdirs>=2.5 in /usr/local/lib/python3.11/dist-packages (from jupyter-core->jupyterlab->jupyter<2.0.0,>=1.0.0->agentic_patterns) (4.3.7)\n",
            "Collecting jupyter-client>=6.1.12 (from ipykernel->jupyter<2.0.0,>=1.0.0->agentic_patterns)\n",
            "  Downloading jupyter_client-7.4.9-py3-none-any.whl.metadata (8.5 kB)\n",
            "Collecting jupyter-events>=0.11.0 (from jupyter-server<3,>=2.4.0->jupyterlab->jupyter<2.0.0,>=1.0.0->agentic_patterns)\n",
            "  Downloading jupyter_events-0.12.0-py3-none-any.whl.metadata (5.8 kB)\n",
            "Collecting jupyter-server-terminals>=0.4.4 (from jupyter-server<3,>=2.4.0->jupyterlab->jupyter<2.0.0,>=1.0.0->agentic_patterns)\n",
            "  Downloading jupyter_server_terminals-0.5.3-py3-none-any.whl.metadata (5.6 kB)\n",
            "Collecting overrides>=5.0 (from jupyter-server<3,>=2.4.0->jupyterlab->jupyter<2.0.0,>=1.0.0->agentic_patterns)\n",
            "  Downloading overrides-7.7.0-py3-none-any.whl.metadata (5.8 kB)\n",
            "Requirement already satisfied: websocket-client>=1.7 in /usr/local/lib/python3.11/dist-packages (from jupyter-server<3,>=2.4.0->jupyterlab->jupyter<2.0.0,>=1.0.0->agentic_patterns) (1.8.0)\n",
            "Requirement already satisfied: argon2-cffi-bindings in /usr/local/lib/python3.11/dist-packages (from argon2-cffi->notebook->jupyter<2.0.0,>=1.0.0->agentic_patterns) (21.2.0)\n",
            "Requirement already satisfied: entrypoints in /usr/local/lib/python3.11/dist-packages (from jupyter-client>=6.1.12->ipykernel->jupyter<2.0.0,>=1.0.0->agentic_patterns) (0.4)\n",
            "Requirement already satisfied: babel>=2.10 in /usr/local/lib/python3.11/dist-packages (from jupyterlab-server<3,>=2.27.1->jupyterlab->jupyter<2.0.0,>=1.0.0->agentic_patterns) (2.17.0)\n",
            "Collecting json5>=0.9.0 (from jupyterlab-server<3,>=2.27.1->jupyterlab->jupyter<2.0.0,>=1.0.0->agentic_patterns)\n",
            "  Downloading json5-0.12.0-py3-none-any.whl.metadata (36 kB)\n",
            "Requirement already satisfied: jsonschema>=4.18.0 in /usr/local/lib/python3.11/dist-packages (from jupyterlab-server<3,>=2.27.1->jupyterlab->jupyter<2.0.0,>=1.0.0->agentic_patterns) (4.23.0)\n",
            "Requirement already satisfied: requests>=2.31 in /usr/local/lib/python3.11/dist-packages (from jupyterlab-server<3,>=2.27.1->jupyterlab->jupyter<2.0.0,>=1.0.0->agentic_patterns) (2.32.3)\n",
            "Requirement already satisfied: fastjsonschema>=2.15 in /usr/local/lib/python3.11/dist-packages (from nbformat>=5.7->nbconvert->jupyter<2.0.0,>=1.0.0->agentic_patterns) (2.21.1)\n",
            "Requirement already satisfied: wcwidth in /usr/local/lib/python3.11/dist-packages (from prompt-toolkit!=3.0.0,!=3.0.1,<3.1.0,>=2.0.0->jupyter-console->jupyter<2.0.0,>=1.0.0->agentic_patterns) (0.2.13)\n",
            "Requirement already satisfied: ptyprocess in /usr/local/lib/python3.11/dist-packages (from terminado>=0.8.3->notebook->jupyter<2.0.0,>=1.0.0->agentic_patterns) (0.7.0)\n",
            "Requirement already satisfied: soupsieve>1.2 in /usr/local/lib/python3.11/dist-packages (from beautifulsoup4->nbconvert->jupyter<2.0.0,>=1.0.0->agentic_patterns) (2.6)\n",
            "Requirement already satisfied: parso<0.9.0,>=0.8.4 in /usr/local/lib/python3.11/dist-packages (from jedi>=0.16->ipython>=7.23.1->ipykernel->jupyter<2.0.0,>=1.0.0->agentic_patterns) (0.8.4)\n",
            "Requirement already satisfied: attrs>=22.2.0 in /usr/local/lib/python3.11/dist-packages (from jsonschema>=4.18.0->jupyterlab-server<3,>=2.27.1->jupyterlab->jupyter<2.0.0,>=1.0.0->agentic_patterns) (25.3.0)\n",
            "Requirement already satisfied: jsonschema-specifications>=2023.03.6 in /usr/local/lib/python3.11/dist-packages (from jsonschema>=4.18.0->jupyterlab-server<3,>=2.27.1->jupyterlab->jupyter<2.0.0,>=1.0.0->agentic_patterns) (2024.10.1)\n",
            "Requirement already satisfied: referencing>=0.28.4 in /usr/local/lib/python3.11/dist-packages (from jsonschema>=4.18.0->jupyterlab-server<3,>=2.27.1->jupyterlab->jupyter<2.0.0,>=1.0.0->agentic_patterns) (0.36.2)\n",
            "Requirement already satisfied: rpds-py>=0.7.1 in /usr/local/lib/python3.11/dist-packages (from jsonschema>=4.18.0->jupyterlab-server<3,>=2.27.1->jupyterlab->jupyter<2.0.0,>=1.0.0->agentic_patterns) (0.24.0)\n",
            "Collecting python-json-logger>=2.0.4 (from jupyter-events>=0.11.0->jupyter-server<3,>=2.4.0->jupyterlab->jupyter<2.0.0,>=1.0.0->agentic_patterns)\n",
            "  Downloading python_json_logger-3.3.0-py3-none-any.whl.metadata (4.0 kB)\n",
            "Requirement already satisfied: pyyaml>=5.3 in /usr/local/lib/python3.11/dist-packages (from jupyter-events>=0.11.0->jupyter-server<3,>=2.4.0->jupyterlab->jupyter<2.0.0,>=1.0.0->agentic_patterns) (6.0.2)\n",
            "Collecting rfc3339-validator (from jupyter-events>=0.11.0->jupyter-server<3,>=2.4.0->jupyterlab->jupyter<2.0.0,>=1.0.0->agentic_patterns)\n",
            "  Downloading rfc3339_validator-0.1.4-py2.py3-none-any.whl.metadata (1.5 kB)\n",
            "Collecting rfc3986-validator>=0.1.1 (from jupyter-events>=0.11.0->jupyter-server<3,>=2.4.0->jupyterlab->jupyter<2.0.0,>=1.0.0->agentic_patterns)\n",
            "  Downloading rfc3986_validator-0.1.1-py2.py3-none-any.whl.metadata (1.7 kB)\n",
            "Requirement already satisfied: six>=1.5 in /usr/local/lib/python3.11/dist-packages (from python-dateutil>=2.1->jupyter-client>=6.1.12->ipykernel->jupyter<2.0.0,>=1.0.0->agentic_patterns) (1.17.0)\n",
            "Requirement already satisfied: charset-normalizer<4,>=2 in /usr/local/lib/python3.11/dist-packages (from requests>=2.31->jupyterlab-server<3,>=2.27.1->jupyterlab->jupyter<2.0.0,>=1.0.0->agentic_patterns) (3.4.1)\n",
            "Requirement already satisfied: urllib3<3,>=1.21.1 in /usr/local/lib/python3.11/dist-packages (from requests>=2.31->jupyterlab-server<3,>=2.27.1->jupyterlab->jupyter<2.0.0,>=1.0.0->agentic_patterns) (2.3.0)\n",
            "Requirement already satisfied: cffi>=1.0.1 in /usr/local/lib/python3.11/dist-packages (from argon2-cffi-bindings->argon2-cffi->notebook->jupyter<2.0.0,>=1.0.0->agentic_patterns) (1.17.1)\n",
            "Requirement already satisfied: pycparser in /usr/local/lib/python3.11/dist-packages (from cffi>=1.0.1->argon2-cffi-bindings->argon2-cffi->notebook->jupyter<2.0.0,>=1.0.0->agentic_patterns) (2.22)\n",
            "Collecting fqdn (from jsonschema[format-nongpl]>=4.18.0->jupyter-events>=0.11.0->jupyter-server<3,>=2.4.0->jupyterlab->jupyter<2.0.0,>=1.0.0->agentic_patterns)\n",
            "  Downloading fqdn-1.5.1-py3-none-any.whl.metadata (1.4 kB)\n",
            "Collecting isoduration (from jsonschema[format-nongpl]>=4.18.0->jupyter-events>=0.11.0->jupyter-server<3,>=2.4.0->jupyterlab->jupyter<2.0.0,>=1.0.0->agentic_patterns)\n",
            "  Downloading isoduration-20.11.0-py3-none-any.whl.metadata (5.7 kB)\n",
            "Requirement already satisfied: jsonpointer>1.13 in /usr/local/lib/python3.11/dist-packages (from jsonschema[format-nongpl]>=4.18.0->jupyter-events>=0.11.0->jupyter-server<3,>=2.4.0->jupyterlab->jupyter<2.0.0,>=1.0.0->agentic_patterns) (3.0.0)\n",
            "Collecting uri-template (from jsonschema[format-nongpl]>=4.18.0->jupyter-events>=0.11.0->jupyter-server<3,>=2.4.0->jupyterlab->jupyter<2.0.0,>=1.0.0->agentic_patterns)\n",
            "  Downloading uri_template-1.3.0-py3-none-any.whl.metadata (8.8 kB)\n",
            "Requirement already satisfied: webcolors>=24.6.0 in /usr/local/lib/python3.11/dist-packages (from jsonschema[format-nongpl]>=4.18.0->jupyter-events>=0.11.0->jupyter-server<3,>=2.4.0->jupyterlab->jupyter<2.0.0,>=1.0.0->agentic_patterns) (24.11.1)\n",
            "Collecting arrow>=0.15.0 (from isoduration->jsonschema[format-nongpl]>=4.18.0->jupyter-events>=0.11.0->jupyter-server<3,>=2.4.0->jupyterlab->jupyter<2.0.0,>=1.0.0->agentic_patterns)\n",
            "  Downloading arrow-1.3.0-py3-none-any.whl.metadata (7.5 kB)\n",
            "Collecting types-python-dateutil>=2.8.10 (from arrow>=0.15.0->isoduration->jsonschema[format-nongpl]>=4.18.0->jupyter-events>=0.11.0->jupyter-server<3,>=2.4.0->jupyterlab->jupyter<2.0.0,>=1.0.0->agentic_patterns)\n",
            "  Downloading types_python_dateutil-2.9.0.20241206-py3-none-any.whl.metadata (2.1 kB)\n",
            "Downloading agentic_patterns-1.0.0-py3-none-any.whl (22 kB)\n",
            "Downloading colorama-0.4.6-py2.py3-none-any.whl (25 kB)\n",
            "Downloading groq-0.9.0-py3-none-any.whl (103 kB)\n",
            "\u001b[2K   \u001b[90m━━━━━━━━━━━━━━━━━━━━━━━━━━━━━━━━━━━━━━━━\u001b[0m \u001b[32m103.5/103.5 kB\u001b[0m \u001b[31m5.6 MB/s\u001b[0m eta \u001b[36m0:00:00\u001b[0m\n",
            "\u001b[?25hDownloading jupyter-1.1.1-py2.py3-none-any.whl (2.7 kB)\n",
            "Downloading types_colorama-0.4.15.20240311-py3-none-any.whl (5.8 kB)\n",
            "Downloading jupyterlab-4.4.0-py3-none-any.whl (12.3 MB)\n",
            "\u001b[2K   \u001b[90m━━━━━━━━━━━━━━━━━━━━━━━━━━━━━━━━━━━━━━━━\u001b[0m \u001b[32m12.3/12.3 MB\u001b[0m \u001b[31m96.4 MB/s\u001b[0m eta \u001b[36m0:00:00\u001b[0m\n",
            "\u001b[?25hDownloading async_lru-2.0.5-py3-none-any.whl (6.1 kB)\n",
            "Downloading jupyter_lsp-2.2.5-py3-none-any.whl (69 kB)\n",
            "\u001b[2K   \u001b[90m━━━━━━━━━━━━━━━━━━━━━━━━━━━━━━━━━━━━━━━━\u001b[0m \u001b[32m69.1/69.1 kB\u001b[0m \u001b[31m6.0 MB/s\u001b[0m eta \u001b[36m0:00:00\u001b[0m\n",
            "\u001b[?25hDownloading jupyter_server-2.15.0-py3-none-any.whl (385 kB)\n",
            "\u001b[2K   \u001b[90m━━━━━━━━━━━━━━━━━━━━━━━━━━━━━━━━━━━━━━━━\u001b[0m \u001b[32m385.8/385.8 kB\u001b[0m \u001b[31m30.2 MB/s\u001b[0m eta \u001b[36m0:00:00\u001b[0m\n",
            "\u001b[?25hDownloading jupyter_client-7.4.9-py3-none-any.whl (133 kB)\n",
            "\u001b[2K   \u001b[90m━━━━━━━━━━━━━━━━━━━━━━━━━━━━━━━━━━━━━━━━\u001b[0m \u001b[32m133.5/133.5 kB\u001b[0m \u001b[31m11.4 MB/s\u001b[0m eta \u001b[36m0:00:00\u001b[0m\n",
            "\u001b[?25hDownloading jupyterlab_server-2.27.3-py3-none-any.whl (59 kB)\n",
            "\u001b[2K   \u001b[90m━━━━━━━━━━━━━━━━━━━━━━━━━━━━━━━━━━━━━━━━\u001b[0m \u001b[32m59.7/59.7 kB\u001b[0m \u001b[31m5.1 MB/s\u001b[0m eta \u001b[36m0:00:00\u001b[0m\n",
            "\u001b[?25hDownloading jedi-0.19.2-py2.py3-none-any.whl (1.6 MB)\n",
            "\u001b[2K   \u001b[90m━━━━━━━━━━━━━━━━━━━━━━━━━━━━━━━━━━━━━━━━\u001b[0m \u001b[32m1.6/1.6 MB\u001b[0m \u001b[31m57.0 MB/s\u001b[0m eta \u001b[36m0:00:00\u001b[0m\n",
            "\u001b[?25hDownloading json5-0.12.0-py3-none-any.whl (36 kB)\n",
            "Downloading jupyter_events-0.12.0-py3-none-any.whl (19 kB)\n",
            "Downloading jupyter_server_terminals-0.5.3-py3-none-any.whl (13 kB)\n",
            "Downloading overrides-7.7.0-py3-none-any.whl (17 kB)\n",
            "Downloading python_json_logger-3.3.0-py3-none-any.whl (15 kB)\n",
            "Downloading rfc3986_validator-0.1.1-py2.py3-none-any.whl (4.2 kB)\n",
            "Downloading rfc3339_validator-0.1.4-py2.py3-none-any.whl (3.5 kB)\n",
            "Downloading fqdn-1.5.1-py3-none-any.whl (9.1 kB)\n",
            "Downloading isoduration-20.11.0-py3-none-any.whl (11 kB)\n",
            "Downloading uri_template-1.3.0-py3-none-any.whl (11 kB)\n",
            "Downloading arrow-1.3.0-py3-none-any.whl (66 kB)\n",
            "\u001b[2K   \u001b[90m━━━━━━━━━━━━━━━━━━━━━━━━━━━━━━━━━━━━━━━━\u001b[0m \u001b[32m66.4/66.4 kB\u001b[0m \u001b[31m6.1 MB/s\u001b[0m eta \u001b[36m0:00:00\u001b[0m\n",
            "\u001b[?25hDownloading types_python_dateutil-2.9.0.20241206-py3-none-any.whl (14 kB)\n",
            "Installing collected packages: uri-template, types-python-dateutil, types-colorama, rfc3986-validator, rfc3339-validator, python-json-logger, overrides, json5, jedi, fqdn, colorama, async-lru, jupyter-server-terminals, jupyter-client, arrow, isoduration, groq, jupyter-events, jupyter-server, jupyterlab-server, jupyter-lsp, jupyterlab, jupyter, agentic_patterns\n",
            "  Attempting uninstall: jupyter-client\n",
            "    Found existing installation: jupyter-client 6.1.12\n",
            "    Uninstalling jupyter-client-6.1.12:\n",
            "      Successfully uninstalled jupyter-client-6.1.12\n",
            "  Attempting uninstall: groq\n",
            "    Found existing installation: groq 0.22.0\n",
            "    Uninstalling groq-0.22.0:\n",
            "      Successfully uninstalled groq-0.22.0\n",
            "  Attempting uninstall: jupyter-server\n",
            "    Found existing installation: jupyter-server 1.16.0\n",
            "    Uninstalling jupyter-server-1.16.0:\n",
            "      Successfully uninstalled jupyter-server-1.16.0\n",
            "Successfully installed agentic_patterns-1.0.0 arrow-1.3.0 async-lru-2.0.5 colorama-0.4.6 fqdn-1.5.1 groq-0.9.0 isoduration-20.11.0 jedi-0.19.2 json5-0.12.0 jupyter-1.1.1 jupyter-client-7.4.9 jupyter-events-0.12.0 jupyter-lsp-2.2.5 jupyter-server-2.15.0 jupyter-server-terminals-0.5.3 jupyterlab-4.4.0 jupyterlab-server-2.27.3 overrides-7.7.0 python-json-logger-3.3.0 rfc3339-validator-0.1.4 rfc3986-validator-0.1.1 types-colorama-0.4.15.20240311 types-python-dateutil-2.9.0.20241206 uri-template-1.3.0\n"
          ]
        }
      ]
    },
    {
      "cell_type": "code",
      "execution_count": 17,
      "id": "3f904241-29a1-4519-b6ab-15be0a7cfc53",
      "metadata": {
        "id": "3f904241-29a1-4519-b6ab-15be0a7cfc53"
      },
      "outputs": [],
      "source": [
        "from agentic_patterns import ReflectionAgent"
      ]
    },
    {
      "cell_type": "code",
      "execution_count": 18,
      "id": "dd1a8071-c763-4dbf-8db7-60f9116f62e8",
      "metadata": {
        "id": "dd1a8071-c763-4dbf-8db7-60f9116f62e8"
      },
      "outputs": [],
      "source": [
        "agent = ReflectionAgent(model=\"llama3-70b-8192\",)"
      ]
    },
    {
      "cell_type": "markdown",
      "id": "N530rawXIPqt",
      "metadata": {
        "id": "N530rawXIPqt"
      },
      "source": []
    },
    {
      "cell_type": "code",
      "source": [
        "#TODO\n",
        "generation_system_prompt = (\n",
        "    \"You are a skilled Python developer dedicated to crafting top-notch Python code. \"\n",
        "    \"Your goal is to produce the highest quality response to the user's request. \"\n",
        "    \"If the user provides feedback or critique, refine your previous submission accordingly.\"\n",
        ")\n",
        "\n",
        "reflection_system_prompt = (\n",
        "    \"You are an expert in computer science with a focus on Python programming. \"\n",
        "    \"Your role is to assess the provided Python code, evaluating its correctness, efficiency, readability, and style. \"\n",
        "    \"Offer specific recommendations for improvement, including a detailed critique and revised code examples.\"\n",
        ")\n",
        "\n",
        "user_msg = (\n",
        "    \"Create a Python program that implements the Merge Sort algorithm.\"\n",
        ")"
      ],
      "metadata": {
        "id": "aKo3UUiqxZLX"
      },
      "id": "aKo3UUiqxZLX",
      "execution_count": 20,
      "outputs": []
    },
    {
      "cell_type": "code",
      "execution_count": 21,
      "id": "6a9a3e5b-9b45-4a27-b391-f78b57ff94f1",
      "metadata": {
        "id": "6a9a3e5b-9b45-4a27-b391-f78b57ff94f1",
        "colab": {
          "base_uri": "https://localhost:8080/"
        },
        "outputId": "dc3f455d-1052-49ec-cad4-211f721f387e"
      },
      "outputs": [
        {
          "output_type": "stream",
          "name": "stdout",
          "text": [
            "\u001b[1m\u001b[36m\n",
            "==================================================\n",
            "\u001b[35mSTEP 1/10\n",
            "\u001b[1m\u001b[36m==================================================\n",
            "\n",
            "\u001b[34m \n",
            "\n",
            "GENERATION\n",
            "\n",
            " Here is a Python program that implements the Merge Sort algorithm:\n",
            "```\n",
            "def merge_sort(arr):\n",
            "    \"\"\"\n",
            "    Sorts an array using the Merge Sort algorithm.\n",
            "\n",
            "    Time complexity: O(n log n)\n",
            "    Space complexity: O(n)\n",
            "\n",
            "    :param arr: The array to be sorted\n",
            "    :return: The sorted array\n",
            "    \"\"\"\n",
            "    # Base case: If the array has only one element, return it (since it's already sorted)\n",
            "    if len(arr) <= 1:\n",
            "        return arr\n",
            "\n",
            "    # Split the array into two halves\n",
            "    mid = len(arr) // 2\n",
            "    left = arr[:mid]\n",
            "    right = arr[mid:]\n",
            "\n",
            "    # Recursively sort each half\n",
            "    left = merge_sort(left)\n",
            "    right = merge_sort(right)\n",
            "\n",
            "    # Merge the two sorted halves\n",
            "    return merge(left, right)\n",
            "\n",
            "\n",
            "def merge(left, right):\n",
            "    \"\"\"\n",
            "    Merges two sorted arrays into a single sorted array.\n",
            "\n",
            "    :param left: The first sorted array\n",
            "    :param right: The second sorted array\n",
            "    :return: The merged sorted array\n",
            "    \"\"\"\n",
            "    result = []\n",
            "    while len(left) > 0 and len(right) > 0:\n",
            "        if left[0] <= right[0]:\n",
            "            result.append(left.pop(0))\n",
            "        else:\n",
            "            result.append(right.pop(0))\n",
            "    result.extend(left)\n",
            "    result.extend(right)\n",
            "    return result\n",
            "\n",
            "\n",
            "# Example usage\n",
            "arr = [5, 2, 8, 3, 1, 6, 4]\n",
            "arr = merge_sort(arr)\n",
            "print(arr)  # Output: [1, 2, 3, 4, 5, 6, 8]\n",
            "```\n",
            "This implementation uses a top-down approach, where the `merge_sort` function recursively splits the array into smaller halves until each half has only one element, and then merges the sorted halves using the `merge` function. The `merge` function takes two sorted arrays and merges them into a single sorted array.\n",
            "\u001b[32m \n",
            "\n",
            "REFLECTION\n",
            "\n",
            " <OK>\n",
            "\n",
            "The provided code is a correct and efficient implementation of the Merge Sort algorithm. The time complexity is indeed O(n log n), and the space complexity is O(n). \n",
            "\n",
            "The code is well-organized, with clear and concise function names and docstrings. The variable names are also descriptive and easy to understand.\n",
            "\n",
            "There are no major improvements needed for this code. However, here are a few minor suggestions:\n",
            "\n",
            "1. Consider adding more detailed docstrings, including parameters, return values, and explanations of the algorithms used.\n",
            "\n",
            "2. You could add some error handling to the `merge_sort` function to ensure that the input is a list.\n",
            "\n",
            "Here's an updated version of the code with these suggestions:\n",
            "\n",
            "```\n",
            "def merge_sort(arr):\n",
            "    \"\"\"\n",
            "    Sorts a list using the Merge Sort algorithm.\n",
            "\n",
            "    Time complexity: O(n log n)\n",
            "    Space complexity: O(n)\n",
            "\n",
            "    :param arr: The list to be sorted\n",
            "    :return: The sorted list\n",
            "    :raises TypeError: If the input is not a list\n",
            "    \"\"\"\n",
            "    if not isinstance(arr, list):\n",
            "        raise TypeError(\"Input must be a list\")\n",
            "\n",
            "    # Base case: If the list has only one element, return it (since it's already sorted)\n",
            "    if len(arr) <= 1:\n",
            "        return arr\n",
            "\n",
            "    # Split the list into two halves\n",
            "    mid = len(arr) // 2\n",
            "    left = arr[:mid]\n",
            "    right = arr[mid:]\n",
            "\n",
            "    # Recursively sort each half\n",
            "    left = merge_sort(left)\n",
            "    right = merge_sort(right)\n",
            "\n",
            "    # Merge the two sorted halves\n",
            "    return merge(left, right)\n",
            "\n",
            "\n",
            "def merge(left, right):\n",
            "    \"\"\"\n",
            "    Merges two sorted lists into a single sorted list.\n",
            "\n",
            "    :param left: The first sorted list\n",
            "    :param right: The second sorted list\n",
            "    :return: The merged sorted list\n",
            "    \"\"\"\n",
            "    result = []\n",
            "    while len(left) > 0 and len(right) > 0:\n",
            "        if left[0] <= right[0]:\n",
            "            result.append(left.pop(0))\n",
            "        else:\n",
            "            result.append(right.pop(0))\n",
            "    result.extend(left)\n",
            "    result.extend(right)\n",
            "    return result\n",
            "\n",
            "\n",
            "# Example usage\n",
            "arr = [5, 2, 8, 3, 1, 6, 4]\n",
            "arr = merge_sort(arr)\n",
            "print(arr)  # Output: [1, 2, 3, 4, 5, 6, 8]\n",
            "```\n",
            "\n",
            "This updated code includes more detailed docstrings and error handling for the input.\n",
            "\u001b[31m \n",
            "\n",
            "Stop Sequence found. Stopping the reflection loop ... \n",
            "\n",
            "\n"
          ]
        }
      ],
      "source": [
        "final_response = agent.run(\n",
        "    user_msg=user_msg,\n",
        "    generation_system_prompt=generation_system_prompt,\n",
        "    reflection_system_prompt=reflection_system_prompt,\n",
        "    n_steps=10,\n",
        "    verbose=1,\n",
        ")"
      ]
    },
    {
      "cell_type": "markdown",
      "id": "4b69d182-d12e-40bb-8dfb-cbc8903218a1",
      "metadata": {
        "id": "4b69d182-d12e-40bb-8dfb-cbc8903218a1"
      },
      "source": [
        "## Final result"
      ]
    },
    {
      "cell_type": "code",
      "execution_count": 22,
      "id": "6e4663cd-61dd-4a38-866a-f032045a444a",
      "metadata": {
        "id": "6e4663cd-61dd-4a38-866a-f032045a444a",
        "colab": {
          "base_uri": "https://localhost:8080/",
          "height": 961
        },
        "outputId": "bdd3e079-b9b8-4681-d1af-dd80c3d973e0"
      },
      "outputs": [
        {
          "output_type": "display_data",
          "data": {
            "text/markdown": "Here is a Python program that implements the Merge Sort algorithm:\n```\ndef merge_sort(arr):\n    \"\"\"\n    Sorts an array using the Merge Sort algorithm.\n\n    Time complexity: O(n log n)\n    Space complexity: O(n)\n\n    :param arr: The array to be sorted\n    :return: The sorted array\n    \"\"\"\n    # Base case: If the array has only one element, return it (since it's already sorted)\n    if len(arr) <= 1:\n        return arr\n\n    # Split the array into two halves\n    mid = len(arr) // 2\n    left = arr[:mid]\n    right = arr[mid:]\n\n    # Recursively sort each half\n    left = merge_sort(left)\n    right = merge_sort(right)\n\n    # Merge the two sorted halves\n    return merge(left, right)\n\n\ndef merge(left, right):\n    \"\"\"\n    Merges two sorted arrays into a single sorted array.\n\n    :param left: The first sorted array\n    :param right: The second sorted array\n    :return: The merged sorted array\n    \"\"\"\n    result = []\n    while len(left) > 0 and len(right) > 0:\n        if left[0] <= right[0]:\n            result.append(left.pop(0))\n        else:\n            result.append(right.pop(0))\n    result.extend(left)\n    result.extend(right)\n    return result\n\n\n# Example usage\narr = [5, 2, 8, 3, 1, 6, 4]\narr = merge_sort(arr)\nprint(arr)  # Output: [1, 2, 3, 4, 5, 6, 8]\n```\nThis implementation uses a top-down approach, where the `merge_sort` function recursively splits the array into smaller halves until each half has only one element, and then merges the sorted halves using the `merge` function. The `merge` function takes two sorted arrays and merges them into a single sorted array."
          },
          "metadata": {}
        }
      ],
      "source": [
        "display_markdown(final_response, raw=True)"
      ]
    },
    {
      "cell_type": "markdown",
      "id": "UKub4MCuIaZp",
      "metadata": {
        "id": "UKub4MCuIaZp"
      },
      "source": [
        "END OF SECTION 1\n",
        "\n",
        "---\n",
        "\n"
      ]
    },
    {
      "cell_type": "markdown",
      "id": "7d105473-c0c6-4de6-acfb-ccf3054fd1a0",
      "metadata": {
        "id": "7d105473-c0c6-4de6-acfb-ccf3054fd1a0"
      },
      "source": [
        "# Tool Pattern"
      ]
    },
    {
      "cell_type": "markdown",
      "id": "39e9c48d-cac5-48a1-a6ff-e44b618b92c9",
      "metadata": {
        "id": "39e9c48d-cac5-48a1-a6ff-e44b618b92c9"
      },
      "source": [
        "\n",
        "\n",
        "As you may already know, the information stored in LLM weights is (usually) 𝐧𝐨𝐭 𝐞𝐧𝐨𝐮𝐠𝐡 to give accurate and insightful answers to our questions.\n",
        "\n",
        "That's why we need to provide the LLM with ways to access the outside world. 🌍\n",
        "\n",
        "In practice, you can build tools for whatever you want (at the end of the day they are just functions the LLM can use), from a tool that let's you access Wikipedia, another to analyse the content of YouTube videos or calculate difficult integrals using Wolfram Alpha.\n",
        "\n",
        "In this notebook, you'll learn how **tool pattern** actually work."
      ]
    },
    {
      "cell_type": "markdown",
      "id": "a6eb2bab-9a5b-4c92-b23a-18f757d44c06",
      "metadata": {
        "id": "a6eb2bab-9a5b-4c92-b23a-18f757d44c06"
      },
      "source": [
        "## A simple function"
      ]
    },
    {
      "cell_type": "markdown",
      "id": "148df24a-4ac5-4d3d-9860-8ff0e7ed7c90",
      "metadata": {
        "id": "148df24a-4ac5-4d3d-9860-8ff0e7ed7c90"
      },
      "source": [
        "Take a look at this function 👇"
      ]
    },
    {
      "cell_type": "code",
      "execution_count": 23,
      "id": "1c851271-9b5a-4b48-a0e0-bf889cfb303b",
      "metadata": {
        "id": "1c851271-9b5a-4b48-a0e0-bf889cfb303b"
      },
      "outputs": [],
      "source": [
        "import json\n",
        "\n",
        "def get_current_weather(location: str, unit: str):\n",
        "\t\"\"\"\n",
        "\tGet the current weather in a given location\n",
        "\n",
        "\tlocation (str): The city and state, e.g. Madrid, Barcelona\n",
        "\tunit (str): The unit. It can take two values; \"celsius\", \"fahrenheit\"\n",
        "\t\"\"\"\n",
        "\tif location == \"Madrid\":\n",
        "\t\treturn json.dumps({\"temperature\": 25, \"unit\": unit})\n",
        "\n",
        "\telse:\n",
        "\t\treturn json.dumps({\"temperature\": 58, \"unit\": unit})"
      ]
    },
    {
      "cell_type": "markdown",
      "id": "de31cb35-847f-458f-b7d7-603acf5a714a",
      "metadata": {
        "id": "de31cb35-847f-458f-b7d7-603acf5a714a"
      },
      "source": [
        "Very simple, right? You provide a `location` and a `unit` and it returns the temperature."
      ]
    },
    {
      "cell_type": "code",
      "execution_count": 24,
      "id": "3f52e61e-be31-4e6f-9f4f-eeb7082ad827",
      "metadata": {
        "id": "3f52e61e-be31-4e6f-9f4f-eeb7082ad827",
        "colab": {
          "base_uri": "https://localhost:8080/",
          "height": 36
        },
        "outputId": "49969ef6-dd34-4eaf-f869-8c1ec9adeb62"
      },
      "outputs": [
        {
          "output_type": "execute_result",
          "data": {
            "text/plain": [
              "'{\"temperature\": 25, \"unit\": \"celsius\"}'"
            ],
            "application/vnd.google.colaboratory.intrinsic+json": {
              "type": "string"
            }
          },
          "metadata": {},
          "execution_count": 24
        }
      ],
      "source": [
        "get_current_weather(location=\"Madrid\", unit=\"celsius\")"
      ]
    },
    {
      "cell_type": "markdown",
      "id": "e9d63a34-8a93-4551-a34a-a0e85c95aa6a",
      "metadata": {
        "id": "e9d63a34-8a93-4551-a34a-a0e85c95aa6a"
      },
      "source": [
        "But the question is:\n",
        "\n",
        "**How can you make this function available to an LLM?**\n",
        "\n",
        "An LLM is a type of NLP system, so it expects text as input. But how can we transform this function into text?"
      ]
    },
    {
      "cell_type": "markdown",
      "id": "56a4f2f8-9fc2-4e3d-87cd-bdfca15e5ddc",
      "metadata": {
        "id": "56a4f2f8-9fc2-4e3d-87cd-bdfca15e5ddc"
      },
      "source": [
        "## A System Prompt that works"
      ]
    },
    {
      "cell_type": "markdown",
      "id": "93bed242-75ca-4ab7-a159-114a9e1e7e67",
      "metadata": {
        "id": "93bed242-75ca-4ab7-a159-114a9e1e7e67"
      },
      "source": [
        "For the LLM to be aware of this function, we need to provide some relevant information about it in the context. **I'm referring to the function name, attributes, description, etc.** Take a look at the following System Prompt."
      ]
    },
    {
      "cell_type": "markdown",
      "id": "1ad89df0-d233-41cc-b002-19963e7740a1",
      "metadata": {
        "id": "1ad89df0-d233-41cc-b002-19963e7740a1"
      },
      "source": [
        "```xml\n",
        "You are a function calling AI model. You are provided with function signatures within <tools></tools> XML tags.\n",
        "You may call one or more functions to assist with the user query. Don't make assumptions about what values to plug\n",
        "into functions. Pay special attention to the properties 'types'. You should use those types as in a Python dict.\n",
        "For each function call return a json object with function name and arguments within <tool_call></tool_call> XML tags as follows:\n",
        "\n",
        "<tool_call>\n",
        "{\"name\": <function-name>,\"arguments\": <args-dict>}\n",
        "</tool_call>\n",
        "\n",
        "Here are the available tools:\n",
        "\n",
        "<tools>\n",
        "  #define the function here\n",
        "</tools>\n",
        "```\n",
        "\n",
        "\n",
        "As you can see, the LLM enforces the LLM to behave as a `function calling AI model` who, given a list of function signatures inside the <tools></tools> XML tags\n",
        "will select which one to use. When the model decides a function to use, it will return a json like the following, representing a function call:\n",
        "\n",
        "```xml\n",
        "<tool_call>\n",
        "{\"name\": <function-name>,\"arguments\": <args-dict>}\n",
        "</tool_call>\n",
        "```\n"
      ]
    },
    {
      "cell_type": "markdown",
      "id": "0d2d8322-afc0-4469-90aa-23019bc929e7",
      "metadata": {
        "id": "0d2d8322-afc0-4469-90aa-23019bc929e7"
      },
      "source": [
        "Let's see how it works in practise! 👇"
      ]
    },
    {
      "cell_type": "code",
      "execution_count": 25,
      "id": "692b5c16-77f3-4de0-b2b5-16bfc5812b7b",
      "metadata": {
        "id": "692b5c16-77f3-4de0-b2b5-16bfc5812b7b"
      },
      "outputs": [],
      "source": [
        "import os\n",
        "import re\n",
        "from groq import Groq\n",
        "from dotenv import load_dotenv\n",
        "\n",
        "MODEL = \"llama-3.3-70b-versatile\"\n",
        "GROQ_CLIENT = Groq()\n",
        "\n",
        "#TODO\n",
        "# Define the System Prompt as a constant\n",
        "SYSTEM_PROMPT = \"\"\"\n",
        "You are a function calling AI model. You are provided with function signatures within <tools></tools> XML tags.\n",
        "You may call one or more functions to assist with the user query. Don't make assumptions about what values to plug\n",
        "into functions. Pay special attention to the properties 'types'. You should use those types as in a Python dict.\n",
        "For each function call return a json object with function name and arguments within <tool_call></tool_call> XML tags as follows:\n",
        "\n",
        "<tool_call>\n",
        "{\"name\": <function-name>,\"arguments\": <args-dict>}\n",
        "</tool_call>\n",
        "\n",
        "Here are the available tools:\n",
        "\n",
        "<tools>\n",
        "{\n",
        "  \"name\": \"get_current_weather\",\n",
        "  \"description\": \"Get the current weather in a given location\",\n",
        "  \"parameters\": {\n",
        "    \"type\": \"object\",\n",
        "    \"properties\": {\n",
        "      \"location\": {\n",
        "        \"type\": \"string\",\n",
        "        \"description\": \"The city and state, e.g. Madrid, Barcelona\"\n",
        "      },\n",
        "      \"unit\": {\n",
        "        \"type\": \"string\",\n",
        "        \"enum\": [\"celsius\", \"fahrenheit\"],\n",
        "        \"description\": \"The unit. It can take two values; 'celsius', 'fahrenheit'\"\n",
        "      }\n",
        "    },\n",
        "    \"required\": [\"location\", \"unit\"]\n",
        "  }\n",
        "}\n",
        "</tools>\n",
        "\"\"\""
      ]
    },
    {
      "cell_type": "markdown",
      "id": "e0da45c0-0b4b-4153-83c7-eed1c312dcec",
      "metadata": {
        "id": "e0da45c0-0b4b-4153-83c7-eed1c312dcec"
      },
      "source": [
        "Let's ask a very simple question: `\"What's the current temperature in Madrid, in Celsius?\"` To do that, we need to create tool chat history which initially defines the system role using the above prompt and appends a user role later asking this question. Also, create an agent chat history and append the same user role to this as well (will be used later on)"
      ]
    },
    {
      "cell_type": "code",
      "execution_count": 26,
      "id": "e00b09e8-55d3-4a59-a9cf-29329af78d9a",
      "metadata": {
        "id": "e00b09e8-55d3-4a59-a9cf-29329af78d9a",
        "colab": {
          "base_uri": "https://localhost:8080/"
        },
        "outputId": "a9783c24-6dce-41a5-9d2e-3419a8aa8b9d"
      },
      "outputs": [
        {
          "output_type": "stream",
          "name": "stdout",
          "text": [
            "<tool_call>\n",
            "{\"name\": \"get_current_weather\",\"arguments\": {\"location\": \"Madrid\", \"unit\": \"celsius\"}}\n",
            "</tool_call>\n"
          ]
        }
      ],
      "source": [
        "#TODO\n",
        "tool_chat_history = [{\"role\":\"system\",\n",
        "                      \"content\": SYSTEM_PROMPT},\n",
        "                     {\"role\":\"user\",\n",
        "                      \"content\": \"What's the current temperature in Madrid, in Celsius?\"}]\n",
        "agent_chat_history = [\n",
        "    {\n",
        "        \"role\": \"user\",\n",
        "        \"content\": \"What's the current temperature in Madrid, in Celsius?\"\n",
        "    }\n",
        "]\n",
        "user_msg = \"What's the current temperature in Madrid, in Celsius?\"\n",
        "\n",
        "\n",
        "\n",
        "output = GROQ_CLIENT.chat.completions.create(\n",
        "    messages=tool_chat_history,\n",
        "    model=MODEL\n",
        ").choices[0].message.content\n",
        "\n",
        "print(output)"
      ]
    },
    {
      "cell_type": "markdown",
      "id": "3c26cf72-0b60-464e-9f83-af371a93b3d5",
      "metadata": {
        "id": "3c26cf72-0b60-464e-9f83-af371a93b3d5"
      },
      "source": [
        "---\n",
        "We may not have the *proper* answer but, with this information, we can obtain it! How? Well, we just need to:\n",
        "\n",
        "1. Parse the LLM output. By this I mean deleting the XML tags\n",
        "2. Load the output as a proper Python dict\n",
        "\n",
        "Your task is to ensure the function below reliably does that by handling both valid and invalid JSON inputs. The function should first strip the <tool_call> tags, then attempt to parse the enclosed string as JSON. If the JSON is valid, it should return the parsed object; if not, it should gracefully return either the raw string (if it's malformed JSON) or an error message for unexpected issues\n",
        "\n",
        "---"
      ]
    },
    {
      "cell_type": "code",
      "execution_count": 27,
      "id": "4366ae38-055a-45ec-937b-dfec7eaad00b",
      "metadata": {
        "id": "4366ae38-055a-45ec-937b-dfec7eaad00b"
      },
      "outputs": [],
      "source": [
        "#TODO\n",
        "def parse_tool_call_str(tool_call_str: str):\n",
        "  #code here\n",
        "  clean_str = re.sub(r'</?tool_call>', '', tool_call_str)\n",
        "  try:\n",
        "    return json.loads(clean_str)\n",
        "  except json.JSONDecodeError:\n",
        "    return clean_str\n",
        "\n"
      ]
    },
    {
      "cell_type": "code",
      "execution_count": 28,
      "id": "c5890ba4-3f2f-4dc8-9a62-dff0079f07bb",
      "metadata": {
        "id": "c5890ba4-3f2f-4dc8-9a62-dff0079f07bb",
        "colab": {
          "base_uri": "https://localhost:8080/"
        },
        "outputId": "832c2ca8-e8c9-4090-c009-fd3a113a198f"
      },
      "outputs": [
        {
          "output_type": "execute_result",
          "data": {
            "text/plain": [
              "{'name': 'get_current_weather',\n",
              " 'arguments': {'location': 'Madrid', 'unit': 'celsius'}}"
            ]
          },
          "metadata": {},
          "execution_count": 28
        }
      ],
      "source": [
        "parsed_output = parse_tool_call_str(output)\n",
        "parsed_output"
      ]
    },
    {
      "cell_type": "markdown",
      "id": "944b0373-f647-423a-bf00-914ffb03dcd7",
      "metadata": {
        "id": "944b0373-f647-423a-bf00-914ffb03dcd7"
      },
      "source": [
        "We can simply run the function now, by passing the arguments like this 👇"
      ]
    },
    {
      "cell_type": "code",
      "execution_count": 29,
      "id": "169f06bb-836d-4270-bd66-abc2aadc0757",
      "metadata": {
        "id": "169f06bb-836d-4270-bd66-abc2aadc0757"
      },
      "outputs": [],
      "source": [
        "result = get_current_weather(**parsed_output[\"arguments\"])"
      ]
    },
    {
      "cell_type": "code",
      "execution_count": 30,
      "id": "ecdfbbc5-7cdf-4c21-8b75-055446658675",
      "metadata": {
        "id": "ecdfbbc5-7cdf-4c21-8b75-055446658675",
        "colab": {
          "base_uri": "https://localhost:8080/",
          "height": 36
        },
        "outputId": "38ee7b48-bd36-4aa2-ac49-3e986abc1d0a"
      },
      "outputs": [
        {
          "output_type": "execute_result",
          "data": {
            "text/plain": [
              "'{\"temperature\": 25, \"unit\": \"celsius\"}'"
            ],
            "application/vnd.google.colaboratory.intrinsic+json": {
              "type": "string"
            }
          },
          "metadata": {},
          "execution_count": 30
        }
      ],
      "source": [
        "result"
      ]
    },
    {
      "cell_type": "markdown",
      "id": "272a337d-c193-4316-bed5-bc1ee4ccaae5",
      "metadata": {
        "id": "272a337d-c193-4316-bed5-bc1ee4ccaae5"
      },
      "source": [
        "**That's it!** A temperature of 25 degrees Celsius.\n",
        "\n",
        "As you can see, we're dealing with a string, so we can simply add the parsed_output to the `chat_history` so that the LLM knows the information it has to return to the user."
      ]
    },
    {
      "cell_type": "code",
      "execution_count": 31,
      "id": "3fb0fc08-dad9-42cd-a2a9-674b8191d06b",
      "metadata": {
        "id": "3fb0fc08-dad9-42cd-a2a9-674b8191d06b"
      },
      "outputs": [],
      "source": [
        "agent_chat_history.append({\n",
        "    \"role\": \"user\",\n",
        "    \"content\": f\"Observation: {result}\"\n",
        "})"
      ]
    },
    {
      "cell_type": "code",
      "execution_count": 32,
      "id": "b610fb1f-24af-4cc1-b485-fa0c5bfca846",
      "metadata": {
        "id": "b610fb1f-24af-4cc1-b485-fa0c5bfca846",
        "colab": {
          "base_uri": "https://localhost:8080/",
          "height": 36
        },
        "outputId": "2fe689ae-c27a-46c7-facf-ff89752b1eb1"
      },
      "outputs": [
        {
          "output_type": "execute_result",
          "data": {
            "text/plain": [
              "'The current temperature in Madrid is 25°C.'"
            ],
            "application/vnd.google.colaboratory.intrinsic+json": {
              "type": "string"
            }
          },
          "metadata": {},
          "execution_count": 32
        }
      ],
      "source": [
        "GROQ_CLIENT.chat.completions.create(\n",
        "    messages=agent_chat_history,\n",
        "    model=MODEL\n",
        ").choices[0].message.content"
      ]
    },
    {
      "cell_type": "markdown",
      "id": "72fa386e-edef-4e3f-903d-a2fc7008e5c3",
      "metadata": {
        "id": "72fa386e-edef-4e3f-903d-a2fc7008e5c3"
      },
      "source": [
        "## Implementing everything the good way"
      ]
    },
    {
      "cell_type": "markdown",
      "id": "4217eb34-efac-4a05-bb23-ae780126c0ad",
      "metadata": {
        "id": "4217eb34-efac-4a05-bb23-ae780126c0ad"
      },
      "source": [
        "To recap, we have a way for the LLM to generate `tool_calls` that we can use later to *properly* run the functions. But, as you may imagine, there are some pieces missing:\n",
        "\n",
        "1. We need to automatically transform any function into a description like we saw in the initial system prompt.\n",
        "2. We need a way to tell the agent that this function is a tool\n",
        "\n",
        "Let's do it!"
      ]
    },
    {
      "cell_type": "markdown",
      "id": "df20db23-3c1a-4744-88b8-8d47d7875f18",
      "metadata": {
        "id": "df20db23-3c1a-4744-88b8-8d47d7875f18"
      },
      "source": [
        "### The `tool` decorator"
      ]
    },
    {
      "cell_type": "markdown",
      "id": "7c538804-a381-4552-94eb-c04720e897df",
      "metadata": {
        "id": "7c538804-a381-4552-94eb-c04720e897df"
      },
      "source": [
        "We are going to use the `tool` decorator to transform any Python function into a tool. To test it out, let's make a more complex tool than before. For example, a tool that interacts with [Hacker News](https://news.ycombinator.com/), getting the current top stories.\n",
        "\n",
        "> Reminder: To automatically generate the function signature for the tool, we need a way to infer the arguments types. For this reason, we need to create the typing annotations."
      ]
    },
    {
      "cell_type": "code",
      "execution_count": 33,
      "id": "b9413902-e3ea-4c0a-bfd2-180d69ba5cd1",
      "metadata": {
        "id": "b9413902-e3ea-4c0a-bfd2-180d69ba5cd1"
      },
      "outputs": [],
      "source": [
        "import json\n",
        "import requests\n",
        "\n",
        "def fetch_top_hacker_news_stories(top_n: int):\n",
        "    \"\"\"\n",
        "    Fetch the top stories from Hacker News.\n",
        "\n",
        "    This function retrieves the top `top_n` stories from Hacker News using the Hacker News API.\n",
        "    Each story contains the title, URL, score, author, and time of submission. The data is fetched\n",
        "    from the official Firebase Hacker News API, which returns story details in JSON format.\n",
        "\n",
        "    Args:\n",
        "        top_n (int): The number of top stories to retrieve.\n",
        "    \"\"\"\n",
        "    top_stories_url = 'https://hacker-news.firebaseio.com/v0/topstories.json'\n",
        "\n",
        "    try:\n",
        "        response = requests.get(top_stories_url)\n",
        "        response.raise_for_status()  # Check for HTTP errors\n",
        "\n",
        "        # Get the top story IDs\n",
        "        top_story_ids = response.json()[:top_n]\n",
        "\n",
        "        top_stories = []\n",
        "\n",
        "        # For each story ID, fetch the story details\n",
        "        for story_id in top_story_ids:\n",
        "            story_url = f'https://hacker-news.firebaseio.com/v0/item/{story_id}.json'\n",
        "            story_response = requests.get(story_url)\n",
        "            story_response.raise_for_status()  # Check for HTTP errors\n",
        "            story_data = story_response.json()\n",
        "\n",
        "            # Append the story title and URL (or other relevant info) to the list\n",
        "            top_stories.append({\n",
        "                'title': story_data.get('title', 'No title'),\n",
        "                'url': story_data.get('url', 'No URL available'),\n",
        "            })\n",
        "\n",
        "        return json.dumps(top_stories)\n",
        "\n",
        "    except requests.exceptions.RequestException as e:\n",
        "        print(f\"An error occurred: {e}\")\n",
        "        return []"
      ]
    },
    {
      "cell_type": "markdown",
      "id": "73f75359-1e8a-4317-92dd-40dd1cf36e97",
      "metadata": {
        "id": "73f75359-1e8a-4317-92dd-40dd1cf36e97"
      },
      "source": [
        "Run the above function to print the top 5 stories"
      ]
    },
    {
      "cell_type": "code",
      "execution_count": 34,
      "id": "aad2bbed-549e-4c0e-91fd-37b4694e0b50",
      "metadata": {
        "id": "aad2bbed-549e-4c0e-91fd-37b4694e0b50",
        "colab": {
          "base_uri": "https://localhost:8080/"
        },
        "outputId": "78bec300-5b99-4770-afa1-2945574977d2"
      },
      "outputs": [
        {
          "output_type": "stream",
          "name": "stdout",
          "text": [
            "[{\"title\": \"Clolog\", \"url\": \"https://github.com/bobschrag/clolog\"}, {\"title\": \"'End of an era': The last RadioShack in Maryland is closing its doors\", \"url\": \"https://marylandmatters.org/2025/04/14/end-of-an-era-the-last-radioshack-in-maryland-is-closing-its-doors/\"}, {\"title\": \"Generate videos in Gemini and Whisk with Veo 2\", \"url\": \"https://blog.google/products/gemini/video-generation/\"}, {\"title\": \"What the Hell Is a Target Triple?\", \"url\": \"https://mcyoung.xyz/2025/04/14/target-triples/\"}, {\"title\": \"Launch HN: mrge.io (YC X25) \\u2013 Cursor for code review\", \"url\": \"No URL available\"}]\n"
          ]
        }
      ],
      "source": [
        "#TODO\n",
        "print(fetch_top_hacker_news_stories(5))"
      ]
    },
    {
      "cell_type": "markdown",
      "id": "fb587d13-b312-45b5-af56-4f009c11eeda",
      "metadata": {
        "id": "fb587d13-b312-45b5-af56-4f009c11eeda"
      },
      "source": [
        "Transform the `fetch_top_hacker_news_stories` function into a Tool, we can use the `tool` decorator."
      ]
    },
    {
      "cell_type": "code",
      "source": [
        "from agentic_patterns.tool_pattern.tool_agent import ToolAgent\n",
        "from agentic_patterns.tool_pattern.tool import tool\n",
        "import json\n",
        "import requests\n",
        "\n",
        "@tool\n",
        "def fetch_top_hacker_news_stories(top_n: int):\n",
        "    \"\"\"\n",
        "    Fetch the top stories from Hacker News.\n",
        "    This function retrieves the top `top_n` stories from Hacker News using the Hacker News API.\n",
        "    Each story contains the title, URL, score, author, and time of submission.\n",
        "    Args:\n",
        "        top_n (int): The number of top stories to retrieve.\n",
        "    \"\"\"\n",
        "    top_stories_url = 'https://hacker-news.firebaseio.com/v0/topstories.json'\n",
        "    try:\n",
        "        response = requests.get(top_stories_url)\n",
        "        response.raise_for_status()\n",
        "        top_story_ids = response.json()[:top_n]\n",
        "        top_stories = []\n",
        "        for story_id in top_story_ids:\n",
        "            story_url = f'https://hacker-news.firebaseio.com/v0/item/{story_id}.json'\n",
        "            story_response = requests.get(story_url)\n",
        "            story_response.raise_for_status()\n",
        "            story_data = story_response.json()\n",
        "            top_stories.append({\n",
        "                'title': story_data.get('title', 'No title'),\n",
        "                'url': story_data.get('url', 'No URL available'),\n",
        "            })\n",
        "        return json.dumps(top_stories)\n",
        "    except requests.exceptions.RequestException as e:\n",
        "        print(f\"An error occurred: {e}\")\n",
        "        return []\n",
        "#TODO\n",
        "hn_tool = fetch_top_hacker_news_stories\n"
      ],
      "metadata": {
        "id": "tkON9uKulZFM"
      },
      "id": "tkON9uKulZFM",
      "execution_count": 35,
      "outputs": []
    },
    {
      "cell_type": "markdown",
      "id": "3f438638-a933-414f-9d00-53c37f041f16",
      "metadata": {
        "id": "3f438638-a933-414f-9d00-53c37f041f16"
      },
      "source": [
        "The Tool has the following parameters: a `name`, a `fn_signature` and the `fn` (this is the function we are going to call, this case `fetch_top_hacker_news_stories`) By default, the tool gets its name from the function name."
      ]
    },
    {
      "cell_type": "code",
      "execution_count": 36,
      "id": "df16bfa5-0ed4-46e1-b262-006f36fb8e78",
      "metadata": {
        "id": "df16bfa5-0ed4-46e1-b262-006f36fb8e78",
        "colab": {
          "base_uri": "https://localhost:8080/",
          "height": 36
        },
        "outputId": "50ed8f72-9171-4a29-b854-06b29185cb49"
      },
      "outputs": [
        {
          "output_type": "execute_result",
          "data": {
            "text/plain": [
              "'fetch_top_hacker_news_stories'"
            ],
            "application/vnd.google.colaboratory.intrinsic+json": {
              "type": "string"
            }
          },
          "metadata": {},
          "execution_count": 36
        }
      ],
      "source": [
        "hn_tool.name"
      ]
    },
    {
      "cell_type": "code",
      "execution_count": 37,
      "id": "e0da95e0-10a8-4d17-aae7-ed3cc20abb03",
      "metadata": {
        "id": "e0da95e0-10a8-4d17-aae7-ed3cc20abb03",
        "colab": {
          "base_uri": "https://localhost:8080/"
        },
        "outputId": "1124713c-47b9-4739-9233-9648d13b0351"
      },
      "outputs": [
        {
          "output_type": "execute_result",
          "data": {
            "text/plain": [
              "{'name': 'fetch_top_hacker_news_stories',\n",
              " 'description': '\\n    Fetch the top stories from Hacker News.\\n    This function retrieves the top `top_n` stories from Hacker News using the Hacker News API.\\n    Each story contains the title, URL, score, author, and time of submission.\\n    Args:\\n        top_n (int): The number of top stories to retrieve.\\n    ',\n",
              " 'parameters': {'properties': {'top_n': {'type': 'int'}}}}"
            ]
          },
          "metadata": {},
          "execution_count": 37
        }
      ],
      "source": [
        "json.loads(hn_tool.fn_signature)"
      ]
    },
    {
      "cell_type": "markdown",
      "id": "d5760bf7-7d9a-4c79-bc87-6469040250b6",
      "metadata": {
        "id": "d5760bf7-7d9a-4c79-bc87-6469040250b6"
      },
      "source": [
        "As you can see, the function signature has been automatically generated. It contains the `name`, a `description` (taken from the docstrings) and the `parameters`, whose types come from the tying annotations. Now that we have a tool, let's run the agent."
      ]
    },
    {
      "cell_type": "markdown",
      "id": "043ad8ba-7789-468a-aafd-60c10bd21135",
      "metadata": {
        "id": "043ad8ba-7789-468a-aafd-60c10bd21135"
      },
      "source": [
        "### The `ToolAgent`"
      ]
    },
    {
      "cell_type": "markdown",
      "id": "065e04e5-50af-4452-9086-eae08a12e8cf",
      "metadata": {
        "id": "065e04e5-50af-4452-9086-eae08a12e8cf"
      },
      "source": [
        "To create the agent, we just need to pass a list of tools (in this case, just one)."
      ]
    },
    {
      "cell_type": "code",
      "execution_count": 38,
      "id": "4a303211-f2a6-43c0-85aa-081fb0be2bbe",
      "metadata": {
        "id": "4a303211-f2a6-43c0-85aa-081fb0be2bbe"
      },
      "outputs": [],
      "source": [
        "from agentic_patterns.tool_pattern.tool_agent import ToolAgent\n",
        "#TODO\n",
        "tool_agent = ToolAgent(tools=[hn_tool], model=\"llama-3.3-70b-versatile\")"
      ]
    },
    {
      "cell_type": "markdown",
      "id": "b9eabae6-2b5c-407e-9e43-88e5e4844e9e",
      "metadata": {
        "id": "b9eabae6-2b5c-407e-9e43-88e5e4844e9e"
      },
      "source": [
        "A quick check to see that everything works fine. If we ask the agent something unrelated to Hacker News, it shouldn't use the tool."
      ]
    },
    {
      "cell_type": "code",
      "execution_count": 39,
      "id": "92c706fd-0a4b-46be-bbb3-c02618dbf677",
      "metadata": {
        "id": "92c706fd-0a4b-46be-bbb3-c02618dbf677"
      },
      "outputs": [],
      "source": [
        "output = tool_agent.run(user_msg=\"Tell me your name\")"
      ]
    },
    {
      "cell_type": "code",
      "execution_count": 40,
      "id": "be02a976-1e72-40ad-9ada-460148ca65d1",
      "metadata": {
        "id": "be02a976-1e72-40ad-9ada-460148ca65d1",
        "colab": {
          "base_uri": "https://localhost:8080/"
        },
        "outputId": "66774ce7-112c-42ab-d928-9c83120ab831"
      },
      "outputs": [
        {
          "output_type": "stream",
          "name": "stdout",
          "text": [
            "I'm an artificial intelligence model known as Llama. Llama stands for \"Large Language Model Meta AI.\"\n"
          ]
        }
      ],
      "source": [
        "print(output)"
      ]
    },
    {
      "cell_type": "markdown",
      "id": "6c862a34-3cc9-428b-a246-d98effc998a5",
      "metadata": {
        "id": "6c862a34-3cc9-428b-a246-d98effc998a5"
      },
      "source": [
        "Now, let's ask for specific information about Hacker News."
      ]
    },
    {
      "cell_type": "code",
      "execution_count": 41,
      "id": "b74bbc64-8943-4ae3-9928-6230ead61e77",
      "metadata": {
        "id": "b74bbc64-8943-4ae3-9928-6230ead61e77",
        "colab": {
          "base_uri": "https://localhost:8080/"
        },
        "outputId": "a2f33afc-9d0c-4da7-b08b-3326e693cf2b"
      },
      "outputs": [
        {
          "output_type": "stream",
          "name": "stdout",
          "text": [
            "\u001b[32m\n",
            "Using Tool: fetch_top_hacker_news_stories\n",
            "\u001b[32m\n",
            "Tool call dict: \n",
            "{'name': 'fetch_top_hacker_news_stories', 'arguments': {'top_n': 10}, 'id': 1}\n",
            "\u001b[32m\n",
            "Tool result: \n",
            "[{\"title\": \"Clolog\", \"url\": \"https://github.com/bobschrag/clolog\"}, {\"title\": \"'End of an era': The last RadioShack in Maryland is closing its doors\", \"url\": \"https://marylandmatters.org/2025/04/14/end-of-an-era-the-last-radioshack-in-maryland-is-closing-its-doors/\"}, {\"title\": \"Generate videos in Gemini and Whisk with Veo 2\", \"url\": \"https://blog.google/products/gemini/video-generation/\"}, {\"title\": \"What the Hell Is a Target Triple?\", \"url\": \"https://mcyoung.xyz/2025/04/14/target-triples/\"}, {\"title\": \"Launch HN: mrge.io (YC X25) \\u2013 Cursor for code review\", \"url\": \"No URL available\"}, {\"title\": \"METS, the Middle English Texts Series\", \"url\": \"https://metseditions.org\"}, {\"title\": \"How to Win an Argument with a Toddler\", \"url\": \"https://seths.blog/2025/04/how-to-win-an-argument-with-a-toddler/\"}, {\"title\": \"The case of the UI thread that hung in a kernel call\", \"url\": \"https://devblogs.microsoft.com/oldnewthing/20250411-00/?p=111066\"}, {\"title\": \"Hacking the Postgres Wire Protocol\", \"url\": \"https://pgdog.dev/blog/hacking-postgres-wire-protocol\"}, {\"title\": \"Cohere Launches Embed 4\", \"url\": \"https://cohere.com/blog/embed-4\"}]\n"
          ]
        }
      ],
      "source": [
        "output = tool_agent.run(user_msg=\"Tell me the top 10 Hacker News stories right now\")"
      ]
    },
    {
      "cell_type": "code",
      "execution_count": 42,
      "id": "53476bff-812d-4e56-afb9-de21474f6580",
      "metadata": {
        "id": "53476bff-812d-4e56-afb9-de21474f6580",
        "colab": {
          "base_uri": "https://localhost:8080/"
        },
        "outputId": "2eccc40e-0f72-4fd7-dcd0-d3f0f7b20fbd"
      },
      "outputs": [
        {
          "output_type": "stream",
          "name": "stdout",
          "text": [
            "The top 10 Hacker News stories right now are:\n",
            "\n",
            "1. **Clolog** - https://github.com/bobschrag/clolog\n",
            "2. **'End of an era': The last RadioShack in Maryland is closing its doors** - https://marylandmatters.org/2025/04/14/end-of-an-era-the-last-radioshack-in-maryland-is-closing-its-doors/\n",
            "3. **Generate videos in Gemini and Whisk with Veo 2** - https://blog.google/products/gemini/video-generation/\n",
            "4. **What the Hell Is a Target Triple?** - https://mcyoung.xyz/2025/04/14/target-triples/\n",
            "5. **Launch HN: mrge.io (YC X25) – Cursor for code review** - No URL available\n",
            "6. **METS, the Middle English Texts Series** - https://metseditions.org\n",
            "7. **How to Win an Argument with a Toddler** - https://seths.blog/2025/04/how-to-win-an-argument-with-a-toddler/\n",
            "8. **The case of the UI thread that hung in a kernel call** - https://devblogs.microsoft.com/oldnewthing/20250411-00/?p=111066\n",
            "9. **Hacking the Postgres Wire Protocol** - https://pgdog.dev/blog/hacking-postgres-wire-protocol\n",
            "10. **Cohere Launches Embed 4** - https://cohere.com/blog/embed-4\n"
          ]
        }
      ],
      "source": [
        "print(output)"
      ]
    },
    {
      "cell_type": "markdown",
      "id": "f70a8059-9637-45b5-8050-ea7ba4995407",
      "metadata": {
        "id": "f70a8059-9637-45b5-8050-ea7ba4995407"
      },
      "source": [
        "---\n",
        "There you have it!! A fully functional Tool!! 🛠️"
      ]
    },
    {
      "cell_type": "markdown",
      "id": "jL1TL2iHQWsO",
      "metadata": {
        "id": "jL1TL2iHQWsO"
      },
      "source": [
        "END OF SECTION 2\n",
        "\n",
        "---\n",
        "\n"
      ]
    },
    {
      "cell_type": "markdown",
      "id": "0acdc7c0-61bd-45a1-a040-df05c67ab0b2",
      "metadata": {
        "id": "0acdc7c0-61bd-45a1-a040-df05c67ab0b2"
      },
      "source": [
        "# Multiagent Pattern - Multiagent Collaboration"
      ]
    },
    {
      "cell_type": "markdown",
      "id": "7ba71f3e-5421-4dd7-bc63-e3fcdf2680a6",
      "metadata": {
        "id": "7ba71f3e-5421-4dd7-bc63-e3fcdf2680a6"
      },
      "source": []
    },
    {
      "cell_type": "markdown",
      "id": "f786e114-cde4-400e-8781-fb7f48bd072c",
      "metadata": {
        "id": "f786e114-cde4-400e-8781-fb7f48bd072c"
      },
      "source": [
        "## The Agent Class"
      ]
    },
    {
      "cell_type": "markdown",
      "id": "ec27b59f-82c6-4b21-917c-fa6d64c1e614",
      "metadata": {
        "id": "ec27b59f-82c6-4b21-917c-fa6d64c1e614"
      },
      "source": [
        "First of all, we need an **Agent Class**. This class implements an\n",
        "Agent, and internally it implements the ReAct technique."
      ]
    },
    {
      "cell_type": "code",
      "execution_count": 43,
      "id": "69780ba5-c321-4d71-b0aa-35b1d6c55ff3",
      "metadata": {
        "collapsed": true,
        "id": "69780ba5-c321-4d71-b0aa-35b1d6c55ff3",
        "colab": {
          "base_uri": "https://localhost:8080/",
          "height": 1000
        },
        "outputId": "df04397c-e680-488b-d0cc-87caf1bd7188"
      },
      "outputs": [
        {
          "output_type": "stream",
          "name": "stdout",
          "text": [
            "Requirement already satisfied: agentic_patterns in /usr/local/lib/python3.11/dist-packages (1.0.0)\n",
            "Requirement already satisfied: colorama<0.5.0,>=0.4.6 in /usr/local/lib/python3.11/dist-packages (from agentic_patterns) (0.4.6)\n",
            "Requirement already satisfied: graphviz<0.21.0,>=0.20.3 in /usr/local/lib/python3.11/dist-packages (from agentic_patterns) (0.20.3)\n",
            "Requirement already satisfied: groq<0.10.0,>=0.9.0 in /usr/local/lib/python3.11/dist-packages (from agentic_patterns) (0.9.0)\n",
            "Requirement already satisfied: jupyter<2.0.0,>=1.0.0 in /usr/local/lib/python3.11/dist-packages (from agentic_patterns) (1.1.1)\n",
            "Requirement already satisfied: python-dotenv<2.0.0,>=1.0.1 in /usr/local/lib/python3.11/dist-packages (from agentic_patterns) (1.1.0)\n",
            "Requirement already satisfied: types-colorama<0.5.0.0,>=0.4.15.20240311 in /usr/local/lib/python3.11/dist-packages (from agentic_patterns) (0.4.15.20240311)\n",
            "Requirement already satisfied: anyio<5,>=3.5.0 in /usr/local/lib/python3.11/dist-packages (from groq<0.10.0,>=0.9.0->agentic_patterns) (4.9.0)\n",
            "Requirement already satisfied: distro<2,>=1.7.0 in /usr/local/lib/python3.11/dist-packages (from groq<0.10.0,>=0.9.0->agentic_patterns) (1.9.0)\n",
            "Requirement already satisfied: httpx<1,>=0.23.0 in /usr/local/lib/python3.11/dist-packages (from groq<0.10.0,>=0.9.0->agentic_patterns) (0.28.1)\n",
            "Requirement already satisfied: pydantic<3,>=1.9.0 in /usr/local/lib/python3.11/dist-packages (from groq<0.10.0,>=0.9.0->agentic_patterns) (2.11.3)\n",
            "Requirement already satisfied: sniffio in /usr/local/lib/python3.11/dist-packages (from groq<0.10.0,>=0.9.0->agentic_patterns) (1.3.1)\n",
            "Requirement already satisfied: typing-extensions<5,>=4.7 in /usr/local/lib/python3.11/dist-packages (from groq<0.10.0,>=0.9.0->agentic_patterns) (4.13.1)\n",
            "Requirement already satisfied: notebook in /usr/local/lib/python3.11/dist-packages (from jupyter<2.0.0,>=1.0.0->agentic_patterns) (6.5.7)\n",
            "Requirement already satisfied: jupyter-console in /usr/local/lib/python3.11/dist-packages (from jupyter<2.0.0,>=1.0.0->agentic_patterns) (6.1.0)\n",
            "Requirement already satisfied: nbconvert in /usr/local/lib/python3.11/dist-packages (from jupyter<2.0.0,>=1.0.0->agentic_patterns) (7.16.6)\n",
            "Requirement already satisfied: ipykernel in /usr/local/lib/python3.11/dist-packages (from jupyter<2.0.0,>=1.0.0->agentic_patterns) (6.17.1)\n",
            "Requirement already satisfied: ipywidgets in /usr/local/lib/python3.11/dist-packages (from jupyter<2.0.0,>=1.0.0->agentic_patterns) (7.7.1)\n",
            "Requirement already satisfied: jupyterlab in /usr/local/lib/python3.11/dist-packages (from jupyter<2.0.0,>=1.0.0->agentic_patterns) (4.4.0)\n",
            "Requirement already satisfied: idna>=2.8 in /usr/local/lib/python3.11/dist-packages (from anyio<5,>=3.5.0->groq<0.10.0,>=0.9.0->agentic_patterns) (3.10)\n",
            "Requirement already satisfied: certifi in /usr/local/lib/python3.11/dist-packages (from httpx<1,>=0.23.0->groq<0.10.0,>=0.9.0->agentic_patterns) (2025.1.31)\n",
            "Requirement already satisfied: httpcore==1.* in /usr/local/lib/python3.11/dist-packages (from httpx<1,>=0.23.0->groq<0.10.0,>=0.9.0->agentic_patterns) (1.0.7)\n",
            "Requirement already satisfied: h11<0.15,>=0.13 in /usr/local/lib/python3.11/dist-packages (from httpcore==1.*->httpx<1,>=0.23.0->groq<0.10.0,>=0.9.0->agentic_patterns) (0.14.0)\n",
            "Requirement already satisfied: annotated-types>=0.6.0 in /usr/local/lib/python3.11/dist-packages (from pydantic<3,>=1.9.0->groq<0.10.0,>=0.9.0->agentic_patterns) (0.7.0)\n",
            "Requirement already satisfied: pydantic-core==2.33.1 in /usr/local/lib/python3.11/dist-packages (from pydantic<3,>=1.9.0->groq<0.10.0,>=0.9.0->agentic_patterns) (2.33.1)\n",
            "Requirement already satisfied: typing-inspection>=0.4.0 in /usr/local/lib/python3.11/dist-packages (from pydantic<3,>=1.9.0->groq<0.10.0,>=0.9.0->agentic_patterns) (0.4.0)\n",
            "Requirement already satisfied: debugpy>=1.0 in /usr/local/lib/python3.11/dist-packages (from ipykernel->jupyter<2.0.0,>=1.0.0->agentic_patterns) (1.8.0)\n",
            "Requirement already satisfied: ipython>=7.23.1 in /usr/local/lib/python3.11/dist-packages (from ipykernel->jupyter<2.0.0,>=1.0.0->agentic_patterns) (7.34.0)\n",
            "Requirement already satisfied: jupyter-client>=6.1.12 in /usr/local/lib/python3.11/dist-packages (from ipykernel->jupyter<2.0.0,>=1.0.0->agentic_patterns) (7.4.9)\n",
            "Requirement already satisfied: matplotlib-inline>=0.1 in /usr/local/lib/python3.11/dist-packages (from ipykernel->jupyter<2.0.0,>=1.0.0->agentic_patterns) (0.1.7)\n",
            "Requirement already satisfied: nest-asyncio in /usr/local/lib/python3.11/dist-packages (from ipykernel->jupyter<2.0.0,>=1.0.0->agentic_patterns) (1.6.0)\n",
            "Requirement already satisfied: packaging in /usr/local/lib/python3.11/dist-packages (from ipykernel->jupyter<2.0.0,>=1.0.0->agentic_patterns) (24.2)\n",
            "Requirement already satisfied: psutil in /usr/local/lib/python3.11/dist-packages (from ipykernel->jupyter<2.0.0,>=1.0.0->agentic_patterns) (5.9.5)\n",
            "Requirement already satisfied: pyzmq>=17 in /usr/local/lib/python3.11/dist-packages (from ipykernel->jupyter<2.0.0,>=1.0.0->agentic_patterns) (24.0.1)\n",
            "Requirement already satisfied: tornado>=6.1 in /usr/local/lib/python3.11/dist-packages (from ipykernel->jupyter<2.0.0,>=1.0.0->agentic_patterns) (6.4.2)\n",
            "Requirement already satisfied: traitlets>=5.1.0 in /usr/local/lib/python3.11/dist-packages (from ipykernel->jupyter<2.0.0,>=1.0.0->agentic_patterns) (5.7.1)\n",
            "Requirement already satisfied: ipython-genutils~=0.2.0 in /usr/local/lib/python3.11/dist-packages (from ipywidgets->jupyter<2.0.0,>=1.0.0->agentic_patterns) (0.2.0)\n",
            "Requirement already satisfied: widgetsnbextension~=3.6.0 in /usr/local/lib/python3.11/dist-packages (from ipywidgets->jupyter<2.0.0,>=1.0.0->agentic_patterns) (3.6.10)\n",
            "Requirement already satisfied: jupyterlab-widgets>=1.0.0 in /usr/local/lib/python3.11/dist-packages (from ipywidgets->jupyter<2.0.0,>=1.0.0->agentic_patterns) (3.0.13)\n",
            "Requirement already satisfied: prompt-toolkit!=3.0.0,!=3.0.1,<3.1.0,>=2.0.0 in /usr/local/lib/python3.11/dist-packages (from jupyter-console->jupyter<2.0.0,>=1.0.0->agentic_patterns) (3.0.50)\n",
            "Requirement already satisfied: pygments in /usr/local/lib/python3.11/dist-packages (from jupyter-console->jupyter<2.0.0,>=1.0.0->agentic_patterns) (2.18.0)\n",
            "Requirement already satisfied: async-lru>=1.0.0 in /usr/local/lib/python3.11/dist-packages (from jupyterlab->jupyter<2.0.0,>=1.0.0->agentic_patterns) (2.0.5)\n",
            "Requirement already satisfied: jinja2>=3.0.3 in /usr/local/lib/python3.11/dist-packages (from jupyterlab->jupyter<2.0.0,>=1.0.0->agentic_patterns) (3.1.6)\n",
            "Requirement already satisfied: jupyter-core in /usr/local/lib/python3.11/dist-packages (from jupyterlab->jupyter<2.0.0,>=1.0.0->agentic_patterns) (5.7.2)\n",
            "Requirement already satisfied: jupyter-lsp>=2.0.0 in /usr/local/lib/python3.11/dist-packages (from jupyterlab->jupyter<2.0.0,>=1.0.0->agentic_patterns) (2.2.5)\n",
            "Requirement already satisfied: jupyter-server<3,>=2.4.0 in /usr/local/lib/python3.11/dist-packages (from jupyterlab->jupyter<2.0.0,>=1.0.0->agentic_patterns) (2.15.0)\n",
            "Requirement already satisfied: jupyterlab-server<3,>=2.27.1 in /usr/local/lib/python3.11/dist-packages (from jupyterlab->jupyter<2.0.0,>=1.0.0->agentic_patterns) (2.27.3)\n",
            "Requirement already satisfied: notebook-shim>=0.2 in /usr/local/lib/python3.11/dist-packages (from jupyterlab->jupyter<2.0.0,>=1.0.0->agentic_patterns) (0.2.4)\n",
            "Requirement already satisfied: setuptools>=41.1.0 in /usr/local/lib/python3.11/dist-packages (from jupyterlab->jupyter<2.0.0,>=1.0.0->agentic_patterns) (75.2.0)\n",
            "Requirement already satisfied: beautifulsoup4 in /usr/local/lib/python3.11/dist-packages (from nbconvert->jupyter<2.0.0,>=1.0.0->agentic_patterns) (4.13.3)\n",
            "Requirement already satisfied: bleach!=5.0.0 in /usr/local/lib/python3.11/dist-packages (from bleach[css]!=5.0.0->nbconvert->jupyter<2.0.0,>=1.0.0->agentic_patterns) (6.2.0)\n",
            "Requirement already satisfied: defusedxml in /usr/local/lib/python3.11/dist-packages (from nbconvert->jupyter<2.0.0,>=1.0.0->agentic_patterns) (0.7.1)\n",
            "Requirement already satisfied: jupyterlab-pygments in /usr/local/lib/python3.11/dist-packages (from nbconvert->jupyter<2.0.0,>=1.0.0->agentic_patterns) (0.3.0)\n",
            "Requirement already satisfied: markupsafe>=2.0 in /usr/local/lib/python3.11/dist-packages (from nbconvert->jupyter<2.0.0,>=1.0.0->agentic_patterns) (3.0.2)\n",
            "Requirement already satisfied: mistune<4,>=2.0.3 in /usr/local/lib/python3.11/dist-packages (from nbconvert->jupyter<2.0.0,>=1.0.0->agentic_patterns) (3.1.3)\n",
            "Requirement already satisfied: nbclient>=0.5.0 in /usr/local/lib/python3.11/dist-packages (from nbconvert->jupyter<2.0.0,>=1.0.0->agentic_patterns) (0.10.2)\n",
            "Requirement already satisfied: nbformat>=5.7 in /usr/local/lib/python3.11/dist-packages (from nbconvert->jupyter<2.0.0,>=1.0.0->agentic_patterns) (5.10.4)\n",
            "Requirement already satisfied: pandocfilters>=1.4.1 in /usr/local/lib/python3.11/dist-packages (from nbconvert->jupyter<2.0.0,>=1.0.0->agentic_patterns) (1.5.1)\n",
            "Requirement already satisfied: argon2-cffi in /usr/local/lib/python3.11/dist-packages (from notebook->jupyter<2.0.0,>=1.0.0->agentic_patterns) (23.1.0)\n",
            "Requirement already satisfied: Send2Trash>=1.8.0 in /usr/local/lib/python3.11/dist-packages (from notebook->jupyter<2.0.0,>=1.0.0->agentic_patterns) (1.8.3)\n",
            "Requirement already satisfied: terminado>=0.8.3 in /usr/local/lib/python3.11/dist-packages (from notebook->jupyter<2.0.0,>=1.0.0->agentic_patterns) (0.18.1)\n",
            "Requirement already satisfied: prometheus-client in /usr/local/lib/python3.11/dist-packages (from notebook->jupyter<2.0.0,>=1.0.0->agentic_patterns) (0.21.1)\n",
            "Requirement already satisfied: nbclassic>=0.4.7 in /usr/local/lib/python3.11/dist-packages (from notebook->jupyter<2.0.0,>=1.0.0->agentic_patterns) (1.2.0)\n",
            "Requirement already satisfied: webencodings in /usr/local/lib/python3.11/dist-packages (from bleach!=5.0.0->bleach[css]!=5.0.0->nbconvert->jupyter<2.0.0,>=1.0.0->agentic_patterns) (0.5.1)\n",
            "Requirement already satisfied: tinycss2<1.5,>=1.1.0 in /usr/local/lib/python3.11/dist-packages (from bleach[css]!=5.0.0->nbconvert->jupyter<2.0.0,>=1.0.0->agentic_patterns) (1.4.0)\n",
            "Requirement already satisfied: jedi>=0.16 in /usr/local/lib/python3.11/dist-packages (from ipython>=7.23.1->ipykernel->jupyter<2.0.0,>=1.0.0->agentic_patterns) (0.19.2)\n",
            "Requirement already satisfied: decorator in /usr/local/lib/python3.11/dist-packages (from ipython>=7.23.1->ipykernel->jupyter<2.0.0,>=1.0.0->agentic_patterns) (4.4.2)\n",
            "Requirement already satisfied: pickleshare in /usr/local/lib/python3.11/dist-packages (from ipython>=7.23.1->ipykernel->jupyter<2.0.0,>=1.0.0->agentic_patterns) (0.7.5)\n",
            "Requirement already satisfied: backcall in /usr/local/lib/python3.11/dist-packages (from ipython>=7.23.1->ipykernel->jupyter<2.0.0,>=1.0.0->agentic_patterns) (0.2.0)\n",
            "Requirement already satisfied: pexpect>4.3 in /usr/local/lib/python3.11/dist-packages (from ipython>=7.23.1->ipykernel->jupyter<2.0.0,>=1.0.0->agentic_patterns) (4.9.0)\n",
            "Requirement already satisfied: entrypoints in /usr/local/lib/python3.11/dist-packages (from jupyter-client>=6.1.12->ipykernel->jupyter<2.0.0,>=1.0.0->agentic_patterns) (0.4)\n",
            "Requirement already satisfied: python-dateutil>=2.8.2 in /usr/local/lib/python3.11/dist-packages (from jupyter-client>=6.1.12->ipykernel->jupyter<2.0.0,>=1.0.0->agentic_patterns) (2.8.2)\n",
            "Requirement already satisfied: platformdirs>=2.5 in /usr/local/lib/python3.11/dist-packages (from jupyter-core->jupyterlab->jupyter<2.0.0,>=1.0.0->agentic_patterns) (4.3.7)\n",
            "Requirement already satisfied: jupyter-events>=0.11.0 in /usr/local/lib/python3.11/dist-packages (from jupyter-server<3,>=2.4.0->jupyterlab->jupyter<2.0.0,>=1.0.0->agentic_patterns) (0.12.0)\n",
            "Requirement already satisfied: jupyter-server-terminals>=0.4.4 in /usr/local/lib/python3.11/dist-packages (from jupyter-server<3,>=2.4.0->jupyterlab->jupyter<2.0.0,>=1.0.0->agentic_patterns) (0.5.3)\n",
            "Requirement already satisfied: overrides>=5.0 in /usr/local/lib/python3.11/dist-packages (from jupyter-server<3,>=2.4.0->jupyterlab->jupyter<2.0.0,>=1.0.0->agentic_patterns) (7.7.0)\n",
            "Requirement already satisfied: websocket-client>=1.7 in /usr/local/lib/python3.11/dist-packages (from jupyter-server<3,>=2.4.0->jupyterlab->jupyter<2.0.0,>=1.0.0->agentic_patterns) (1.8.0)\n",
            "Requirement already satisfied: argon2-cffi-bindings in /usr/local/lib/python3.11/dist-packages (from argon2-cffi->notebook->jupyter<2.0.0,>=1.0.0->agentic_patterns) (21.2.0)\n",
            "Requirement already satisfied: babel>=2.10 in /usr/local/lib/python3.11/dist-packages (from jupyterlab-server<3,>=2.27.1->jupyterlab->jupyter<2.0.0,>=1.0.0->agentic_patterns) (2.17.0)\n",
            "Requirement already satisfied: json5>=0.9.0 in /usr/local/lib/python3.11/dist-packages (from jupyterlab-server<3,>=2.27.1->jupyterlab->jupyter<2.0.0,>=1.0.0->agentic_patterns) (0.12.0)\n",
            "Requirement already satisfied: jsonschema>=4.18.0 in /usr/local/lib/python3.11/dist-packages (from jupyterlab-server<3,>=2.27.1->jupyterlab->jupyter<2.0.0,>=1.0.0->agentic_patterns) (4.23.0)\n",
            "Requirement already satisfied: requests>=2.31 in /usr/local/lib/python3.11/dist-packages (from jupyterlab-server<3,>=2.27.1->jupyterlab->jupyter<2.0.0,>=1.0.0->agentic_patterns) (2.32.3)\n",
            "Requirement already satisfied: fastjsonschema>=2.15 in /usr/local/lib/python3.11/dist-packages (from nbformat>=5.7->nbconvert->jupyter<2.0.0,>=1.0.0->agentic_patterns) (2.21.1)\n",
            "Requirement already satisfied: wcwidth in /usr/local/lib/python3.11/dist-packages (from prompt-toolkit!=3.0.0,!=3.0.1,<3.1.0,>=2.0.0->jupyter-console->jupyter<2.0.0,>=1.0.0->agentic_patterns) (0.2.13)\n",
            "Requirement already satisfied: ptyprocess in /usr/local/lib/python3.11/dist-packages (from terminado>=0.8.3->notebook->jupyter<2.0.0,>=1.0.0->agentic_patterns) (0.7.0)\n",
            "Requirement already satisfied: soupsieve>1.2 in /usr/local/lib/python3.11/dist-packages (from beautifulsoup4->nbconvert->jupyter<2.0.0,>=1.0.0->agentic_patterns) (2.6)\n",
            "Requirement already satisfied: parso<0.9.0,>=0.8.4 in /usr/local/lib/python3.11/dist-packages (from jedi>=0.16->ipython>=7.23.1->ipykernel->jupyter<2.0.0,>=1.0.0->agentic_patterns) (0.8.4)\n",
            "Requirement already satisfied: attrs>=22.2.0 in /usr/local/lib/python3.11/dist-packages (from jsonschema>=4.18.0->jupyterlab-server<3,>=2.27.1->jupyterlab->jupyter<2.0.0,>=1.0.0->agentic_patterns) (25.3.0)\n",
            "Requirement already satisfied: jsonschema-specifications>=2023.03.6 in /usr/local/lib/python3.11/dist-packages (from jsonschema>=4.18.0->jupyterlab-server<3,>=2.27.1->jupyterlab->jupyter<2.0.0,>=1.0.0->agentic_patterns) (2024.10.1)\n",
            "Requirement already satisfied: referencing>=0.28.4 in /usr/local/lib/python3.11/dist-packages (from jsonschema>=4.18.0->jupyterlab-server<3,>=2.27.1->jupyterlab->jupyter<2.0.0,>=1.0.0->agentic_patterns) (0.36.2)\n",
            "Requirement already satisfied: rpds-py>=0.7.1 in /usr/local/lib/python3.11/dist-packages (from jsonschema>=4.18.0->jupyterlab-server<3,>=2.27.1->jupyterlab->jupyter<2.0.0,>=1.0.0->agentic_patterns) (0.24.0)\n",
            "Requirement already satisfied: python-json-logger>=2.0.4 in /usr/local/lib/python3.11/dist-packages (from jupyter-events>=0.11.0->jupyter-server<3,>=2.4.0->jupyterlab->jupyter<2.0.0,>=1.0.0->agentic_patterns) (3.3.0)\n",
            "Requirement already satisfied: pyyaml>=5.3 in /usr/local/lib/python3.11/dist-packages (from jupyter-events>=0.11.0->jupyter-server<3,>=2.4.0->jupyterlab->jupyter<2.0.0,>=1.0.0->agentic_patterns) (6.0.2)\n",
            "Requirement already satisfied: rfc3339-validator in /usr/local/lib/python3.11/dist-packages (from jupyter-events>=0.11.0->jupyter-server<3,>=2.4.0->jupyterlab->jupyter<2.0.0,>=1.0.0->agentic_patterns) (0.1.4)\n",
            "Requirement already satisfied: rfc3986-validator>=0.1.1 in /usr/local/lib/python3.11/dist-packages (from jupyter-events>=0.11.0->jupyter-server<3,>=2.4.0->jupyterlab->jupyter<2.0.0,>=1.0.0->agentic_patterns) (0.1.1)\n",
            "Requirement already satisfied: six>=1.5 in /usr/local/lib/python3.11/dist-packages (from python-dateutil>=2.8.2->jupyter-client>=6.1.12->ipykernel->jupyter<2.0.0,>=1.0.0->agentic_patterns) (1.17.0)\n",
            "Requirement already satisfied: charset-normalizer<4,>=2 in /usr/local/lib/python3.11/dist-packages (from requests>=2.31->jupyterlab-server<3,>=2.27.1->jupyterlab->jupyter<2.0.0,>=1.0.0->agentic_patterns) (3.4.1)\n",
            "Requirement already satisfied: urllib3<3,>=1.21.1 in /usr/local/lib/python3.11/dist-packages (from requests>=2.31->jupyterlab-server<3,>=2.27.1->jupyterlab->jupyter<2.0.0,>=1.0.0->agentic_patterns) (2.3.0)\n",
            "Requirement already satisfied: cffi>=1.0.1 in /usr/local/lib/python3.11/dist-packages (from argon2-cffi-bindings->argon2-cffi->notebook->jupyter<2.0.0,>=1.0.0->agentic_patterns) (1.17.1)\n",
            "Requirement already satisfied: pycparser in /usr/local/lib/python3.11/dist-packages (from cffi>=1.0.1->argon2-cffi-bindings->argon2-cffi->notebook->jupyter<2.0.0,>=1.0.0->agentic_patterns) (2.22)\n",
            "Requirement already satisfied: fqdn in /usr/local/lib/python3.11/dist-packages (from jsonschema[format-nongpl]>=4.18.0->jupyter-events>=0.11.0->jupyter-server<3,>=2.4.0->jupyterlab->jupyter<2.0.0,>=1.0.0->agentic_patterns) (1.5.1)\n",
            "Requirement already satisfied: isoduration in /usr/local/lib/python3.11/dist-packages (from jsonschema[format-nongpl]>=4.18.0->jupyter-events>=0.11.0->jupyter-server<3,>=2.4.0->jupyterlab->jupyter<2.0.0,>=1.0.0->agentic_patterns) (20.11.0)\n",
            "Requirement already satisfied: jsonpointer>1.13 in /usr/local/lib/python3.11/dist-packages (from jsonschema[format-nongpl]>=4.18.0->jupyter-events>=0.11.0->jupyter-server<3,>=2.4.0->jupyterlab->jupyter<2.0.0,>=1.0.0->agentic_patterns) (3.0.0)\n",
            "Requirement already satisfied: uri-template in /usr/local/lib/python3.11/dist-packages (from jsonschema[format-nongpl]>=4.18.0->jupyter-events>=0.11.0->jupyter-server<3,>=2.4.0->jupyterlab->jupyter<2.0.0,>=1.0.0->agentic_patterns) (1.3.0)\n",
            "Requirement already satisfied: webcolors>=24.6.0 in /usr/local/lib/python3.11/dist-packages (from jsonschema[format-nongpl]>=4.18.0->jupyter-events>=0.11.0->jupyter-server<3,>=2.4.0->jupyterlab->jupyter<2.0.0,>=1.0.0->agentic_patterns) (24.11.1)\n",
            "Requirement already satisfied: arrow>=0.15.0 in /usr/local/lib/python3.11/dist-packages (from isoduration->jsonschema[format-nongpl]>=4.18.0->jupyter-events>=0.11.0->jupyter-server<3,>=2.4.0->jupyterlab->jupyter<2.0.0,>=1.0.0->agentic_patterns) (1.3.0)\n",
            "Requirement already satisfied: types-python-dateutil>=2.8.10 in /usr/local/lib/python3.11/dist-packages (from arrow>=0.15.0->isoduration->jsonschema[format-nongpl]>=4.18.0->jupyter-events>=0.11.0->jupyter-server<3,>=2.4.0->jupyterlab->jupyter<2.0.0,>=1.0.0->agentic_patterns) (2.9.0.20241206)\n",
            "Requirement already satisfied: agentic_patterns in /usr/local/lib/python3.11/dist-packages (1.0.0)\n",
            "Requirement already satisfied: groq in /usr/local/lib/python3.11/dist-packages (0.9.0)\n",
            "Collecting groq\n",
            "  Using cached groq-0.22.0-py3-none-any.whl.metadata (15 kB)\n",
            "Collecting httpx==0.24.1\n",
            "  Downloading httpx-0.24.1-py3-none-any.whl.metadata (7.4 kB)\n",
            "Requirement already satisfied: certifi in /usr/local/lib/python3.11/dist-packages (from httpx==0.24.1) (2025.1.31)\n",
            "Collecting httpcore<0.18.0,>=0.15.0 (from httpx==0.24.1)\n",
            "  Downloading httpcore-0.17.3-py3-none-any.whl.metadata (18 kB)\n",
            "Requirement already satisfied: idna in /usr/local/lib/python3.11/dist-packages (from httpx==0.24.1) (3.10)\n",
            "Requirement already satisfied: sniffio in /usr/local/lib/python3.11/dist-packages (from httpx==0.24.1) (1.3.1)\n",
            "Requirement already satisfied: colorama<0.5.0,>=0.4.6 in /usr/local/lib/python3.11/dist-packages (from agentic_patterns) (0.4.6)\n",
            "Requirement already satisfied: graphviz<0.21.0,>=0.20.3 in /usr/local/lib/python3.11/dist-packages (from agentic_patterns) (0.20.3)\n",
            "Requirement already satisfied: jupyter<2.0.0,>=1.0.0 in /usr/local/lib/python3.11/dist-packages (from agentic_patterns) (1.1.1)\n",
            "Requirement already satisfied: python-dotenv<2.0.0,>=1.0.1 in /usr/local/lib/python3.11/dist-packages (from agentic_patterns) (1.1.0)\n",
            "Requirement already satisfied: types-colorama<0.5.0.0,>=0.4.15.20240311 in /usr/local/lib/python3.11/dist-packages (from agentic_patterns) (0.4.15.20240311)\n",
            "Requirement already satisfied: anyio<5,>=3.5.0 in /usr/local/lib/python3.11/dist-packages (from groq) (4.9.0)\n",
            "Requirement already satisfied: distro<2,>=1.7.0 in /usr/local/lib/python3.11/dist-packages (from groq) (1.9.0)\n",
            "Requirement already satisfied: pydantic<3,>=1.9.0 in /usr/local/lib/python3.11/dist-packages (from groq) (2.11.3)\n",
            "Requirement already satisfied: typing-extensions<5,>=4.7 in /usr/local/lib/python3.11/dist-packages (from groq) (4.13.1)\n",
            "Requirement already satisfied: h11<0.15,>=0.13 in /usr/local/lib/python3.11/dist-packages (from httpcore<0.18.0,>=0.15.0->httpx==0.24.1) (0.14.0)\n",
            "Requirement already satisfied: notebook in /usr/local/lib/python3.11/dist-packages (from jupyter<2.0.0,>=1.0.0->agentic_patterns) (6.5.7)\n",
            "Requirement already satisfied: jupyter-console in /usr/local/lib/python3.11/dist-packages (from jupyter<2.0.0,>=1.0.0->agentic_patterns) (6.1.0)\n",
            "Requirement already satisfied: nbconvert in /usr/local/lib/python3.11/dist-packages (from jupyter<2.0.0,>=1.0.0->agentic_patterns) (7.16.6)\n",
            "Requirement already satisfied: ipykernel in /usr/local/lib/python3.11/dist-packages (from jupyter<2.0.0,>=1.0.0->agentic_patterns) (6.17.1)\n",
            "Requirement already satisfied: ipywidgets in /usr/local/lib/python3.11/dist-packages (from jupyter<2.0.0,>=1.0.0->agentic_patterns) (7.7.1)\n",
            "Requirement already satisfied: jupyterlab in /usr/local/lib/python3.11/dist-packages (from jupyter<2.0.0,>=1.0.0->agentic_patterns) (4.4.0)\n",
            "Requirement already satisfied: annotated-types>=0.6.0 in /usr/local/lib/python3.11/dist-packages (from pydantic<3,>=1.9.0->groq) (0.7.0)\n",
            "Requirement already satisfied: pydantic-core==2.33.1 in /usr/local/lib/python3.11/dist-packages (from pydantic<3,>=1.9.0->groq) (2.33.1)\n",
            "Requirement already satisfied: typing-inspection>=0.4.0 in /usr/local/lib/python3.11/dist-packages (from pydantic<3,>=1.9.0->groq) (0.4.0)\n",
            "Requirement already satisfied: debugpy>=1.0 in /usr/local/lib/python3.11/dist-packages (from ipykernel->jupyter<2.0.0,>=1.0.0->agentic_patterns) (1.8.0)\n",
            "Requirement already satisfied: ipython>=7.23.1 in /usr/local/lib/python3.11/dist-packages (from ipykernel->jupyter<2.0.0,>=1.0.0->agentic_patterns) (7.34.0)\n",
            "Requirement already satisfied: jupyter-client>=6.1.12 in /usr/local/lib/python3.11/dist-packages (from ipykernel->jupyter<2.0.0,>=1.0.0->agentic_patterns) (7.4.9)\n",
            "Requirement already satisfied: matplotlib-inline>=0.1 in /usr/local/lib/python3.11/dist-packages (from ipykernel->jupyter<2.0.0,>=1.0.0->agentic_patterns) (0.1.7)\n",
            "Requirement already satisfied: nest-asyncio in /usr/local/lib/python3.11/dist-packages (from ipykernel->jupyter<2.0.0,>=1.0.0->agentic_patterns) (1.6.0)\n",
            "Requirement already satisfied: packaging in /usr/local/lib/python3.11/dist-packages (from ipykernel->jupyter<2.0.0,>=1.0.0->agentic_patterns) (24.2)\n",
            "Requirement already satisfied: psutil in /usr/local/lib/python3.11/dist-packages (from ipykernel->jupyter<2.0.0,>=1.0.0->agentic_patterns) (5.9.5)\n",
            "Requirement already satisfied: pyzmq>=17 in /usr/local/lib/python3.11/dist-packages (from ipykernel->jupyter<2.0.0,>=1.0.0->agentic_patterns) (24.0.1)\n",
            "Requirement already satisfied: tornado>=6.1 in /usr/local/lib/python3.11/dist-packages (from ipykernel->jupyter<2.0.0,>=1.0.0->agentic_patterns) (6.4.2)\n",
            "Requirement already satisfied: traitlets>=5.1.0 in /usr/local/lib/python3.11/dist-packages (from ipykernel->jupyter<2.0.0,>=1.0.0->agentic_patterns) (5.7.1)\n",
            "Requirement already satisfied: ipython-genutils~=0.2.0 in /usr/local/lib/python3.11/dist-packages (from ipywidgets->jupyter<2.0.0,>=1.0.0->agentic_patterns) (0.2.0)\n",
            "Requirement already satisfied: widgetsnbextension~=3.6.0 in /usr/local/lib/python3.11/dist-packages (from ipywidgets->jupyter<2.0.0,>=1.0.0->agentic_patterns) (3.6.10)\n",
            "Requirement already satisfied: jupyterlab-widgets>=1.0.0 in /usr/local/lib/python3.11/dist-packages (from ipywidgets->jupyter<2.0.0,>=1.0.0->agentic_patterns) (3.0.13)\n",
            "Requirement already satisfied: prompt-toolkit!=3.0.0,!=3.0.1,<3.1.0,>=2.0.0 in /usr/local/lib/python3.11/dist-packages (from jupyter-console->jupyter<2.0.0,>=1.0.0->agentic_patterns) (3.0.50)\n",
            "Requirement already satisfied: pygments in /usr/local/lib/python3.11/dist-packages (from jupyter-console->jupyter<2.0.0,>=1.0.0->agentic_patterns) (2.18.0)\n",
            "Requirement already satisfied: async-lru>=1.0.0 in /usr/local/lib/python3.11/dist-packages (from jupyterlab->jupyter<2.0.0,>=1.0.0->agentic_patterns) (2.0.5)\n",
            "INFO: pip is looking at multiple versions of jupyterlab to determine which version is compatible with other requirements. This could take a while.\n",
            "Collecting jupyterlab (from jupyter<2.0.0,>=1.0.0->agentic_patterns)\n",
            "  Downloading jupyterlab-4.3.6-py3-none-any.whl.metadata (16 kB)\n",
            "  Downloading jupyterlab-4.3.5-py3-none-any.whl.metadata (16 kB)\n",
            "  Downloading jupyterlab-4.3.4-py3-none-any.whl.metadata (16 kB)\n",
            "  Downloading jupyterlab-4.3.3-py3-none-any.whl.metadata (16 kB)\n",
            "  Downloading jupyterlab-4.3.2-py3-none-any.whl.metadata (16 kB)\n",
            "  Downloading jupyterlab-4.3.1-py3-none-any.whl.metadata (16 kB)\n",
            "  Downloading jupyterlab-4.3.0-py3-none-any.whl.metadata (16 kB)\n",
            "INFO: pip is still looking at multiple versions of jupyterlab to determine which version is compatible with other requirements. This could take a while.\n",
            "  Downloading jupyterlab-4.2.7-py3-none-any.whl.metadata (16 kB)\n",
            "  Downloading jupyterlab-4.2.6-py3-none-any.whl.metadata (16 kB)\n",
            "  Downloading jupyterlab-4.2.5-py3-none-any.whl.metadata (16 kB)\n",
            "  Downloading jupyterlab-4.2.4-py3-none-any.whl.metadata (16 kB)\n",
            "  Downloading jupyterlab-4.2.3-py3-none-any.whl.metadata (16 kB)\n",
            "INFO: This is taking longer than usual. You might need to provide the dependency resolver with stricter constraints to reduce runtime. See https://pip.pypa.io/warnings/backtracking for guidance. If you want to abort this run, press Ctrl + C.\n",
            "  Downloading jupyterlab-4.2.2-py3-none-any.whl.metadata (16 kB)\n",
            "  Downloading jupyterlab-4.2.1-py3-none-any.whl.metadata (16 kB)\n",
            "  Downloading jupyterlab-4.2.0-py3-none-any.whl.metadata (16 kB)\n",
            "  Downloading jupyterlab-4.1.8-py3-none-any.whl.metadata (16 kB)\n",
            "  Downloading jupyterlab-4.1.7-py3-none-any.whl.metadata (16 kB)\n",
            "  Downloading jupyterlab-4.1.6-py3-none-any.whl.metadata (16 kB)\n",
            "  Downloading jupyterlab-4.1.5-py3-none-any.whl.metadata (15 kB)\n",
            "  Downloading jupyterlab-4.1.4-py3-none-any.whl.metadata (15 kB)\n",
            "  Downloading jupyterlab-4.1.3-py3-none-any.whl.metadata (15 kB)\n",
            "  Downloading jupyterlab-4.1.2-py3-none-any.whl.metadata (15 kB)\n",
            "  Downloading jupyterlab-4.1.1-py3-none-any.whl.metadata (15 kB)\n",
            "  Downloading jupyterlab-4.1.0-py3-none-any.whl.metadata (15 kB)\n",
            "  Downloading jupyterlab-4.0.13-py3-none-any.whl.metadata (15 kB)\n",
            "Requirement already satisfied: jinja2>=3.0.3 in /usr/local/lib/python3.11/dist-packages (from jupyterlab->jupyter<2.0.0,>=1.0.0->agentic_patterns) (3.1.6)\n",
            "Requirement already satisfied: jupyter-core in /usr/local/lib/python3.11/dist-packages (from jupyterlab->jupyter<2.0.0,>=1.0.0->agentic_patterns) (5.7.2)\n",
            "Requirement already satisfied: jupyter-lsp>=2.0.0 in /usr/local/lib/python3.11/dist-packages (from jupyterlab->jupyter<2.0.0,>=1.0.0->agentic_patterns) (2.2.5)\n",
            "Requirement already satisfied: jupyter-server<3,>=2.4.0 in /usr/local/lib/python3.11/dist-packages (from jupyterlab->jupyter<2.0.0,>=1.0.0->agentic_patterns) (2.15.0)\n",
            "Requirement already satisfied: jupyterlab-server<3,>=2.19.0 in /usr/local/lib/python3.11/dist-packages (from jupyterlab->jupyter<2.0.0,>=1.0.0->agentic_patterns) (2.27.3)\n",
            "Requirement already satisfied: notebook-shim>=0.2 in /usr/local/lib/python3.11/dist-packages (from jupyterlab->jupyter<2.0.0,>=1.0.0->agentic_patterns) (0.2.4)\n",
            "Requirement already satisfied: beautifulsoup4 in /usr/local/lib/python3.11/dist-packages (from nbconvert->jupyter<2.0.0,>=1.0.0->agentic_patterns) (4.13.3)\n",
            "Requirement already satisfied: bleach!=5.0.0 in /usr/local/lib/python3.11/dist-packages (from bleach[css]!=5.0.0->nbconvert->jupyter<2.0.0,>=1.0.0->agentic_patterns) (6.2.0)\n",
            "Requirement already satisfied: defusedxml in /usr/local/lib/python3.11/dist-packages (from nbconvert->jupyter<2.0.0,>=1.0.0->agentic_patterns) (0.7.1)\n",
            "Requirement already satisfied: jupyterlab-pygments in /usr/local/lib/python3.11/dist-packages (from nbconvert->jupyter<2.0.0,>=1.0.0->agentic_patterns) (0.3.0)\n",
            "Requirement already satisfied: markupsafe>=2.0 in /usr/local/lib/python3.11/dist-packages (from nbconvert->jupyter<2.0.0,>=1.0.0->agentic_patterns) (3.0.2)\n",
            "Requirement already satisfied: mistune<4,>=2.0.3 in /usr/local/lib/python3.11/dist-packages (from nbconvert->jupyter<2.0.0,>=1.0.0->agentic_patterns) (3.1.3)\n",
            "Requirement already satisfied: nbclient>=0.5.0 in /usr/local/lib/python3.11/dist-packages (from nbconvert->jupyter<2.0.0,>=1.0.0->agentic_patterns) (0.10.2)\n",
            "Requirement already satisfied: nbformat>=5.7 in /usr/local/lib/python3.11/dist-packages (from nbconvert->jupyter<2.0.0,>=1.0.0->agentic_patterns) (5.10.4)\n",
            "Requirement already satisfied: pandocfilters>=1.4.1 in /usr/local/lib/python3.11/dist-packages (from nbconvert->jupyter<2.0.0,>=1.0.0->agentic_patterns) (1.5.1)\n",
            "Requirement already satisfied: argon2-cffi in /usr/local/lib/python3.11/dist-packages (from notebook->jupyter<2.0.0,>=1.0.0->agentic_patterns) (23.1.0)\n",
            "Requirement already satisfied: Send2Trash>=1.8.0 in /usr/local/lib/python3.11/dist-packages (from notebook->jupyter<2.0.0,>=1.0.0->agentic_patterns) (1.8.3)\n",
            "Requirement already satisfied: terminado>=0.8.3 in /usr/local/lib/python3.11/dist-packages (from notebook->jupyter<2.0.0,>=1.0.0->agentic_patterns) (0.18.1)\n",
            "Requirement already satisfied: prometheus-client in /usr/local/lib/python3.11/dist-packages (from notebook->jupyter<2.0.0,>=1.0.0->agentic_patterns) (0.21.1)\n",
            "Requirement already satisfied: nbclassic>=0.4.7 in /usr/local/lib/python3.11/dist-packages (from notebook->jupyter<2.0.0,>=1.0.0->agentic_patterns) (1.2.0)\n",
            "Requirement already satisfied: webencodings in /usr/local/lib/python3.11/dist-packages (from bleach!=5.0.0->bleach[css]!=5.0.0->nbconvert->jupyter<2.0.0,>=1.0.0->agentic_patterns) (0.5.1)\n",
            "Requirement already satisfied: tinycss2<1.5,>=1.1.0 in /usr/local/lib/python3.11/dist-packages (from bleach[css]!=5.0.0->nbconvert->jupyter<2.0.0,>=1.0.0->agentic_patterns) (1.4.0)\n",
            "Requirement already satisfied: setuptools>=18.5 in /usr/local/lib/python3.11/dist-packages (from ipython>=7.23.1->ipykernel->jupyter<2.0.0,>=1.0.0->agentic_patterns) (75.2.0)\n",
            "Requirement already satisfied: jedi>=0.16 in /usr/local/lib/python3.11/dist-packages (from ipython>=7.23.1->ipykernel->jupyter<2.0.0,>=1.0.0->agentic_patterns) (0.19.2)\n",
            "Requirement already satisfied: decorator in /usr/local/lib/python3.11/dist-packages (from ipython>=7.23.1->ipykernel->jupyter<2.0.0,>=1.0.0->agentic_patterns) (4.4.2)\n",
            "Requirement already satisfied: pickleshare in /usr/local/lib/python3.11/dist-packages (from ipython>=7.23.1->ipykernel->jupyter<2.0.0,>=1.0.0->agentic_patterns) (0.7.5)\n",
            "Requirement already satisfied: backcall in /usr/local/lib/python3.11/dist-packages (from ipython>=7.23.1->ipykernel->jupyter<2.0.0,>=1.0.0->agentic_patterns) (0.2.0)\n",
            "Requirement already satisfied: pexpect>4.3 in /usr/local/lib/python3.11/dist-packages (from ipython>=7.23.1->ipykernel->jupyter<2.0.0,>=1.0.0->agentic_patterns) (4.9.0)\n",
            "Requirement already satisfied: entrypoints in /usr/local/lib/python3.11/dist-packages (from jupyter-client>=6.1.12->ipykernel->jupyter<2.0.0,>=1.0.0->agentic_patterns) (0.4)\n",
            "Requirement already satisfied: python-dateutil>=2.8.2 in /usr/local/lib/python3.11/dist-packages (from jupyter-client>=6.1.12->ipykernel->jupyter<2.0.0,>=1.0.0->agentic_patterns) (2.8.2)\n",
            "Requirement already satisfied: platformdirs>=2.5 in /usr/local/lib/python3.11/dist-packages (from jupyter-core->jupyterlab->jupyter<2.0.0,>=1.0.0->agentic_patterns) (4.3.7)\n",
            "Requirement already satisfied: jupyter-events>=0.11.0 in /usr/local/lib/python3.11/dist-packages (from jupyter-server<3,>=2.4.0->jupyterlab->jupyter<2.0.0,>=1.0.0->agentic_patterns) (0.12.0)\n",
            "Requirement already satisfied: jupyter-server-terminals>=0.4.4 in /usr/local/lib/python3.11/dist-packages (from jupyter-server<3,>=2.4.0->jupyterlab->jupyter<2.0.0,>=1.0.0->agentic_patterns) (0.5.3)\n",
            "Requirement already satisfied: overrides>=5.0 in /usr/local/lib/python3.11/dist-packages (from jupyter-server<3,>=2.4.0->jupyterlab->jupyter<2.0.0,>=1.0.0->agentic_patterns) (7.7.0)\n",
            "Requirement already satisfied: websocket-client>=1.7 in /usr/local/lib/python3.11/dist-packages (from jupyter-server<3,>=2.4.0->jupyterlab->jupyter<2.0.0,>=1.0.0->agentic_patterns) (1.8.0)\n",
            "Requirement already satisfied: argon2-cffi-bindings in /usr/local/lib/python3.11/dist-packages (from argon2-cffi->notebook->jupyter<2.0.0,>=1.0.0->agentic_patterns) (21.2.0)\n",
            "Requirement already satisfied: babel>=2.10 in /usr/local/lib/python3.11/dist-packages (from jupyterlab-server<3,>=2.19.0->jupyterlab->jupyter<2.0.0,>=1.0.0->agentic_patterns) (2.17.0)\n",
            "Requirement already satisfied: json5>=0.9.0 in /usr/local/lib/python3.11/dist-packages (from jupyterlab-server<3,>=2.19.0->jupyterlab->jupyter<2.0.0,>=1.0.0->agentic_patterns) (0.12.0)\n",
            "Requirement already satisfied: jsonschema>=4.18.0 in /usr/local/lib/python3.11/dist-packages (from jupyterlab-server<3,>=2.19.0->jupyterlab->jupyter<2.0.0,>=1.0.0->agentic_patterns) (4.23.0)\n",
            "Requirement already satisfied: requests>=2.31 in /usr/local/lib/python3.11/dist-packages (from jupyterlab-server<3,>=2.19.0->jupyterlab->jupyter<2.0.0,>=1.0.0->agentic_patterns) (2.32.3)\n",
            "Requirement already satisfied: fastjsonschema>=2.15 in /usr/local/lib/python3.11/dist-packages (from nbformat>=5.7->nbconvert->jupyter<2.0.0,>=1.0.0->agentic_patterns) (2.21.1)\n",
            "Requirement already satisfied: wcwidth in /usr/local/lib/python3.11/dist-packages (from prompt-toolkit!=3.0.0,!=3.0.1,<3.1.0,>=2.0.0->jupyter-console->jupyter<2.0.0,>=1.0.0->agentic_patterns) (0.2.13)\n",
            "Requirement already satisfied: ptyprocess in /usr/local/lib/python3.11/dist-packages (from terminado>=0.8.3->notebook->jupyter<2.0.0,>=1.0.0->agentic_patterns) (0.7.0)\n",
            "Requirement already satisfied: soupsieve>1.2 in /usr/local/lib/python3.11/dist-packages (from beautifulsoup4->nbconvert->jupyter<2.0.0,>=1.0.0->agentic_patterns) (2.6)\n",
            "Requirement already satisfied: parso<0.9.0,>=0.8.4 in /usr/local/lib/python3.11/dist-packages (from jedi>=0.16->ipython>=7.23.1->ipykernel->jupyter<2.0.0,>=1.0.0->agentic_patterns) (0.8.4)\n",
            "Requirement already satisfied: attrs>=22.2.0 in /usr/local/lib/python3.11/dist-packages (from jsonschema>=4.18.0->jupyterlab-server<3,>=2.19.0->jupyterlab->jupyter<2.0.0,>=1.0.0->agentic_patterns) (25.3.0)\n",
            "Requirement already satisfied: jsonschema-specifications>=2023.03.6 in /usr/local/lib/python3.11/dist-packages (from jsonschema>=4.18.0->jupyterlab-server<3,>=2.19.0->jupyterlab->jupyter<2.0.0,>=1.0.0->agentic_patterns) (2024.10.1)\n",
            "Requirement already satisfied: referencing>=0.28.4 in /usr/local/lib/python3.11/dist-packages (from jsonschema>=4.18.0->jupyterlab-server<3,>=2.19.0->jupyterlab->jupyter<2.0.0,>=1.0.0->agentic_patterns) (0.36.2)\n",
            "Requirement already satisfied: rpds-py>=0.7.1 in /usr/local/lib/python3.11/dist-packages (from jsonschema>=4.18.0->jupyterlab-server<3,>=2.19.0->jupyterlab->jupyter<2.0.0,>=1.0.0->agentic_patterns) (0.24.0)\n",
            "Requirement already satisfied: python-json-logger>=2.0.4 in /usr/local/lib/python3.11/dist-packages (from jupyter-events>=0.11.0->jupyter-server<3,>=2.4.0->jupyterlab->jupyter<2.0.0,>=1.0.0->agentic_patterns) (3.3.0)\n",
            "Requirement already satisfied: pyyaml>=5.3 in /usr/local/lib/python3.11/dist-packages (from jupyter-events>=0.11.0->jupyter-server<3,>=2.4.0->jupyterlab->jupyter<2.0.0,>=1.0.0->agentic_patterns) (6.0.2)\n",
            "Requirement already satisfied: rfc3339-validator in /usr/local/lib/python3.11/dist-packages (from jupyter-events>=0.11.0->jupyter-server<3,>=2.4.0->jupyterlab->jupyter<2.0.0,>=1.0.0->agentic_patterns) (0.1.4)\n",
            "Requirement already satisfied: rfc3986-validator>=0.1.1 in /usr/local/lib/python3.11/dist-packages (from jupyter-events>=0.11.0->jupyter-server<3,>=2.4.0->jupyterlab->jupyter<2.0.0,>=1.0.0->agentic_patterns) (0.1.1)\n",
            "Requirement already satisfied: six>=1.5 in /usr/local/lib/python3.11/dist-packages (from python-dateutil>=2.8.2->jupyter-client>=6.1.12->ipykernel->jupyter<2.0.0,>=1.0.0->agentic_patterns) (1.17.0)\n",
            "Requirement already satisfied: charset-normalizer<4,>=2 in /usr/local/lib/python3.11/dist-packages (from requests>=2.31->jupyterlab-server<3,>=2.19.0->jupyterlab->jupyter<2.0.0,>=1.0.0->agentic_patterns) (3.4.1)\n",
            "Requirement already satisfied: urllib3<3,>=1.21.1 in /usr/local/lib/python3.11/dist-packages (from requests>=2.31->jupyterlab-server<3,>=2.19.0->jupyterlab->jupyter<2.0.0,>=1.0.0->agentic_patterns) (2.3.0)\n",
            "Requirement already satisfied: cffi>=1.0.1 in /usr/local/lib/python3.11/dist-packages (from argon2-cffi-bindings->argon2-cffi->notebook->jupyter<2.0.0,>=1.0.0->agentic_patterns) (1.17.1)\n",
            "Requirement already satisfied: pycparser in /usr/local/lib/python3.11/dist-packages (from cffi>=1.0.1->argon2-cffi-bindings->argon2-cffi->notebook->jupyter<2.0.0,>=1.0.0->agentic_patterns) (2.22)\n",
            "Requirement already satisfied: fqdn in /usr/local/lib/python3.11/dist-packages (from jsonschema[format-nongpl]>=4.18.0->jupyter-events>=0.11.0->jupyter-server<3,>=2.4.0->jupyterlab->jupyter<2.0.0,>=1.0.0->agentic_patterns) (1.5.1)\n",
            "Requirement already satisfied: isoduration in /usr/local/lib/python3.11/dist-packages (from jsonschema[format-nongpl]>=4.18.0->jupyter-events>=0.11.0->jupyter-server<3,>=2.4.0->jupyterlab->jupyter<2.0.0,>=1.0.0->agentic_patterns) (20.11.0)\n",
            "Requirement already satisfied: jsonpointer>1.13 in /usr/local/lib/python3.11/dist-packages (from jsonschema[format-nongpl]>=4.18.0->jupyter-events>=0.11.0->jupyter-server<3,>=2.4.0->jupyterlab->jupyter<2.0.0,>=1.0.0->agentic_patterns) (3.0.0)\n",
            "Requirement already satisfied: uri-template in /usr/local/lib/python3.11/dist-packages (from jsonschema[format-nongpl]>=4.18.0->jupyter-events>=0.11.0->jupyter-server<3,>=2.4.0->jupyterlab->jupyter<2.0.0,>=1.0.0->agentic_patterns) (1.3.0)\n",
            "Requirement already satisfied: webcolors>=24.6.0 in /usr/local/lib/python3.11/dist-packages (from jsonschema[format-nongpl]>=4.18.0->jupyter-events>=0.11.0->jupyter-server<3,>=2.4.0->jupyterlab->jupyter<2.0.0,>=1.0.0->agentic_patterns) (24.11.1)\n",
            "Requirement already satisfied: arrow>=0.15.0 in /usr/local/lib/python3.11/dist-packages (from isoduration->jsonschema[format-nongpl]>=4.18.0->jupyter-events>=0.11.0->jupyter-server<3,>=2.4.0->jupyterlab->jupyter<2.0.0,>=1.0.0->agentic_patterns) (1.3.0)\n",
            "Requirement already satisfied: types-python-dateutil>=2.8.10 in /usr/local/lib/python3.11/dist-packages (from arrow>=0.15.0->isoduration->jsonschema[format-nongpl]>=4.18.0->jupyter-events>=0.11.0->jupyter-server<3,>=2.4.0->jupyterlab->jupyter<2.0.0,>=1.0.0->agentic_patterns) (2.9.0.20241206)\n",
            "Downloading httpx-0.24.1-py3-none-any.whl (75 kB)\n",
            "\u001b[2K   \u001b[90m━━━━━━━━━━━━━━━━━━━━━━━━━━━━━━━━━━━━━━━━\u001b[0m \u001b[32m75.4/75.4 kB\u001b[0m \u001b[31m3.7 MB/s\u001b[0m eta \u001b[36m0:00:00\u001b[0m\n",
            "\u001b[?25hDownloading httpcore-0.17.3-py3-none-any.whl (74 kB)\n",
            "\u001b[2K   \u001b[90m━━━━━━━━━━━━━━━━━━━━━━━━━━━━━━━━━━━━━━━━\u001b[0m \u001b[32m74.5/74.5 kB\u001b[0m \u001b[31m7.3 MB/s\u001b[0m eta \u001b[36m0:00:00\u001b[0m\n",
            "\u001b[?25hDownloading jupyterlab-4.0.13-py3-none-any.whl (9.2 MB)\n",
            "\u001b[2K   \u001b[90m━━━━━━━━━━━━━━━━━━━━━━━━━━━━━━━━━━━━━━━━\u001b[0m \u001b[32m9.2/9.2 MB\u001b[0m \u001b[31m87.8 MB/s\u001b[0m eta \u001b[36m0:00:00\u001b[0m\n",
            "\u001b[?25hInstalling collected packages: httpcore, httpx, jupyterlab\n",
            "  Attempting uninstall: httpcore\n",
            "    Found existing installation: httpcore 1.0.7\n",
            "    Uninstalling httpcore-1.0.7:\n",
            "      Successfully uninstalled httpcore-1.0.7\n",
            "  Attempting uninstall: httpx\n",
            "    Found existing installation: httpx 0.28.1\n",
            "    Uninstalling httpx-0.28.1:\n",
            "      Successfully uninstalled httpx-0.28.1\n",
            "  Attempting uninstall: jupyterlab\n",
            "    Found existing installation: jupyterlab 4.4.0\n",
            "    Uninstalling jupyterlab-4.4.0:\n",
            "      Successfully uninstalled jupyterlab-4.4.0\n",
            "\u001b[31mERROR: pip's dependency resolver does not currently take into account all the packages that are installed. This behaviour is the source of the following dependency conflicts.\n",
            "google-genai 1.10.0 requires httpx<1.0.0,>=0.28.1, but you have httpx 0.24.1 which is incompatible.\u001b[0m\u001b[31m\n",
            "\u001b[0mSuccessfully installed httpcore-0.17.3 httpx-0.24.1 jupyterlab-4.0.13\n"
          ]
        },
        {
          "output_type": "display_data",
          "data": {
            "application/vnd.colab-display-data+json": {
              "pip_warning": {
                "packages": [
                  "httpcore"
                ]
              },
              "id": "fb19dacdb042459688fe618d3e08e4ac"
            }
          },
          "metadata": {}
        }
      ],
      "source": [
        "!pip install agentic_patterns\n",
        "!pip install --upgrade agentic_patterns groq httpx==0.24.1\n",
        "from agentic_patterns.multiagent_pattern.agent import Agent"
      ]
    },
    {
      "cell_type": "markdown",
      "id": "6ba412fb-9604-4146-93bb-ed0451c529f8",
      "metadata": {
        "id": "6ba412fb-9604-4146-93bb-ed0451c529f8"
      },
      "source": [
        "Let's create some example agent, to see how it works."
      ]
    },
    {
      "cell_type": "code",
      "execution_count": 44,
      "id": "3aa589d5-7825-4fe0-a269-f35474bf6da5",
      "metadata": {
        "id": "3aa589d5-7825-4fe0-a269-f35474bf6da5"
      },
      "outputs": [],
      "source": [
        "agent_example = Agent(\n",
        "    name=\"Poet Agent\",\n",
        "    backstory=\"You are a well-known poet, who enjoys creating high quality poetry.\",\n",
        "    task_description=\"Write a poem about the meaning of life\",\n",
        "    task_expected_output=\"Just output the poem, without any title or introductory sentences\",\n",
        "    llm=\"llama3-70b-8192\"\n",
        ")"
      ]
    },
    {
      "cell_type": "code",
      "execution_count": 45,
      "id": "fd71e1e3-893f-40e1-b6c5-f15e42beb851",
      "metadata": {
        "id": "fd71e1e3-893f-40e1-b6c5-f15e42beb851",
        "colab": {
          "base_uri": "https://localhost:8080/"
        },
        "outputId": "ab2bb21f-000f-46a4-bfe2-bdb11b750599"
      },
      "outputs": [
        {
          "output_type": "stream",
          "name": "stdout",
          "text": [
            "In whispers of the wind, I hear a call\n",
            "A question echoing, through it all\n",
            "A seeking for the truth, a quest to know\n",
            "The meaning of life, as the heart doth grow\n",
            "\n",
            "Is it in the beauty of a sunrise high\n",
            "Or in the love that touches, the tender sigh\n",
            "Perhaps it's in the laughter, the tears, the strife\n",
            "Or in the moments, that shape our life\n",
            "\n",
            "Maybe it's in the journey, not the destination\n",
            "A path unwinding, with each new creation\n",
            "A tale of trials, of triumphs and of falls\n",
            "A story woven, of it all\n",
            "\n",
            "Or is it in the silence, the quiet of the night\n",
            "A stillness that whispers, of a deeper light\n",
            "A knowing that transcends, the mundane and the grey\n",
            "A sense of purpose, that guides us on our way\n",
            "\n",
            "The meaning of life, a mystery so grand\n",
            "A riddle, that each heart, must solve in this land\n",
            "A quest to find, the answers that we seek\n",
            "A journey, that begins, with each new breath we speak\n"
          ]
        }
      ],
      "source": [
        "print(agent_example.run())"
      ]
    },
    {
      "cell_type": "markdown",
      "id": "a8e0e4aa-cce0-4648-a6fd-eac244662874",
      "metadata": {
        "id": "a8e0e4aa-cce0-4648-a6fd-eac244662874"
      },
      "source": [
        "You can also associate tools with the agent. Create a tool for writing some string into a CSV."
      ]
    },
    {
      "cell_type": "code",
      "execution_count": 46,
      "id": "b7fae777-3bf6-4be5-8ab8-de79f545d25a",
      "metadata": {
        "id": "b7fae777-3bf6-4be5-8ab8-de79f545d25a"
      },
      "outputs": [],
      "source": [
        "from agentic_patterns.tool_pattern.tool import tool"
      ]
    },
    {
      "cell_type": "code",
      "execution_count": 47,
      "id": "4016dc0d-cc7f-4e7a-b971-2ecfd31b79cf",
      "metadata": {
        "id": "4016dc0d-cc7f-4e7a-b971-2ecfd31b79cf"
      },
      "outputs": [],
      "source": [
        "@tool\n",
        "def write_str_to_txt(string_data: str, txt_filename: str):\n",
        "    \"\"\"\n",
        "    Writes a string to a txt file.\n",
        "\n",
        "    This function takes a string and writes it to a text file. If the file already exists,\n",
        "    it will be overwritten with the new data.\n",
        "\n",
        "    Args:\n",
        "        string_data (str): The string containing the data to be written to the file.\n",
        "        txt_filename (str): The name of the text file to which the data should be written.\n",
        "    \"\"\"\n",
        "    with open(txt_filename, 'w') as file:\n",
        "        file.write(string_data)\n",
        "        return \"File written successfully.\"\n",
        "\n",
        "  #TODO"
      ]
    },
    {
      "cell_type": "code",
      "execution_count": 48,
      "id": "7ed9d5c5-6a1a-4510-85a1-5c03c2d2fa37",
      "metadata": {
        "id": "7ed9d5c5-6a1a-4510-85a1-5c03c2d2fa37"
      },
      "outputs": [],
      "source": [
        "agent_tool_example = Agent(\n",
        "    name=\"Writer Agent\",\n",
        "    backstory=\"You are a language model specialised in writing text into .txt files\",\n",
        "    task_description=\"Write the string 'This is a Tool Agent' into './tool_agent_example.txt'\",\n",
        "    task_expected_output=\"A .txt file containing the given string\",\n",
        "    tools=write_str_to_txt,\n",
        "    llm=\"llama3-70b-8192\"\n",
        ")"
      ]
    },
    {
      "cell_type": "code",
      "execution_count": 49,
      "id": "a6214dc3-e24f-430c-99f0-6a8fe484d8ba",
      "metadata": {
        "id": "a6214dc3-e24f-430c-99f0-6a8fe484d8ba",
        "colab": {
          "base_uri": "https://localhost:8080/",
          "height": 244
        },
        "outputId": "0245993b-6f21-4105-c225-a83d2193ba55"
      },
      "outputs": [
        {
          "output_type": "stream",
          "name": "stdout",
          "text": [
            "\u001b[35m\n",
            "Thought: I need to write the string 'This is a Tool Agent' to a txt file.\n",
            "\u001b[32m\n",
            "Using Tool: write_str_to_txt\n",
            "\u001b[32m\n",
            "Tool call dict: \n",
            "{'name': 'write_str_to_txt', 'arguments': {'string_data': 'This is a Tool Agent', 'txt_filename': './tool_agent_example.txt'}, 'id': 0}\n",
            "\u001b[32m\n",
            "Tool result: \n",
            "File written successfully.\n",
            "\u001b[34m\n",
            "Observations: {0: 'File written successfully.'}\n"
          ]
        },
        {
          "output_type": "execute_result",
          "data": {
            "text/plain": [
              "'A .txt file containing the given string has been created successfully.'"
            ],
            "application/vnd.google.colaboratory.intrinsic+json": {
              "type": "string"
            }
          },
          "metadata": {},
          "execution_count": 49
        }
      ],
      "source": [
        "agent_tool_example.run()"
      ]
    },
    {
      "cell_type": "markdown",
      "id": "026c6229-5833-4a99-afa6-e45cc72fb04d",
      "metadata": {
        "id": "026c6229-5833-4a99-afa6-e45cc72fb04d"
      },
      "source": [
        "## Defining Agent Dependencies"
      ]
    },
    {
      "cell_type": "markdown",
      "id": "ab6688e9-1fdf-4b51-bb33-c63c80ce9bb7",
      "metadata": {
        "id": "ab6688e9-1fdf-4b51-bb33-c63c80ce9bb7"
      },
      "source": [
        "Let's define two agents now. The first agent composes a high-quality poem on the theme of the meaning of life, showcasing poetic creativity and expression (It is the example agent from above). The second agent then translates the poem into Ancient Greek, demonstrating linguistic expertise and cultural sensitivity."
      ]
    },
    {
      "cell_type": "code",
      "source": [
        "#TODO\n",
        "agent_1 = Agent(\n",
        "    name=\"Poet Agent\",\n",
        "    backstory=\"you are a celebrated poet with a passion for crafting exceptional verse.\",\n",
        "    task_description=\"compose a poem exploring the essence of life’s purpose.\",\n",
        "    task_expected_output=\"deliver only the poem, excluding any title or preface.\",\n",
        "    llm=\"llama-3.3-70b-versatile\"\n",
        ")\n",
        "\n",
        "agent_2 = Agent(\n",
        "    name=\"Translator Agent\",\n",
        "    backstory=\"you are a scholar of languages, masterful in Ancient Greek, with a focus on precise and culturally resonant translations.\",\n",
        "    task_description=\"render the given poem into Ancient Greek, capturing its lyrical spirit and significance.\",\n",
        "    task_expected_output=\"provide only the Ancient Greek poem, without any title or introductory text.\",\n",
        "    llm=\"llama-3.3-70b-versatile\"\n",
        ")"
      ],
      "metadata": {
        "id": "k_yCkyzByKac"
      },
      "id": "k_yCkyzByKac",
      "execution_count": 51,
      "outputs": []
    },
    {
      "cell_type": "markdown",
      "id": "565d174d-ab42-4318-b53a-1ed142512f4f",
      "metadata": {
        "id": "565d174d-ab42-4318-b53a-1ed142512f4f"
      },
      "source": [
        "We can define the agent dependencies using the `>>` operator."
      ]
    },
    {
      "cell_type": "code",
      "execution_count": 52,
      "id": "f52347ac-99b3-4695-a6a4-cf31f7784826",
      "metadata": {
        "id": "f52347ac-99b3-4695-a6a4-cf31f7784826",
        "colab": {
          "base_uri": "https://localhost:8080/"
        },
        "outputId": "05637325-8221-436a-e45a-5b85372c5e97"
      },
      "outputs": [
        {
          "output_type": "execute_result",
          "data": {
            "text/plain": [
              "Translator Agent"
            ]
          },
          "metadata": {},
          "execution_count": 52
        }
      ],
      "source": [
        "agent_1 >> agent_2"
      ]
    },
    {
      "cell_type": "markdown",
      "id": "603e5a0d-25ef-4fdf-8ed8-63bd50f90cfd",
      "metadata": {
        "id": "603e5a0d-25ef-4fdf-8ed8-63bd50f90cfd"
      },
      "source": [
        "This means `agent_2` depends on `agent_1`. We can check the dependencies and dependents of both agents."
      ]
    },
    {
      "cell_type": "code",
      "execution_count": 53,
      "id": "560148d0-ae20-45ba-b22f-938eda0be64d",
      "metadata": {
        "id": "560148d0-ae20-45ba-b22f-938eda0be64d",
        "colab": {
          "base_uri": "https://localhost:8080/"
        },
        "outputId": "37bd2909-78c6-4fed-efd3-59d112933a14"
      },
      "outputs": [
        {
          "output_type": "stream",
          "name": "stdout",
          "text": [
            "Agent 1 dependencies:  []\n",
            "Agent 1 dependents:  [Translator Agent]\n",
            "Agent 2 dependencies:  [Poet Agent]\n",
            "Agent 2 dependents:  []\n"
          ]
        }
      ],
      "source": [
        "print(\"Agent 1 dependencies: \", agent_1.dependencies)\n",
        "print(\"Agent 1 dependents: \", agent_1.dependents)\n",
        "print(\"Agent 2 dependencies: \", agent_2.dependencies)\n",
        "print(\"Agent 2 dependents: \", agent_2.dependents)"
      ]
    },
    {
      "cell_type": "markdown",
      "id": "e9276064-136c-49bc-ae95-4d2b2ba47187",
      "metadata": {
        "id": "e9276064-136c-49bc-ae95-4d2b2ba47187"
      },
      "source": [
        "Now, if we run `agent_1`, the results will be added to `agent_2`'s context."
      ]
    },
    {
      "cell_type": "code",
      "execution_count": 54,
      "id": "26f58fda-3673-4067-ad0b-a4055a476a32",
      "metadata": {
        "id": "26f58fda-3673-4067-ad0b-a4055a476a32",
        "colab": {
          "base_uri": "https://localhost:8080/"
        },
        "outputId": "9e5f90d1-4ded-4dc9-87d4-f1df1061a5f0"
      },
      "outputs": [
        {
          "output_type": "stream",
          "name": "stdout",
          "text": [
            "In whispers of the wind, a gentle breeze stirs the soul,\n",
            "A calling to awaken, to make the heart whole.\n",
            "A journey through the ages, a path yet undefined,\n",
            "To find the essence of life, and the purpose aligned.\n",
            "\n",
            "Like a river's flowing current, we twist and we turn,\n",
            "Shaping the landscape of our lives, as the moments learn.\n",
            "We search for meaning in the stars, in the beauty and the pain,\n",
            "And in the silence, we hear the whispers of our deepest gain.\n",
            "\n",
            "In the depths of our existence, a spark is lit and aglow,\n",
            "A flame that flickers with passion, with dreams yet to grow.\n",
            "It illuminates the darkness, and lights the way ahead,\n",
            "Guiding us through life's labyrinth, to the secrets we've yet to read.\n",
            "\n",
            "Through trials and tribulations, we are tempered and refined,\n",
            "Our character forged in the fire, like gold that's purified and aligned.\n",
            "We discover our strengths and weaknesses, our will and our might,\n",
            "And in the mirror of our souls, we see the beauty of our light.\n",
            "\n",
            "In the tapestry of humanity, our threads are intertwined,\n",
            "Each life a unique and vital strand, in the intricate design.\n",
            "We are woven into the fabric, of a larger story yet to be told,\n",
            "A narrative of love and hope, of dreams that never grow old.\n",
            "\n",
            "And when the final chapter, of our lives is written and done,\n",
            "We'll look back on the journey, and the purpose we've become.\n",
            "For in the essence of life, we find the meaning we've sought,\n",
            "A sense of fulfillment and peace, that our hearts have been brought.\n"
          ]
        }
      ],
      "source": [
        "print(agent_1.run())"
      ]
    },
    {
      "cell_type": "code",
      "execution_count": 55,
      "id": "cd3dccc9-c201-4a70-bebf-1b9b83b7f59d",
      "metadata": {
        "id": "cd3dccc9-c201-4a70-bebf-1b9b83b7f59d",
        "colab": {
          "base_uri": "https://localhost:8080/"
        },
        "outputId": "b1514710-4a20-4ab1-8e9d-e8dec0194bb3"
      },
      "outputs": [
        {
          "output_type": "stream",
          "name": "stdout",
          "text": [
            "Translator Agent received context: \n",
            "In whispers of the wind, a gentle breeze stirs the soul,\n",
            "A calling to awaken, to make the heart whole.\n",
            "A journey through the ages, a path yet undefined,\n",
            "To find the essence of life, and the purpose aligned.\n",
            "\n",
            "Like a river's flowing current, we twist and we turn,\n",
            "Shaping the landscape of our lives, as the moments learn.\n",
            "We search for meaning in the stars, in the beauty and the pain,\n",
            "And in the silence, we hear the whispers of our deepest gain.\n",
            "\n",
            "In the depths of our existence, a spark is lit and aglow,\n",
            "A flame that flickers with passion, with dreams yet to grow.\n",
            "It illuminates the darkness, and lights the way ahead,\n",
            "Guiding us through life's labyrinth, to the secrets we've yet to read.\n",
            "\n",
            "Through trials and tribulations, we are tempered and refined,\n",
            "Our character forged in the fire, like gold that's purified and aligned.\n",
            "We discover our strengths and weaknesses, our will and our might,\n",
            "And in the mirror of our souls, we see the beauty of our light.\n",
            "\n",
            "In the tapestry of humanity, our threads are intertwined,\n",
            "Each life a unique and vital strand, in the intricate design.\n",
            "We are woven into the fabric, of a larger story yet to be told,\n",
            "A narrative of love and hope, of dreams that never grow old.\n",
            "\n",
            "And when the final chapter, of our lives is written and done,\n",
            "We'll look back on the journey, and the purpose we've become.\n",
            "For in the essence of life, we find the meaning we've sought,\n",
            "A sense of fulfillment and peace, that our hearts have been brought.\n"
          ]
        }
      ],
      "source": [
        "print(agent_2.context)"
      ]
    },
    {
      "cell_type": "markdown",
      "id": "b4019dd7-b79f-4595-8104-9a47c64e4ba4",
      "metadata": {
        "id": "b4019dd7-b79f-4595-8104-9a47c64e4ba4"
      },
      "source": [
        "Now, if we run the second agent, it will use the context received from the previous agent to generate its output."
      ]
    },
    {
      "cell_type": "code",
      "execution_count": 56,
      "id": "a686cefc-db4f-4eb4-9e93-11bdbdd30d6d",
      "metadata": {
        "id": "a686cefc-db4f-4eb4-9e93-11bdbdd30d6d",
        "colab": {
          "base_uri": "https://localhost:8080/"
        },
        "outputId": "a6e879d8-6b49-409e-cd9b-6601fe4500ff"
      },
      "outputs": [
        {
          "output_type": "stream",
          "name": "stdout",
          "text": [
            "Ἐν ψITHρισμῷ ἀνέμου, ἀЎγασμα λείριον κινεῖ τὴν ψυχήν,\n",
            "Πρόσκλησις ἐγείρειν, ἵνα ἡ καρδία γένηται ὅλη.\n",
            "Ὁδὸς διὰ τῶν αἰώνων, τρίβος ἀόριστος,\n",
            "Εὑρεῖν τὴν οὐσίαν τοῦ βίου, καὶ τὸν σκοπὸν symptōmatos.\n",
            "\n",
            "Ὥσπερ potamos ῥέων, στρεφόμεθα καὶ τρέπομεν,\n",
            "Διαπλάττοντες τὸ τοπίων τῆς ζωῆς, ὡς αἱ στιγμὰὶ μανθάνουσι.\n",
            "Ζητοῦμεν τὸ νόημα ἐν τοῖς ἀστέροις, ἐν τῷ κάλλει καὶ τῷ πόνῳ,\n",
            "Καὶ ἐν τῇ σιγῇ, ἀκούομεν τὰ ψITHρισμὰ τοῦ βαθύτατου κέρδους ἡμῶν.\n",
            "\n",
            "Ἐν βυθῷ τῆς ὕπαρξέως, δαίμων ἠπίστατο καὶ ἀγρυπνεῖ,\n",
            "Φλόξ ἐκλείπει πασσίων, ἐν ὀνείροις ἔτι αὔξουσι.\n",
            "Λάμπει τὸ σκότος, καὶ φωτίζει τὴν ὁδόν ἡμῶν,\n",
            "Ὁδηγῶν ἡμᾶς διὰ τὸ λαβύρινθον τῆς ζωῆς, πρὸς τὰ ἀπόρρητα ἔτι ἀναγινωσκόμενα.\n",
            "\n",
            "Διὰ πειρασμῶν καὶ θλίψεων, κολαζόμεθα καὶ κατιωνίζομαι,\n",
            "Ἡ پروσωπή ημών σφυρηλατείETAi, ὡς χρυσὸς καθαρεύς.\n",
            "Ἡνrikaμεν τὰς ἰσχύας καὶ ἀσθένεις ἡμῶν, τὸ θἐλον καὶ τὴν ἰσχύν,\n",
            "Καὶ ἐν τῷ καｯατοπτρί-smōn τῆς ψυχῆς ἡμῶν, ὁρατοῦμεν τὸ κάλλος τοῦ φωτός ἡμῶν.\n",
            "\n",
            "Ἐν τῷ tapestri τῆς ἀνθρωπότητος, αἱ ἡミτραι ἡμῶν συντεθlíbασιν,\n",
            "Ἐκαστος βίος μόγIS ἴδιος καὶ ζωTIKOS, ἐν τῷ poikílōi σχήMATI.\n",
            "Ἐσμέν ἀποῤῥαφέντες εἰς τὸ ὑφάσμα, τῆς μείζονος ἱστορίας ἔτι ἀναλεγομένης,\n",
            "ΔιήγηMA AGAPĒS καì ἐλπίδος, ἐν ὀνείροις οὐ παλαιοῦσιν.\n",
            "\n",
            "Καὶ ὅταν ὁ ἔσχατος τóπος, τῆς ζωῆς ἡμῶν γέγραπται καὶ τετέλεσται,\n",
            "Ἐπισтраφήσομεν ἐπὶ τὴν ὁδόν, καὶ τὸν scopὸν ἐγένοῦμεν.\n",
            "Ἐν γὰρ τῇ οὐσίᾳ τοῦ βίου, εὑρίσκομεν τὸ νόημα ὃ ἠρατήσαμεν,\n",
            "Αἴσθημα πλήρωσις καὶ εἰρήνης, ὃ ἡ καρδία ἡμῶν ἠνέgaard.\n"
          ]
        }
      ],
      "source": [
        "print(agent_2.run())"
      ]
    },
    {
      "cell_type": "markdown",
      "id": "eb11c5a8-fc37-42e3-a521-8cf87ae86dbc",
      "metadata": {
        "id": "eb11c5a8-fc37-42e3-a521-8cf87ae86dbc"
      },
      "source": [
        "## The Crew"
      ]
    },
    {
      "cell_type": "code",
      "execution_count": 57,
      "id": "66c83cc4-87cf-4afc-855b-e5263ad95a71",
      "metadata": {
        "id": "66c83cc4-87cf-4afc-855b-e5263ad95a71"
      },
      "outputs": [],
      "source": [
        "from agentic_patterns.multiagent_pattern.crew import Crew"
      ]
    },
    {
      "cell_type": "markdown",
      "id": "fbMOj8cNFyxt",
      "metadata": {
        "id": "fbMOj8cNFyxt"
      },
      "source": [
        "In this task:\n",
        "\n",
        "Agent 1 (\"Recipe Creator Agent\") crafts a vegan pasta dish recipe.\n",
        "\n",
        "Agent 2 (\"Recipe Translator Agent\") translates that recipe into Italian.\n",
        "\n",
        "Agent 3 (\"File Writer Agent\") uses a tool to save the final translated recipe into a text file\n",
        "\n",
        "Decide Dependencies as well"
      ]
    },
    {
      "cell_type": "code",
      "source": [
        "#TODO\n",
        "with Crew() as crew:\n",
        "    agent_1 = Agent(\n",
        "        name=\"Recipe Creator Agent\",\n",
        "        backstory=\"you are a talented vegan chef renowned for designing flavorful and nutritious plant-based dishes.\",\n",
        "        task_description=\"develop a comprehensive recipe for a vegan pasta dish, listing all ingredients and providing clear cooking steps.\",\n",
        "        task_expected_output=\"well-organized vegan pasta recipe, clearly detailing ingredients and preparation instructions.\",\n",
        "        llm=\"llama-3.3-70b-versatile\"\n",
        "    )\n",
        "    agent_2 = Agent(\n",
        "        name=\"Recipe Translator Agent\",\n",
        "        backstory=\"you are a language specialist proficient in Italian, with a focus on precise translations for culinary arts.\",\n",
        "        task_description=\"convert the given vegan pasta recipe into Italian, ensuring all culinary terminology is correct and natural.\",\n",
        "        task_expected_output=\"the vegan pasta recipe in Italian, presented with clarity and linguistic accuracy.\",\n",
        "        llm=\"llama-3.3-70b-versatile\"\n",
        "    )\n",
        "    agent_3 = Agent(\n",
        "        name=\"File Writer Agent\",\n",
        "        backstory=\"you are a proficient assistant skilled in efficiently storing information in files.\",\n",
        "        task_description=\"store the Italian-translated vegan pasta recipe in a text file named 'vegan_pasta_recipe_italian.txt'.\",\n",
        "        task_expected_output=\"a confirmation message stating the recipe has been saved to 'vegan_pasta_recipe_italian.txt'.\",\n",
        "        tools=[write_str_to_txt],\n",
        "        llm=\"llama-3.3-70b-versatile\"\n",
        "    )\n",
        "    # Define dependencies\n",
        "    agent_1 >> agent_2 >> agent_3\n",
        "    #code here"
      ],
      "metadata": {
        "id": "I6veKeISyxfI"
      },
      "id": "I6veKeISyxfI",
      "execution_count": 59,
      "outputs": []
    },
    {
      "cell_type": "code",
      "execution_count": 60,
      "id": "9027cbdc-2bb0-419b-87a0-0352f59d3079",
      "metadata": {
        "id": "9027cbdc-2bb0-419b-87a0-0352f59d3079",
        "colab": {
          "base_uri": "https://localhost:8080/",
          "height": 272
        },
        "outputId": "66a6a8e2-d131-4680-9105-64ce237a07fa"
      },
      "outputs": [
        {
          "output_type": "execute_result",
          "data": {
            "image/svg+xml": "<?xml version=\"1.0\" encoding=\"UTF-8\" standalone=\"no\"?>\n<!DOCTYPE svg PUBLIC \"-//W3C//DTD SVG 1.1//EN\"\n \"http://www.w3.org/Graphics/SVG/1.1/DTD/svg11.dtd\">\n<!-- Generated by graphviz version 2.43.0 (0)\n -->\n<!-- Title: %3 Pages: 1 -->\n<svg width=\"202pt\" height=\"188pt\"\n viewBox=\"0.00 0.00 201.68 188.00\" xmlns=\"http://www.w3.org/2000/svg\" xmlns:xlink=\"http://www.w3.org/1999/xlink\">\n<g id=\"graph0\" class=\"graph\" transform=\"scale(1 1) rotate(0) translate(4 184)\">\n<title>%3</title>\n<polygon fill=\"white\" stroke=\"transparent\" points=\"-4,4 -4,-184 197.68,-184 197.68,4 -4,4\"/>\n<!-- Recipe Creator Agent -->\n<g id=\"node1\" class=\"node\">\n<title>Recipe Creator Agent</title>\n<ellipse fill=\"none\" stroke=\"black\" cx=\"96.84\" cy=\"-162\" rx=\"87.18\" ry=\"18\"/>\n<text text-anchor=\"middle\" x=\"96.84\" y=\"-158.3\" font-family=\"Times,serif\" font-size=\"14.00\">Recipe Creator Agent</text>\n</g>\n<!-- Recipe Translator Agent -->\n<g id=\"node2\" class=\"node\">\n<title>Recipe Translator Agent</title>\n<ellipse fill=\"none\" stroke=\"black\" cx=\"96.84\" cy=\"-90\" rx=\"96.68\" ry=\"18\"/>\n<text text-anchor=\"middle\" x=\"96.84\" y=\"-86.3\" font-family=\"Times,serif\" font-size=\"14.00\">Recipe Translator Agent</text>\n</g>\n<!-- Recipe Creator Agent&#45;&gt;Recipe Translator Agent -->\n<g id=\"edge1\" class=\"edge\">\n<title>Recipe Creator Agent&#45;&gt;Recipe Translator Agent</title>\n<path fill=\"none\" stroke=\"black\" d=\"M96.84,-143.7C96.84,-135.98 96.84,-126.71 96.84,-118.11\"/>\n<polygon fill=\"black\" stroke=\"black\" points=\"100.34,-118.1 96.84,-108.1 93.34,-118.1 100.34,-118.1\"/>\n</g>\n<!-- File Writer Agent -->\n<g id=\"node3\" class=\"node\">\n<title>File Writer Agent</title>\n<ellipse fill=\"none\" stroke=\"black\" cx=\"96.84\" cy=\"-18\" rx=\"72.59\" ry=\"18\"/>\n<text text-anchor=\"middle\" x=\"96.84\" y=\"-14.3\" font-family=\"Times,serif\" font-size=\"14.00\">File Writer Agent</text>\n</g>\n<!-- Recipe Translator Agent&#45;&gt;File Writer Agent -->\n<g id=\"edge2\" class=\"edge\">\n<title>Recipe Translator Agent&#45;&gt;File Writer Agent</title>\n<path fill=\"none\" stroke=\"black\" d=\"M96.84,-71.7C96.84,-63.98 96.84,-54.71 96.84,-46.11\"/>\n<polygon fill=\"black\" stroke=\"black\" points=\"100.34,-46.1 96.84,-36.1 93.34,-46.1 100.34,-46.1\"/>\n</g>\n</g>\n</svg>\n",
            "text/plain": [
              "<graphviz.graphs.Digraph at 0x7f46916f6b50>"
            ]
          },
          "metadata": {},
          "execution_count": 60
        }
      ],
      "source": [
        "crew.plot()"
      ]
    },
    {
      "cell_type": "code",
      "execution_count": 61,
      "id": "b39f70a0-2c91-40c4-ab56-8318cef7ef97",
      "metadata": {
        "id": "b39f70a0-2c91-40c4-ab56-8318cef7ef97",
        "colab": {
          "base_uri": "https://localhost:8080/"
        },
        "outputId": "1b348738-ddac-40c8-a0de-65a00b19a008"
      },
      "outputs": [
        {
          "output_type": "stream",
          "name": "stdout",
          "text": [
            "\u001b[1m\u001b[36m\n",
            "==================================================\n",
            "\u001b[35mRUNNING AGENT: Recipe Creator Agent\n",
            "\u001b[1m\u001b[36m==================================================\n",
            "\n",
            "\u001b[31m**Vegan Pasta Primavera Recipe**\n",
            "\n",
            " Servings: 4-6 people\n",
            "\n",
            "**Ingredients:**\n",
            "\n",
            "* 12 oz (340g) vegan pasta (such as spaghetti, linguine, or fettuccine)\n",
            "* 2 tablespoons olive oil\n",
            "* 1 small onion, finely chopped\n",
            "* 3 cloves garlic, minced\n",
            "* 2 cups (200g) mixed spring vegetables (such as broccoli, carrots, bell peppers, and mushrooms)\n",
            "* 1 cup (120g) cherry tomatoes, halved\n",
            "* 1 cup (250ml) vegetable broth\n",
            "* 1 teaspoon dried basil\n",
            "* 1 teaspoon dried oregano\n",
            "* Salt and pepper to taste\n",
            "* 1/4 cup (30g) nutritional yeast (optional, for cheesy flavor)\n",
            "* Fresh parsley, chopped (optional, for garnish)\n",
            "\n",
            "**Preparation Instructions:**\n",
            "\n",
            "1. **Cook the Pasta**: Bring a large pot of salted water to a boil. Cook the pasta according to the package instructions until al dente. Reserve 1 cup of pasta water before draining.\n",
            "2. **Sauté the Onion and Garlic**: In a large skillet, heat the olive oil over medium heat. Add the chopped onion and cook for 3-4 minutes, until translucent. Add the minced garlic and cook for another minute, stirring constantly to prevent burning.\n",
            "3. **Add the Mixed Vegetables**: Add the mixed spring vegetables to the skillet and cook for 4-5 minutes, until they start to tenderize. Add the cherry tomatoes and cook for an additional 2-3 minutes.\n",
            "4. **Add the Vegetable Broth and Herbs**: Pour in the vegetable broth, and add the dried basil and oregano. Stir to combine, and bring the mixture to a simmer.\n",
            "5. **Combine the Pasta and Vegetable Mixture**: Add the cooked pasta to the skillet, tossing everything together to combine. If the mixture seems dry, add some of the reserved pasta water.\n",
            "6. **Season and Serve**: Season the pasta dish with salt, pepper, and nutritional yeast (if using). Serve hot, garnished with chopped fresh parsley (if desired).\n",
            "\n",
            "**Tips and Variations:**\n",
            "\n",
            "* Customize the recipe by using your favorite spring vegetables or adding other ingredients, such as sliced bell peppers or chopped fresh spinach.\n",
            "* For an extra creamy sauce, add a tablespoon or two of vegan cream or soy yogurt towards the end of cooking time.\n",
            "* Experiment with different herbs and spices to create unique flavor profiles, such as adding a pinch of red pepper flakes for a spicy kick.\n",
            "\n",
            "Enjoy your delicious and nutritious vegan pasta primavera!\n",
            "\u001b[1m\u001b[36m\n",
            "==================================================\n",
            "\u001b[35mRUNNING AGENT: Recipe Translator Agent\n",
            "\u001b[1m\u001b[36m==================================================\n",
            "\n",
            "\u001b[31m**Ricetta di Pasta Primavera Vegana**\n",
            "\n",
            "Porzioni: 4-6 persone\n",
            "\n",
            "**Ingredienti:**\n",
            "\n",
            "* 340g di pasta vegana (come spaghetti, linguine o fettuccine)\n",
            "* 2 cucchiai di olio d'oliva\n",
            "* 1 piccola cipolla, finemente tritata\n",
            "* 3 spicchi di aglio, tritati\n",
            "* 200g di verdure di primavera miste (come broccoli, carote, peperoni e funghi)\n",
            "* 120g di pomodorini, divisi a metà\n",
            "* 250ml di brodo vegetale\n",
            "* 1 cucchiaino di basilico secco\n",
            "* 1 cucchiaino di origano secco\n",
            "* Sale e pepe a gusto\n",
            "* 30g di lievito nutrizionale (opzionale, per sapore formaggioso)\n",
            "* Prezzemolo fresco, tritato (opzionale, per guarnizione)\n",
            "\n",
            "**Istruzioni di Preparazione:**\n",
            "\n",
            "1. **Cucinare la Pasta**: Portare a ebollizione una grande pentola di acqua salata. Cuocere la pasta secondo le istruzioni del pacchetto fino a che non raggiunga la consistenza al dente. Riservare 1 tazza di acqua di cottura prima di scolare.\n",
            "2. **Soffriggere la Cipolla e l'Aglio**: In una grande padella, scaldare l'olio d'oliva a fuoco medio. Aggiungere la cipolla tritata e cuocere per 3-4 minuti, fino a che non diventi trasparente. Aggiungere l'aglio tritato e cuocere per un altro minuto, mescolando costantemente per evitare la combustione.\n",
            "3. **Aggiungere le Verdure Miste**: Aggiungere le verdure di primavera miste alla padella e cuocere per 4-5 minuti, fino a che non inizino ad ammorbidirsi. Aggiungere i pomodorini e cuocere per altri 2-3 minuti.\n",
            "4. **Aggiungere il Brodo e le Erbe**: Versare il brodo vegetale nella padella e aggiungere il basilico e l'origano secchi. Mescolare per combinare e portare la miscela a ebollizione.\n",
            "5. **Combinare la Pasta e la Miscela di Verdure**: Aggiungere la pasta cotta alla padella, mescolando tutto insieme per combinare. Se la miscela sembra asciutta, aggiungere un po' dell'acqua di cottura riservata.\n",
            "6. **Condire e Servire**: Condire il piatto di pasta con sale, pepe e lievito nutrizionale (se utilizzato). Servire caldo, guarnito con prezzemolo fresco tritato (se desiderato).\n",
            "\n",
            "**Consigli e Variazioni:**\n",
            "\n",
            "* Personalizzare la ricetta utilizzando le verdure di primavera preferite o aggiungendo altri ingredienti, come peperoni affettati o spinaci freschi tritati.\n",
            "* Per una salsa ancora più cremosa, aggiungere un cucchiaio o due di crema o yogurt di soia verso la fine del tempo di cottura.\n",
            "* Sperimentare con diverse erbe e spezie per creare profili di sapore unici, come aggiungere un pizzico di peperoncino rosso per un tocco piccante.\n",
            "\n",
            "Godetevi la vostra deliziosa e nutriente pasta primavera vegana!\n",
            "\u001b[1m\u001b[36m\n",
            "==================================================\n",
            "\u001b[35mRUNNING AGENT: File Writer Agent\n",
            "\u001b[1m\u001b[36m==================================================\n",
            "\n",
            "\u001b[31mThe Italian-translated vegan pasta recipe has been saved to 'vegan_pasta_recipe_italian.txt'.\n"
          ]
        }
      ],
      "source": [
        "crew.run()"
      ]
    },
    {
      "cell_type": "markdown",
      "id": "SoL6VNgCGNwW",
      "metadata": {
        "id": "SoL6VNgCGNwW"
      },
      "source": [
        "END OF NOTEBOOK\n",
        "\n",
        "---\n",
        "\n"
      ]
    }
  ],
  "metadata": {
    "colab": {
      "provenance": [],
      "gpuType": "T4"
    },
    "kernelspec": {
      "display_name": "Python 3",
      "name": "python3"
    },
    "language_info": {
      "name": "python"
    }
  },
  "nbformat": 4,
  "nbformat_minor": 5
}