{
  "cells": [
    {
      "cell_type": "markdown",
      "metadata": {
        "id": "YQo0hae4cIwb"
      },
      "source": [
        "# Natural Language Processing Lab\n",
        "#### Sentiment Analysis, and Named Entity Recognition"
      ]
    },
    {
      "cell_type": "code",
      "execution_count": 1,
      "metadata": {
        "colab": {
          "base_uri": "https://localhost:8080/"
        },
        "id": "WTJaRM1ZcIwc",
        "outputId": "83d241e5-7574-4216-cc04-bd876d0d9083"
      },
      "outputs": [
        {
          "data": {
            "text/plain": [
              "<torch._C.Generator at 0x7fdad5a833b0>"
            ]
          },
          "execution_count": 1,
          "metadata": {},
          "output_type": "execute_result"
        }
      ],
      "source": [
        "# Import necessary libraries\n",
        "#!pip install nltk\n",
        "import os\n",
        "import nltk\n",
        "import requests\n",
        "import zipfile\n",
        "import tarfile\n",
        "import pandas as pd\n",
        "import numpy as np\n",
        "import torch\n",
        "import torch.nn as nn\n",
        "import torch.optim as optim\n",
        "from torch.utils.data import DataLoader, Dataset\n",
        "from transformers import (\n",
        "    MarianMTModel, MarianTokenizer, pipeline,\n",
        "    AutoModelForSequenceClassification, AutoTokenizer\n",
        ")\n",
        "import spacy\n",
        "from sklearn.model_selection import train_test_split\n",
        "from sklearn.metrics import accuracy_score, classification_report\n",
        "from nltk.sentiment import SentimentIntensityAnalyzer\n",
        "import time\n",
        "import random\n",
        "import tensorflow as tf\n",
        "from tensorflow.keras.preprocessing.text import Tokenizer\n",
        "from tensorflow.keras.preprocessing.sequence import pad_sequences\n",
        "from sklearn.utils.class_weight import compute_class_weight\n",
        "from sklearn.preprocessing import LabelEncoder\n",
        "import re\n",
        "import matplotlib.pyplot as plt\n",
        "\n",
        "# Set random seeds for reproducibility\n",
        "np.random.seed(42)\n",
        "torch.manual_seed(42)\n"
      ]
    },
    {
      "cell_type": "markdown",
      "metadata": {
        "id": "zyah_vWlcIwf"
      },
      "source": [
        "# 1. Sentiment Analysis\n",
        "\n",
        "Sentiment analysis (also called opinion mining) is a Natural Language Processing (NLP) technique used to determine the emotional tone of text. It helps in identifying whether a given text expresses a positive, negative, or neutral sentiment.\n",
        "\n",
        "This section explores sentiment analysis using two approaches:\n",
        "\n",
        "1. Pre-Made Tool (VADER) from NLTK – A lexicon-based approach for quick sentiment analysis.\n",
        "2. Low-Level Deep Learning Model (TensorFlow/Keras) – A custom-built neural network for sentiment classification."
      ]
    },
    {
      "cell_type": "markdown",
      "metadata": {
        "id": "GlGmTX13Y4SG"
      },
      "source": [
        "## Dataset Download"
      ]
    },
    {
      "cell_type": "code",
      "execution_count": 2,
      "metadata": {
        "id": "db_eK4bacIwf"
      },
      "outputs": [],
      "source": [
        "# Download IMDb dataset\n",
        "def download_imdb():\n",
        "    url = \"https://ai.stanford.edu/~amaas/data/sentiment/aclImdb_v1.tar.gz\"\n",
        "    response = requests.get(url, stream=True)\n",
        "    with open(\"aclImdb_v1.tar.gz\", \"wb\") as f:\n",
        "        f.write(response.content)\n",
        "    with tarfile.open(\"aclImdb_v1.tar.gz\", \"r:gz\") as tar:\n",
        "        tar.extractall()\n",
        "    os.remove(\"aclImdb_v1.tar.gz\")\n",
        "\n",
        "\n",
        "download_imdb()\n",
        "\n",
        "# Load dataset\n",
        "\n",
        "\n",
        "def load_imdb():\n",
        "    reviews, labels = [], []\n",
        "    for label in [\"pos\", \"neg\"]:\n",
        "        folder = f\"aclImdb/train/{label}\"\n",
        "        for file in os.listdir(folder)[:500]:\n",
        "            with open(os.path.join(folder, file), \"r\", encoding=\"utf-8\") as f:\n",
        "                reviews.append(f.read())\n",
        "                labels.append(1 if label == \"pos\" else 0)\n",
        "    return reviews, labels\n",
        "\n",
        "\n",
        "reviews, labels = load_imdb()"
      ]
    },
    {
      "cell_type": "markdown",
      "metadata": {
        "id": "36ZTphlk7nU8"
      },
      "source": [
        "## Pre-made Tool VADER (To Be Done)\n",
        "\n",
        "VADER (Valence Aware Dictionary and sEntiment Reasoner) is a rule-based sentiment analysis tool available in NLTK. It uses a lexicon-based approach, assigning predefined sentiment scores to words and phrases.\n",
        "The function analyze_imdb_sentiment takes in IMDb movie reviews, calculates sentiment scores using VADER, and classifies them as positive or negative.\n",
        "\n",
        "The compound score is used to determine the final sentiment:\n",
        "1. Positive (1) if the compound score is ≥ 0\n",
        "2. Negative (0) otherwise\n",
        "\n",
        "If true labels are provided, VADER’s performance is evaluated using accuracy and a classification report.\n"
      ]
    },
    {
      "cell_type": "markdown",
      "metadata": {
        "id": "QwVVRaUyQk9l"
      },
      "source": [
        "## Your Task\n",
        "\n",
        "In this section, you will write the code that iterates over the list of reviews, obtains the sentiment scores using the VADER SentimentIntensityAnalyzer, and converts those scores to a simple binary prediction. You will then store the results in a structure that can be used for further evaluation.\n",
        "\n",
        "Your steps should include:\n",
        "1. Loop through each review in 'reviews' using a for-loop.\n",
        "2. For each review, use the VADER SentimentIntensityAnalyzer to compute the sentiment scores. (Hint: You'll receive a dictionary with 'pos', 'neu', 'neg', and 'compound' scores.)\n",
        "3. Convert the 'compound' score into a binary sentiment. For example:\n",
        "    - If 'compound' >= 0, label it as POSITIVE.\n",
        "    - Else, label it as NEGATIVE.\n",
        "4. If 'true_labels' is provided, map 1 to POSITIVE and 0 to NEGATIVE.\n",
        "5. Create a dictionary containing:\n",
        "    {\n",
        "        'review': `<the original review>`,\n",
        "        'predicted_sentiment': <\"POSITIVE\" or \"NEGATIVE\" based on the prediction made>,\n",
        "        'true_sentiment': <\"POSITIVE\" or \"NEGATIVE\" based on ith true_label (if it is given)>,\n",
        "        'compound_score': `<the VADER compound score>`\n",
        "    }\n",
        "6. Append each dictionary to a 'detailed_results' list. Also maintain a 'predictions' list with 1 for POSITIVE and 0 for NEGATIVE, which will be used to evaluate accuracy and generate a classification report.\n",
        "\n",
        "Once you have finished writing your code, confirm it runs correctly and that the output is as expected.\n"
      ]
    },
    {
      "cell_type": "code",
      "execution_count": 29,
      "metadata": {
        "colab": {
          "base_uri": "https://localhost:8080/"
        },
        "id": "xuXZPgxscIwf",
        "outputId": "46581099-47e2-4eff-f3fa-0f08f540089a"
      },
      "outputs": [
        {
          "name": "stdout",
          "output_type": "stream",
          "text": [
            "\n",
            "===== 5 Random Examples =====\n",
            "\n",
            "Review 815:\n",
            "Text: Man, I really find it hard to believe that the wonderful Alan Ball had anything to do with this mess. Having seen the first two episodes thus far, I think I can safely say this show isn't going to be ...\n",
            "Predicted: NEGATIVE\n",
            "Actual: NEGATIVE\n",
            "Confidence (compound score): -0.851\n",
            "--------------------------------------------------------------------------------\n",
            "\n",
            "Review 778:\n",
            "Text: On Broadway, A Chorus Line was pure magic. From the second the show opened with a spectacular burst of energy to the truly grand finale, a joyous curtain call of all those chorus members who we grew t...\n",
            "Predicted: POSITIVE\n",
            "Actual: NEGATIVE\n",
            "Confidence (compound score): 0.995\n",
            "--------------------------------------------------------------------------------\n",
            "\n",
            "Review 582:\n",
            "Text: You know you're in trouble when the opening narration basically tells you who survives. It all goes downhill from there. Unnecessary, \"Matrix\"-influenced bullet-time camera work. Pointless cuts to vid...\n",
            "Predicted: NEGATIVE\n",
            "Actual: NEGATIVE\n",
            "Confidence (compound score): -0.778\n",
            "--------------------------------------------------------------------------------\n",
            "\n",
            "Review 212:\n",
            "Text: Spirit is a unique and original look at western life from the point of view of a wild horse, and native Americans. The film focuses on the friendships and perils that a wild horse, Spirit, encounters ...\n",
            "Predicted: POSITIVE\n",
            "Actual: POSITIVE\n",
            "Confidence (compound score): 0.960\n",
            "--------------------------------------------------------------------------------\n",
            "\n",
            "Review 659:\n",
            "Text: This is the kind of movie you regret you put in your VCR. It is some weird bad rip off version of Stephen kings movie \"Misery (1990)\". I cannot understand how this movie got a 5.2 score, because it ha...\n",
            "Predicted: NEGATIVE\n",
            "Actual: NEGATIVE\n",
            "Confidence (compound score): -0.916\n",
            "--------------------------------------------------------------------------------\n",
            "\n",
            "===== Complete Results =====\n",
            "Total reviews analyzed: 1000\n",
            "Processing time: 2.23 seconds\n",
            "Accuracy: 0.7010\n",
            "\n",
            "Detailed Classification Report:\n",
            "              precision    recall  f1-score   support\n",
            "\n",
            "           0       0.80      0.54      0.64       500\n",
            "           1       0.65      0.87      0.74       500\n",
            "\n",
            "    accuracy                           0.70      1000\n",
            "   macro avg       0.73      0.70      0.69      1000\n",
            "weighted avg       0.73      0.70      0.69      1000\n",
            "\n"
          ]
        }
      ],
      "source": [
        "def analyze_imdb_sentiment(reviews, true_labels=None):\n",
        "    \"\"\"\n",
        "    Analyze sentiment of IMDb reviews using NLTK's VADER sentiment analyzer.\n",
        "\n",
        "    Args:\n",
        "        reviews (list): List of IMDb review texts\n",
        "        true_labels (list): Optional list of true labels for evaluation\n",
        "    \"\"\"\n",
        "    try:\n",
        "        # Download required NLTK data (only needed once)\n",
        "        try:\n",
        "            nltk.data.find('sentiment/vader_lexicon.zip')\n",
        "        except LookupError:\n",
        "            nltk.download('vader_lexicon')\n",
        "\n",
        "        # Initialize the VADER sentiment analyzer\n",
        "        sia = SentimentIntensityAnalyzer()\n",
        "\n",
        "        # Track timing\n",
        "        start_time = time.time()\n",
        "\n",
        "        # Process reviews\n",
        "        predictions = []\n",
        "        detailed_results = []\n",
        "\n",
        "        for i, review in enumerate(reviews):\n",
        "            # Get sentiment scores\n",
        "            scores = sia.polarity_scores(review)\n",
        "\n",
        "\n",
        "            # TODO code here\n",
        "            # Convert compound score to binary prediction for each review and append to predictions list (1 for positive, 0 for negative)\n",
        "            compound_score = scores['compound']\n",
        "            if compound_score >= 0:\n",
        "              predicted_sentiment = 'POSITIVE'\n",
        "              predictions.append(1)\n",
        "            else:\n",
        "              predicted_sentiment = 'NEGATIVE'\n",
        "              predictions.append(0)\n",
        "\n",
        "            if true_labels is not None:\n",
        "              true_sentiment = 'POSITIVE' if true_labels[i] == 1 else 'NEGATIVE'\n",
        "            else:\n",
        "              true_sentiment = Nonet\n",
        "            # Store detailed results\n",
        "            detailed_results.append({\n",
        "                'review' : review,\n",
        "                'predicted_sentiment': predicted_sentiment,\n",
        "                'true_sentiment': true_sentiment,\n",
        "                'compound_score': compound_score\n",
        "            })\n",
        "\n",
        "\n",
        "        processing_time = time.time() - start_time\n",
        "\n",
        "        return {\n",
        "            'predictions': predictions,\n",
        "            'detailed_results': detailed_results,\n",
        "            'processing_time': processing_time,\n",
        "            'accuracy': accuracy_score(true_labels, predictions) if true_labels else None,\n",
        "            'classification_report': classification_report(true_labels, predictions) if true_labels else None\n",
        "        }\n",
        "\n",
        "    except Exception as e:\n",
        "        print(f\"Error during sentiment analysis: {str(e)}\")\n",
        "        return None\n",
        "\n",
        "def display_results(analysis_output, num_examples=5):\n",
        "    \"\"\"\n",
        "    Display random examples and complete results.\n",
        "    \"\"\"\n",
        "    if not analysis_output:\n",
        "        return\n",
        "\n",
        "    results = analysis_output['detailed_results']\n",
        "\n",
        "    # Show random examples\n",
        "    print(f\"\\n===== {num_examples} Random Examples =====\")\n",
        "    random_indices = random.sample(range(len(results)), num_examples)\n",
        "\n",
        "    for idx in random_indices:\n",
        "        result = results[idx]\n",
        "        preview = result['review'][:200] + '...' if len(result['review']) > 200 else result['review']\n",
        "        print(f\"\\nReview {idx + 1}:\")\n",
        "        print(f\"Text: {preview}\")\n",
        "        print(f\"Predicted: {result['predicted_sentiment']}\")\n",
        "        print(f\"Actual: {result['true_sentiment']}\")\n",
        "        print(f\"Confidence (compound score): {result['compound_score']:.3f}\")\n",
        "        print(\"-\" * 80)\n",
        "\n",
        "    # Show complete results\n",
        "    print(\"\\n===== Complete Results =====\")\n",
        "    print(f\"Total reviews analyzed: {len(results)}\")\n",
        "    print(f\"Processing time: {analysis_output['processing_time']:.2f} seconds\")\n",
        "    print(f\"Accuracy: {analysis_output['accuracy']:.4f}\")\n",
        "    print(\"\\nDetailed Classification Report:\")\n",
        "    print(analysis_output['classification_report'])\n",
        "\n",
        "# Run the analysis\n",
        "if __name__ == \"__main__\":\n",
        "    # Analyze the loaded IMDb dataset\n",
        "    results = analyze_imdb_sentiment(reviews, labels)\n",
        "\n",
        "    # Display random examples and complete results\n",
        "    display_results(results, num_examples=5)"
      ]
    },
    {
      "cell_type": "markdown",
      "metadata": {
        "id": "mNdBjq9d7dCf"
      },
      "source": [
        "## Low Level Custom Implementation\n",
        "\n",
        "This section explores sentiment analysis using a deep learning model built with TensorFlow and Keras. The notebook follows a structured approach to text processing and classification:\n",
        "\n",
        "1. Data Preprocessing: Text data is tokenized and converted into padded sequences for input into the model.\n",
        "2. Model Architecture: A sequential model is defined using an embedding layer, a global average pooling layer, a dense hidden layer, and a final sigmoid activation layer for binary classification.\n",
        "3. Model Training: The dataset is split into training and validation sets, and the model is trained using the Adam optimizer with binary cross-entropy loss.\n",
        "4. Evaluation and Prediction: The model’s performance is assessed using accuracy metrics, and sample predictions are generated to verify sentiment classification.\n",
        "5. Visualization: Training history is plotted to observe accuracy and loss trends across epochs."
      ]
    },
    {
      "cell_type": "markdown",
      "metadata": {
        "id": "7p-uFNfaYkGU"
      },
      "source": [
        "### Data Preprocessing (To Be Done)\n",
        "\n",
        "Your steps should include:\n",
        "1. Create a Tokenizer object with the desired vocabulary size (max_words) and set the out-of-vocabulary token (oov_token) as `<OOV>`.\n",
        "2. Fit the Tokenizer on the collection of text reviews by calling 'fit_on_texts'.\n",
        "3. Convert the text reviews to sequences of integers using 'texts_to_sequences'.\n"
      ]
    },
    {
      "cell_type": "code",
      "execution_count": 7,
      "metadata": {
        "id": "NHjERy3FV4ZO"
      },
      "outputs": [],
      "source": [
        "def preprocess_data(reviews, labels, max_words=10000, max_len=200):\n",
        "    \"\"\"\n",
        "    Preprocess the text data for the model.\n",
        "    \"\"\"\n",
        "\n",
        "    # TODO code here\n",
        "    # Initialize and fit the tokenizer\n",
        "    tokenizer = Tokenizer(num_words=max_words, oov_token='<OOV>')\n",
        "    tokenizer.fit_on_texts(reviews)\n",
        "\n",
        "    # Convert texts to sequences\n",
        "    sequences = tokenizer.texts_to_sequences(reviews)\n",
        "\n",
        "\n",
        "    # Pad sequences (that you get after converting reviews to sequences) to ensure uniform length\n",
        "    padded_sequences = pad_sequences(sequences, maxlen=max_len, padding='post', truncating='post')\n",
        "\n",
        "    return padded_sequences, np.array(labels), tokenizer"
      ]
    },
    {
      "cell_type": "markdown",
      "metadata": {
        "id": "biSDV4b5YFfa"
      },
      "source": [
        "### Model Definition"
      ]
    },
    {
      "cell_type": "markdown",
      "metadata": {
        "id": "OW78JrFzYdZp"
      },
      "source": [
        "![sentiment_model_lr.png](data:image/png;base64,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)"
      ]
    },
    {
      "cell_type": "code",
      "execution_count": 8,
      "metadata": {
        "id": "v0TwCwD4YDZv"
      },
      "outputs": [],
      "source": [
        "def create_model(vocab_size, embedding_dim=16, max_len=200):\n",
        "    \"\"\"\n",
        "    Create a simple sequential model for sentiment analysis.\n",
        "    \"\"\"\n",
        "    # Take a look at the figure and the model code, and try to understand it.\n",
        "    model = tf.keras.Sequential([\n",
        "        tf.keras.layers.Embedding(vocab_size, embedding_dim, input_length=max_len),\n",
        "        tf.keras.layers.GlobalAveragePooling1D(),\n",
        "        tf.keras.layers.Dense(32, activation='relu'),\n",
        "        tf.keras.layers.Dropout(0.2),\n",
        "        tf.keras.layers.Dense(1, activation='sigmoid')\n",
        "    ])\n",
        "\n",
        "    model.compile(optimizer='adam',\n",
        "                 loss='binary_crossentropy',\n",
        "                 metrics=['accuracy'])\n",
        "\n",
        "    return model"
      ]
    },
    {
      "cell_type": "markdown",
      "metadata": {
        "id": "qdUIqSwvYMFQ"
      },
      "source": [
        "### Training the Model (To Be Done)\n",
        "\n",
        "In this step, you'll assemble and execute the training pipeline for your sentiment analysis model.\n",
        "Follow these instructions:\n",
        "\n",
        "1. Call the `preprocess_data` function that was implemented before with your reviews and labels:\n",
        "   - This should return X (padded sequences), y (labels as a NumPy array), and tokenizer.\n",
        "2. Split the data into training and validation sets using `train_test_split`. Use 20% of the data for testing/validation.\n",
        "3. Determine `vocab_size` by taking the minimum between `len(tokenizer.word_index) + 1` and `max_words`.\n",
        "   - The `+1` accounts for indexing from 1 instead of 0 in Keras vocabulary.\n",
        "4. Call the create_model function from above to build your model architecture."
      ]
    },
    {
      "cell_type": "code",
      "execution_count": 9,
      "metadata": {
        "colab": {
          "base_uri": "https://localhost:8080/"
        },
        "id": "FFqTVLxAV_Lu",
        "outputId": "39032b96-8785-4094-a419-43e8c43f44a5"
      },
      "outputs": [
        {
          "name": "stdout",
          "output_type": "stream",
          "text": [
            "Training model...\n"
          ]
        },
        {
          "name": "stderr",
          "output_type": "stream",
          "text": [
            "/usr/local/lib/python3.11/dist-packages/keras/src/layers/core/embedding.py:90: UserWarning: Argument `input_length` is deprecated. Just remove it.\n",
            "  warnings.warn(\n"
          ]
        },
        {
          "name": "stdout",
          "output_type": "stream",
          "text": [
            "Epoch 1/25\n",
            "\u001b[1m25/25\u001b[0m \u001b[32m━━━━━━━━━━━━━━━━━━━━\u001b[0m\u001b[37m\u001b[0m \u001b[1m4s\u001b[0m 37ms/step - accuracy: 0.4945 - loss: 0.6931 - val_accuracy: 0.4800 - val_loss: 0.6922\n",
            "Epoch 2/25\n",
            "\u001b[1m25/25\u001b[0m \u001b[32m━━━━━━━━━━━━━━━━━━━━\u001b[0m\u001b[37m\u001b[0m \u001b[1m2s\u001b[0m 7ms/step - accuracy: 0.5052 - loss: 0.6920 - val_accuracy: 0.6000 - val_loss: 0.6908\n",
            "Epoch 3/25\n",
            "\u001b[1m25/25\u001b[0m \u001b[32m━━━━━━━━━━━━━━━━━━━━\u001b[0m\u001b[37m\u001b[0m \u001b[1m0s\u001b[0m 5ms/step - accuracy: 0.6003 - loss: 0.6902 - val_accuracy: 0.5100 - val_loss: 0.6891\n",
            "Epoch 4/25\n",
            "\u001b[1m25/25\u001b[0m \u001b[32m━━━━━━━━━━━━━━━━━━━━\u001b[0m\u001b[37m\u001b[0m \u001b[1m0s\u001b[0m 4ms/step - accuracy: 0.6259 - loss: 0.6869 - val_accuracy: 0.6150 - val_loss: 0.6862\n",
            "Epoch 5/25\n",
            "\u001b[1m25/25\u001b[0m \u001b[32m━━━━━━━━━━━━━━━━━━━━\u001b[0m\u001b[37m\u001b[0m \u001b[1m0s\u001b[0m 5ms/step - accuracy: 0.7013 - loss: 0.6795 - val_accuracy: 0.7350 - val_loss: 0.6807\n",
            "Epoch 6/25\n",
            "\u001b[1m25/25\u001b[0m \u001b[32m━━━━━━━━━━━━━━━━━━━━\u001b[0m\u001b[37m\u001b[0m \u001b[1m0s\u001b[0m 5ms/step - accuracy: 0.7979 - loss: 0.6682 - val_accuracy: 0.6700 - val_loss: 0.6687\n",
            "Epoch 7/25\n",
            "\u001b[1m25/25\u001b[0m \u001b[32m━━━━━━━━━━━━━━━━━━━━\u001b[0m\u001b[37m\u001b[0m \u001b[1m0s\u001b[0m 5ms/step - accuracy: 0.7842 - loss: 0.6474 - val_accuracy: 0.7100 - val_loss: 0.6493\n",
            "Epoch 8/25\n",
            "\u001b[1m25/25\u001b[0m \u001b[32m━━━━━━━━━━━━━━━━━━━━\u001b[0m\u001b[37m\u001b[0m \u001b[1m0s\u001b[0m 5ms/step - accuracy: 0.8393 - loss: 0.6070 - val_accuracy: 0.7700 - val_loss: 0.6282\n",
            "Epoch 9/25\n",
            "\u001b[1m25/25\u001b[0m \u001b[32m━━━━━━━━━━━━━━━━━━━━\u001b[0m\u001b[37m\u001b[0m \u001b[1m0s\u001b[0m 5ms/step - accuracy: 0.8877 - loss: 0.5599 - val_accuracy: 0.7400 - val_loss: 0.6000\n",
            "Epoch 10/25\n",
            "\u001b[1m25/25\u001b[0m \u001b[32m━━━━━━━━━━━━━━━━━━━━\u001b[0m\u001b[37m\u001b[0m \u001b[1m0s\u001b[0m 5ms/step - accuracy: 0.8999 - loss: 0.5004 - val_accuracy: 0.7900 - val_loss: 0.5669\n",
            "Epoch 11/25\n",
            "\u001b[1m25/25\u001b[0m \u001b[32m━━━━━━━━━━━━━━━━━━━━\u001b[0m\u001b[37m\u001b[0m \u001b[1m0s\u001b[0m 6ms/step - accuracy: 0.9052 - loss: 0.4385 - val_accuracy: 0.7400 - val_loss: 0.5506\n",
            "Epoch 12/25\n",
            "\u001b[1m25/25\u001b[0m \u001b[32m━━━━━━━━━━━━━━━━━━━━\u001b[0m\u001b[37m\u001b[0m \u001b[1m0s\u001b[0m 6ms/step - accuracy: 0.9431 - loss: 0.3716 - val_accuracy: 0.7850 - val_loss: 0.5149\n",
            "Epoch 13/25\n",
            "\u001b[1m25/25\u001b[0m \u001b[32m━━━━━━━━━━━━━━━━━━━━\u001b[0m\u001b[37m\u001b[0m \u001b[1m0s\u001b[0m 5ms/step - accuracy: 0.9590 - loss: 0.3175 - val_accuracy: 0.8000 - val_loss: 0.4874\n",
            "Epoch 14/25\n",
            "\u001b[1m25/25\u001b[0m \u001b[32m━━━━━━━━━━━━━━━━━━━━\u001b[0m\u001b[37m\u001b[0m \u001b[1m0s\u001b[0m 5ms/step - accuracy: 0.9727 - loss: 0.2578 - val_accuracy: 0.7500 - val_loss: 0.5029\n",
            "Epoch 15/25\n",
            "\u001b[1m25/25\u001b[0m \u001b[32m━━━━━━━━━━━━━━━━━━━━\u001b[0m\u001b[37m\u001b[0m \u001b[1m0s\u001b[0m 5ms/step - accuracy: 0.9771 - loss: 0.2253 - val_accuracy: 0.8050 - val_loss: 0.4633\n",
            "Epoch 16/25\n",
            "\u001b[1m25/25\u001b[0m \u001b[32m━━━━━━━━━━━━━━━━━━━━\u001b[0m\u001b[37m\u001b[0m \u001b[1m0s\u001b[0m 5ms/step - accuracy: 0.9880 - loss: 0.1851 - val_accuracy: 0.7650 - val_loss: 0.4760\n",
            "Epoch 17/25\n",
            "\u001b[1m25/25\u001b[0m \u001b[32m━━━━━━━━━━━━━━━━━━━━\u001b[0m\u001b[37m\u001b[0m \u001b[1m0s\u001b[0m 5ms/step - accuracy: 0.9717 - loss: 0.1726 - val_accuracy: 0.7800 - val_loss: 0.4415\n",
            "Epoch 18/25\n",
            "\u001b[1m25/25\u001b[0m \u001b[32m━━━━━━━━━━━━━━━━━━━━\u001b[0m\u001b[37m\u001b[0m \u001b[1m0s\u001b[0m 5ms/step - accuracy: 0.9912 - loss: 0.1221 - val_accuracy: 0.7950 - val_loss: 0.4474\n",
            "Epoch 19/25\n",
            "\u001b[1m25/25\u001b[0m \u001b[32m━━━━━━━━━━━━━━━━━━━━\u001b[0m\u001b[37m\u001b[0m \u001b[1m0s\u001b[0m 6ms/step - accuracy: 0.9769 - loss: 0.1270 - val_accuracy: 0.7900 - val_loss: 0.4398\n",
            "Epoch 20/25\n",
            "\u001b[1m25/25\u001b[0m \u001b[32m━━━━━━━━━━━━━━━━━━━━\u001b[0m\u001b[37m\u001b[0m \u001b[1m0s\u001b[0m 5ms/step - accuracy: 0.9873 - loss: 0.1005 - val_accuracy: 0.8000 - val_loss: 0.4487\n",
            "Epoch 21/25\n",
            "\u001b[1m25/25\u001b[0m \u001b[32m━━━━━━━━━━━━━━━━━━━━\u001b[0m\u001b[37m\u001b[0m \u001b[1m0s\u001b[0m 6ms/step - accuracy: 0.9850 - loss: 0.1108 - val_accuracy: 0.8000 - val_loss: 0.4362\n",
            "Epoch 22/25\n",
            "\u001b[1m25/25\u001b[0m \u001b[32m━━━━━━━━━━━━━━━━━━━━\u001b[0m\u001b[37m\u001b[0m \u001b[1m0s\u001b[0m 5ms/step - accuracy: 0.9941 - loss: 0.0739 - val_accuracy: 0.8000 - val_loss: 0.4417\n",
            "Epoch 23/25\n",
            "\u001b[1m25/25\u001b[0m \u001b[32m━━━━━━━━━━━━━━━━━━━━\u001b[0m\u001b[37m\u001b[0m \u001b[1m0s\u001b[0m 6ms/step - accuracy: 0.9950 - loss: 0.0732 - val_accuracy: 0.8000 - val_loss: 0.4346\n",
            "Epoch 24/25\n",
            "\u001b[1m25/25\u001b[0m \u001b[32m━━━━━━━━━━━━━━━━━━━━\u001b[0m\u001b[37m\u001b[0m \u001b[1m0s\u001b[0m 4ms/step - accuracy: 0.9904 - loss: 0.0627 - val_accuracy: 0.7750 - val_loss: 0.4525\n",
            "Epoch 25/25\n",
            "\u001b[1m25/25\u001b[0m \u001b[32m━━━━━━━━━━━━━━━━━━━━\u001b[0m\u001b[37m\u001b[0m \u001b[1m0s\u001b[0m 6ms/step - accuracy: 0.9862 - loss: 0.0668 - val_accuracy: 0.7600 - val_loss: 0.4908\n"
          ]
        }
      ],
      "source": [
        "# Train the model\n",
        "def train_sentiment_model(reviews, labels, max_words=10000, max_len=200, embedding_dim=16, epochs=10):\n",
        "    \"\"\"\n",
        "    Train the sentiment analysis model.\n",
        "    \"\"\"\n",
        "    # TODO code here\n",
        "    # Preprocess data\n",
        "    X, y, tokenizer = preprocess_data(reviews, labels)\n",
        "\n",
        "    # Split into training and validation sets\n",
        "    X_train, X_val, y_train, y_val = train_test_split(X, y, test_size =0.2, random_state=42)\n",
        "\n",
        "    vocab_size = min(len(tokenizer.word_index) + 1, max_words)\n",
        "\n",
        "    # Create the model\n",
        "    model = create_model(vocab_size, embedding_dim, max_len)\n",
        "\n",
        "    # Train model (Change the variable names here according to what you used above)\n",
        "    history = model.fit(\n",
        "        X_train, y_train,\n",
        "        epochs=epochs,\n",
        "        validation_data=(X_val, y_val),\n",
        "        batch_size=32,\n",
        "        verbose=1\n",
        "    )\n",
        "\n",
        "    return model, tokenizer, history\n",
        "\n",
        "print(\"Training model...\")\n",
        "model, tokenizer, history = train_sentiment_model(reviews, labels, epochs=25)"
      ]
    },
    {
      "cell_type": "markdown",
      "metadata": {
        "id": "bZUyBdN0XQtV"
      },
      "source": [
        "### Evaluation and Prediction"
      ]
    },
    {
      "cell_type": "code",
      "execution_count": 10,
      "metadata": {
        "colab": {
          "base_uri": "https://localhost:8080/"
        },
        "id": "0jfPYqPWXOKW",
        "outputId": "76174f6b-ef20-4d8c-c7f0-9ef9b68bae0d"
      },
      "outputs": [
        {
          "name": "stdout",
          "output_type": "stream",
          "text": [
            "\n",
            "Evaluating model...\n",
            "\u001b[1m32/32\u001b[0m \u001b[32m━━━━━━━━━━━━━━━━━━━━\u001b[0m\u001b[37m\u001b[0m \u001b[1m0s\u001b[0m 8ms/step\n",
            "\n",
            "===== Example Predictions =====\n",
            "\n",
            "Review preview: I have to vote this 10 out of 10 in the rare chance that she happens to see this review, takes pity on me, whisks me to Hollywood and involves me in her freaky/funny world. But in all seriousness, it ...\n",
            "Predicted sentiment: Positive (confidence: 0.980)\n",
            "Actual sentiment: Positive\n",
            "\n",
            "Review preview: Maybe I'm a sap but this is the sweetest movies ever! I saw it for the first time when I was around 4 or 5, and I cried my eyes out. Between then and now (embarrassed at age 15) I have seen it over 25...\n",
            "Predicted sentiment: Positive (confidence: 0.786)\n",
            "Actual sentiment: Positive\n",
            "\n",
            "Review preview: This review may contain some SPOILERS.<br /><br />Just when you thought they didn't make them so extremely bad anymore, along comes Rae Dawn Chong as a space vixen and Willie Nelson as a Native Americ...\n",
            "Predicted sentiment: Negative (confidence: 0.008)\n",
            "Actual sentiment: Negative\n",
            "\n",
            "Review preview: The movie \"Holly\" is the story of a young girl who has been sold by her poor family and smuggled across the border to Cambodia to work as a prostitute in the infamous \"K11\" red light village. In the m...\n",
            "Predicted sentiment: Positive (confidence: 0.990)\n",
            "Actual sentiment: Positive\n",
            "\n",
            "Review preview: Robert Mitchum stars as Clint Tollinger in this short but tough western: Man With The Gun. Tollinger is a professional town tamer - as in, when a town needs someone to save itself; he is the one who i...\n",
            "Predicted sentiment: Positive (confidence: 0.989)\n",
            "Actual sentiment: Positive\n",
            "\n",
            "Overall accuracy: 0.9410\n"
          ]
        }
      ],
      "source": [
        "def evaluate_model(model, tokenizer, reviews, labels, max_len=200):\n",
        "    \"\"\"\n",
        "    Evaluate the model and show some predictions.\n",
        "    \"\"\"\n",
        "    # Preprocess test data\n",
        "    sequences = tokenizer.texts_to_sequences(reviews)\n",
        "    padded_sequences = pad_sequences(sequences, maxlen=max_len, padding='post', truncating='post')\n",
        "\n",
        "    # Get predictions\n",
        "    predictions = model.predict(padded_sequences)\n",
        "\n",
        "    # Print some random examples\n",
        "    indices = np.random.randint(0, len(reviews), 5)\n",
        "    print(\"\\n===== Example Predictions =====\")\n",
        "    for idx in indices:\n",
        "        pred_sentiment = \"Positive\" if predictions[idx] >= 0.5 else \"Negative\"\n",
        "        true_sentiment = \"Positive\" if labels[idx] == 1 else \"Negative\"\n",
        "        print(f\"\\nReview preview: {reviews[idx][:200]}...\")\n",
        "        print(f\"Predicted sentiment: {pred_sentiment} (confidence: {predictions[idx][0]:.3f})\")\n",
        "        print(f\"Actual sentiment: {true_sentiment}\")\n",
        "\n",
        "    # Calculate overall accuracy\n",
        "    pred_labels = (predictions >= 0.5).astype(int)\n",
        "    accuracy = np.mean(pred_labels.flatten() == labels)\n",
        "    print(f\"\\nOverall accuracy: {accuracy:.4f}\")\n",
        "print(\"\\nEvaluating model...\")\n",
        "\n",
        "evaluate_model(model, tokenizer, reviews, labels)"
      ]
    },
    {
      "cell_type": "code",
      "execution_count": 11,
      "metadata": {
        "colab": {
          "base_uri": "https://localhost:8080/",
          "height": 407
        },
        "id": "A-a0S-B07l2P",
        "outputId": "0e7caa67-57dc-41e8-cc8a-044533686978"
      },
      "outputs": [
        {
          "data": {
            "image/png": "[encoded data removed]",
            "text/plain": [
              "<Figure size 1200x400 with 2 Axes>"
            ]
          },
          "metadata": {},
          "output_type": "display_data"
        }
      ],
      "source": [
        "plt.figure(figsize=(12, 4))\n",
        "\n",
        "plt.subplot(1, 2, 1)\n",
        "plt.plot(history.history['accuracy'])\n",
        "plt.plot(history.history['val_accuracy'])\n",
        "plt.title('Model Accuracy')\n",
        "plt.ylabel('Accuracy')\n",
        "plt.xlabel('Epoch')\n",
        "plt.legend(['Train', 'Validation'])\n",
        "\n",
        "plt.subplot(1, 2, 2)\n",
        "plt.plot(history.history['loss'])\n",
        "plt.plot(history.history['val_loss'])\n",
        "plt.title('Model Loss')\n",
        "plt.ylabel('Loss')\n",
        "plt.xlabel('Epoch')\n",
        "plt.legend(['Train', 'Validation'])\n",
        "\n",
        "plt.tight_layout()\n",
        "plt.show()"
      ]
    },
    {
      "cell_type": "markdown",
      "metadata": {
        "id": "rAirJ_BrQk9u"
      },
      "source": [
        "## Analysis\n",
        "1. Compare the Accuracies of the custom implementation and the pre-made tool. Which one performed better?\n",
        "2. The code below uses a pre-trained BERT-based sentiment analysis model. Enter some of the inputs from above which were not correctly classified by the above implementations and comment on the results (if the outputs were accurate or not)."
      ]
    },
    {
      "cell_type": "code",
      "execution_count": 13,
      "metadata": {
        "colab": {
          "base_uri": "https://localhost:8080/"
        },
        "id": "zZSxsOM1Qk9v",
        "outputId": "426ffaf7-3db3-4370-f195-83fa63b1a91c"
      },
      "outputs": [
        {
          "name": "stderr",
          "output_type": "stream",
          "text": [
            "No model was supplied, defaulted to distilbert/distilbert-base-uncased-finetuned-sst-2-english and revision 714eb0f (https://huggingface.co/distilbert/distilbert-base-uncased-finetuned-sst-2-english).\n",
            "Using a pipeline without specifying a model name and revision in production is not recommended.\n",
            "Device set to use cuda:0\n"
          ]
        }
      ],
      "source": [
        "from transformers import pipeline\n",
        "sentiment_pipeline=pipeline(\"sentiment-analysis\")\n",
        "result=sentiment_pipeline(\"\") #enter the review here\n",
        "print(result)"
      ]
    },
    {
      "cell_type": "code",
      "execution_count": 28,
      "metadata": {
        "colab": {
          "base_uri": "https://localhost:8080/"
        },
        "id": "Q3U-uJx_phht",
        "outputId": "2e2ecc77-13ce-4eae-9d29-42830306055d"
      },
      "outputs": [
        {
          "name": "stdout",
          "output_type": "stream",
          "text": [
            "[{'label': 'NEGATIVE', 'score': 0.9997912049293518}]\n"
          ]
        }
      ],
      "source": [
        "result=sentiment_pipeline(\"Should have been titled 'Balderdash!' Little in the film is true except the name of the island and the fact submarines were involved. Little more than training film quality with poor camera work, mudd\") #enter the review here\n",
        "print(result)"
      ]
    },
    {
      "cell_type": "code",
      "execution_count": 31,
      "metadata": {
        "colab": {
          "base_uri": "https://localhost:8080/"
        },
        "id": "OIL1mGOUpiS3",
        "outputId": "6708a9b7-a3f6-498d-ac56-bb096857a1c1"
      },
      "outputs": [
        {
          "name": "stdout",
          "output_type": "stream",
          "text": [
            "[{'label': 'POSITIVE', 'score': 0.9998577833175659}]\n"
          ]
        }
      ],
      "source": [
        "result=sentiment_pipeline(\"On Broadway, A Chorus Line was pure magic. From the second the show opened with a spectacular burst of energy to the truly grand finale, a joyous curtain call of all those chorus members who we grew\") #enter the review here\n",
        "print(result) #wrongy predicted"
      ]
    },
    {
      "cell_type": "code",
      "execution_count": 26,
      "metadata": {
        "colab": {
          "base_uri": "https://localhost:8080/"
        },
        "id": "JzK9tsbOo91y",
        "outputId": "a1015426-0757-4414-f00c-23514f893251"
      },
      "outputs": [
        {
          "name": "stdout",
          "output_type": "stream",
          "text": [
            "[{'label': 'POSITIVE', 'score': 0.9994908571243286}]\n"
          ]
        }
      ],
      "source": [
        "result=sentiment_pipeline(\"Its about time that Gunga Din is released on DVD. I cannot accurately say how many times I have watched this fine film but, I never tire of it. The lead actors worked so well together. Victor Mclaglen\") #enter the review here\n",
        "print(result)"
      ]
    },
    {
      "cell_type": "code",
      "execution_count": 14,
      "metadata": {
        "colab": {
          "base_uri": "https://localhost:8080/"
        },
        "id": "SXvivoSTlDnf",
        "outputId": "e3e9f9e4-0008-49a4-8688-2a065259ebff"
      },
      "outputs": [
        {
          "name": "stdout",
          "output_type": "stream",
          "text": [
            "[{'label': 'POSITIVE', 'score': 0.9911991953849792}]\n"
          ]
        }
      ],
      "source": [
        "result=sentiment_pipeline(\"First of all, I have to say I have worked for blockbuster and have seen quite a few movies to the point its tough for me to find something I haven't seen. Taking this into account, I want everyone to\") #enter the review here\n",
        "print(result)"
      ]
    },
    {
      "cell_type": "code",
      "execution_count": 15,
      "metadata": {
        "colab": {
          "base_uri": "https://localhost:8080/"
        },
        "id": "-rI8b-BXlVK9",
        "outputId": "d71d36b5-6edf-4b57-af4c-d173f741cfe8"
      },
      "outputs": [
        {
          "name": "stdout",
          "output_type": "stream",
          "text": [
            "[{'label': 'NEGATIVE', 'score': 0.9057133197784424}]\n"
          ]
        }
      ],
      "source": [
        "result=sentiment_pipeline(\"shut it off. The prologue with Fu Manchu's birthday, and the opening credits of the assassins training, is amusing. Then it drops off faster than hair sprayed with Neat. Look for a cameo by Cato i\") #enter the review here\n",
        "print(result)"
      ]
    },
    {
      "cell_type": "code",
      "execution_count": 16,
      "metadata": {
        "colab": {
          "base_uri": "https://localhost:8080/"
        },
        "id": "HJCmKFZ3lnVf",
        "outputId": "c8df05fc-a076-4609-9886-e2d8c500082b"
      },
      "outputs": [
        {
          "name": "stdout",
          "output_type": "stream",
          "text": [
            "[{'label': 'NEGATIVE', 'score': 0.8806878328323364}]\n"
          ]
        }
      ],
      "source": [
        "result=sentiment_pipeline(\"Hey if you have a little over an hour to kill and find paint to be too exciting I'd suggest it. If thou you happen to like cheap b-movies like me it's good for a giggle! Other than that I wouldn't sug\") #enter the review here\n",
        "print(result)"
      ]
    },
    {
      "cell_type": "code",
      "execution_count": 17,
      "metadata": {
        "colab": {
          "base_uri": "https://localhost:8080/"
        },
        "id": "hcmuJwUClPu6",
        "outputId": "75b98cc2-3b51-4628-8aa5-770427b02099"
      },
      "outputs": [
        {
          "name": "stdout",
          "output_type": "stream",
          "text": [
            "[{'label': 'POSITIVE', 'score': 0.9801269769668579}]\n"
          ]
        }
      ],
      "source": [
        "result=sentiment_pipeline(\"TeA Turkish Bath sequence in a film noir located in New York in the 50's, that must be a hint at something ! Something that curiously, in all the previous comments, no one has pointed out , but seem\") #enter the review here\n",
        "print(result)"
      ]
    },
    {
      "cell_type": "code",
      "execution_count": 22,
      "metadata": {
        "colab": {
          "base_uri": "https://localhost:8080/"
        },
        "id": "4RdeSQTyl-0n",
        "outputId": "78a91388-ef04-49c2-dd82-fed59cea1e25"
      },
      "outputs": [
        {
          "name": "stdout",
          "output_type": "stream",
          "text": [
            "[{'label': 'POSITIVE', 'score': 0.9997648596763611}]\n"
          ]
        }
      ],
      "source": [
        "result=sentiment_pipeline(\"Don't get me wrong, this is a terrible, clichéd film, but it is a delight for fans of Olivia Hussey - quite possibly the most intoxicating beauty ever to grace the silver screen. One poster stated tha\") #enter the review here\n",
        "print(result) #wrongly predicted"
      ]
    },
    {
      "cell_type": "code",
      "execution_count": 23,
      "metadata": {
        "colab": {
          "base_uri": "https://localhost:8080/"
        },
        "id": "QzKJ82DAoqWq",
        "outputId": "6b614575-2370-4cac-eb2f-0a10ecc93306"
      },
      "outputs": [
        {
          "name": "stdout",
          "output_type": "stream",
          "text": [
            "[{'label': 'NEGATIVE', 'score': 0.9872410297393799}]\n"
          ]
        }
      ],
      "source": [
        "result=sentiment_pipeline(\"I'll make this short and sweet....this movie sucked!!!!!!<br /><br />I watched part 1 earlier today and thought it was one of the greatest films ever, gave it 9 out of 10 stars. So I thought perhaps\") #enter the review here\n",
        "print(result)"
      ]
    },
    {
      "cell_type": "code",
      "execution_count": 24,
      "metadata": {
        "colab": {
          "base_uri": "https://localhost:8080/"
        },
        "id": "xbTV33pvo3ST",
        "outputId": "7c93e4c6-80fc-4150-b6f4-ea48393b65db"
      },
      "outputs": [
        {
          "name": "stdout",
          "output_type": "stream",
          "text": [
            "[{'label': 'NEGATIVE', 'score': 0.9997003078460693}]\n"
          ]
        }
      ],
      "source": [
        "result=sentiment_pipeline(\"What do you expect when there is no script to begin with, and therefore nothing that the director can work with. Hayek and Farrell, and Donaldson and Kirkin are good actors, they just don't have anyth\") #enter the review here\n",
        "print(result)"
      ]
    },
    {
      "cell_type": "markdown",
      "metadata": {
        "id": "wdeks6xHqFJv"
      },
      "source": [
        "# Comments\n",
        "out of ten sentiments, 2 were predicted wrong by the BERT,\n",
        "over all accuracy is better for the BERT than the custom built model.\n",
        "the wrongly predicted (2 out of 10) and correctly classified sentiment score is higher for the BERT model, shows the model is pretty highly confident about the classifications. some reviews wrongly predicted indicate that the model failed to understand sarcasm or naunced language like the 'Don't get me wrong, this.....' review started with negative but ended with a positive sentiment, confusing the model to predict wrong.\n"
      ]
    },
    {
      "cell_type": "code",
      "execution_count": null,
      "metadata": {
        "id": "WaQjK-wLtm_M"
      },
      "outputs": [],
      "source": []
    }
  ],
  "metadata": {
    "accelerator": "GPU",
    "colab": {
      "collapsed_sections": [
        "YQo0hae4cIwb",
        "zyah_vWlcIwf",
        "rZhxLIdZcIwf"
      ],
      "gpuType": "T4",
      "provenance": []
    },
    "kernelspec": {
      "display_name": "Python 3",
      "name": "python3"
    },
    "language_info": {
      "codemirror_mode": {
        "name": "ipython",
        "version": 3
      },
      "file_extension": ".py",
      "mimetype": "text/x-python",
      "name": "python",
      "nbconvert_exporter": "python",
      "pygments_lexer": "ipython3",
      "version": "3.13.0"
    }
  },
  "nbformat": 4,
  "nbformat_minor": 0
}
